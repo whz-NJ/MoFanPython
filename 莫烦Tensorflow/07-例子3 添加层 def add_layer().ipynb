{
 "cells": [
  {
   "cell_type": "markdown",
   "id": "13349a78",
   "metadata": {},
   "source": [
    "学习资料:\n",
    "\n",
    "+ [相关代码](https://github.com/MorvanZhou/tutorials/blob/master/tensorflowTUT/tensorflow10_def_add_layer.py)\n",
    "+ [为 TF 2017 打造的新版可视化教学代码](https://github.com/MorvanZhou/Tensorflow-Tutorial)"
   ]
  },
  {
   "cell_type": "markdown",
   "id": "b385f9c1",
   "metadata": {},
   "source": [
    "### 定义 add_layer()\n",
    "在 Tensorflow 里定义一个添加层的函数可以很容易的添加神经层,为之后的添加省下不少时间.\n",
    "\n",
    "神经层里常见的参数通常有weights、biases和激励函数。\n",
    "\n",
    "首先，我们需要导入tensorflow模块。"
   ]
  },
  {
   "cell_type": "code",
   "execution_count": 1,
   "id": "28356a7d",
   "metadata": {},
   "outputs": [],
   "source": [
    "import tensorflow as tf"
   ]
  },
  {
   "cell_type": "markdown",
   "id": "5ed2e71c",
   "metadata": {},
   "source": [
    "然后定义添加神经层的函数def add_layer(),它有四个参数：输入值、输入的大小、输出的大小和激励函数，我们设定默认的激励函数是None。\n",
    "def add_layer(inputs, in_size, out_size, activation_function=None):"
   ]
  },
  {
   "cell_type": "markdown",
   "id": "60d101ab",
   "metadata": {},
   "source": [
    "接下来，我们开始定义weights和biases。\n",
    "\n",
    "因为在生成初始参数时，随机变量(normal distribution)会比全部为0要好很多，所以我们这里的weights为一个in_size行, out_size列的随机变量矩阵。\n",
    "\n",
    "Weights = tf.Variable(tf.random_normal([in_size, out_size]))"
   ]
  },
  {
   "cell_type": "code",
   "execution_count": 3,
   "id": "ff1c930a",
   "metadata": {},
   "outputs": [],
   "source": [
    "import tensorflow as tf\n",
    "\n",
    "\n",
    "def add_layer(inputs, in_size, out_size, activation_function=None):\n",
    "    Weights = tf.Variable(tf.random_normal([in_size, out_size]))\n",
    "    biases = tf.Variable(tf.zeros([1, out_size]) + 0.1)\n",
    "    Wx_plus_b = tf.matmul(inputs, Weights) + biases\n",
    "    if activation_function is None:\n",
    "        outputs = Wx_plus_b\n",
    "    else:\n",
    "        outputs = activation_function(Wx_plus_b)\n",
    "    return outputs"
   ]
  },
  {
   "cell_type": "code",
   "execution_count": null,
   "id": "cee5b3a5",
   "metadata": {},
   "outputs": [],
   "source": []
  }
 ],
 "metadata": {
  "kernelspec": {
   "display_name": "Python 3",
   "language": "python",
   "name": "python3"
  },
  "language_info": {
   "codemirror_mode": {
    "name": "ipython",
    "version": 3
   },
   "file_extension": ".py",
   "mimetype": "text/x-python",
   "name": "python",
   "nbconvert_exporter": "python",
   "pygments_lexer": "ipython3",
   "version": "3.6.13"
  }
 },
 "nbformat": 4,
 "nbformat_minor": 5
}
