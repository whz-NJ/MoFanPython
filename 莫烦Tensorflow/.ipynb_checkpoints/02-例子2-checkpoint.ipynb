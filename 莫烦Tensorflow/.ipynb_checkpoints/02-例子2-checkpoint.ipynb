{
 "cells": [
  {
   "cell_type": "markdown",
   "id": "f449c24f",
   "metadata": {},
   "source": [
    "学习资料:\n",
    "\n",
    "[相关代码](https://github.com/MorvanZhou/tutorials/tree/master/tensorflowTUT/tf5_example2)  \n",
    "为 TF 2017 打造的[新版可视化教学代码](https://github.com/MorvanZhou/Tensorflow-Tutorial)  \n",
    "\n",
    "\n",
    "Tensorflow 是非常重视结构的, 我们得建立好了神经网络的结构, 才能将数字放进去, 运行这个结构.\n",
    "\n",
    "这个例子简单的阐述了 tensorflow 当中如何用代码来运行我们搭建的结构."
   ]
  },
  {
   "cell_type": "markdown",
   "id": "f4667d6d",
   "metadata": {},
   "source": [
    "### 创建数据\n",
    "首先, 我们这次需要加载 tensorflow 和 numpy 两个模块, 并且使用 numpy 来创建我们的数据."
   ]
  },
  {
   "cell_type": "code",
   "execution_count": 1,
   "id": "a50bc2dc",
   "metadata": {},
   "outputs": [],
   "source": [
    "import tensorflow as tf\n",
    "import numpy as np\n",
    "\n",
    "# create data\n",
    "x_data = np.random.rand(100).astype(np.float32)\n",
    "y_data = x_data*0.1 + 0.3"
   ]
  },
  {
   "cell_type": "markdown",
   "id": "696b0f22",
   "metadata": {},
   "source": [
    "接着, 我们用 tf.Variable 来创建描述 y 的参数. 我们可以把 y_data = x_data*0.1 + 0.3 想象成 y=Weights * x + biases, 然后神经网络也就是学着把 Weights 变成 0.1, biases 变成 0.3."
   ]
  },
  {
   "cell_type": "markdown",
   "id": "dabda2ef",
   "metadata": {},
   "source": [
    "### 搭建模型"
   ]
  },
  {
   "cell_type": "code",
   "execution_count": 2,
   "id": "8275dd9e",
   "metadata": {},
   "outputs": [],
   "source": [
    "Weights = tf.Variable(tf.random_uniform([1], -1.0, 1.0))\n",
    "biases = tf.Variable(tf.zeros([1]))\n",
    "\n",
    "y = Weights*x_data + biases"
   ]
  },
  {
   "cell_type": "markdown",
   "id": "1349ba4a",
   "metadata": {},
   "source": [
    "### 计算误差\n",
    "接着就是计算 y 和 y_data 的误差:"
   ]
  },
  {
   "cell_type": "code",
   "execution_count": 3,
   "id": "9fe4d477",
   "metadata": {},
   "outputs": [],
   "source": [
    "loss = tf.reduce_mean(tf.square(y-y_data))"
   ]
  },
  {
   "cell_type": "markdown",
   "id": "b1c659f8",
   "metadata": {},
   "source": [
    "### 传播误差\n",
    "反向传递误差的工作就教给optimizer了, 我们使用的误差传递方法是梯度下降法: Gradient Descent 让后我们使用 optimizer 来进行参数的更新."
   ]
  },
  {
   "cell_type": "code",
   "execution_count": 4,
   "id": "7bc68381",
   "metadata": {},
   "outputs": [],
   "source": [
    "optimizer = tf.train.GradientDescentOptimizer(0.5)\n",
    "train = optimizer.minimize(loss)"
   ]
  },
  {
   "cell_type": "markdown",
   "id": "950bbe9a",
   "metadata": {},
   "source": [
    "## 训练\n",
    "到目前为止, 我们只是建立了神经网络的结构, 还没有使用这个结构. 在使用这个结构之前, 我们必须先初始化所有之前定义的Variable, 所以这一步是很重要的!"
   ]
  },
  {
   "cell_type": "code",
   "execution_count": 5,
   "id": "cf4d906f",
   "metadata": {},
   "outputs": [],
   "source": [
    "# init = tf.initialize_all_variables() # tf 马上就要废弃这种写法\n",
    "init = tf.global_variables_initializer()  # 替换成这样就好"
   ]
  },
  {
   "cell_type": "markdown",
   "id": "f3ff7621",
   "metadata": {},
   "source": [
    "接着,我们再创建会话 Session. 我们会在下一节中详细讲解 Session. 我们用 Session 来执行 init 初始化步骤. 并且, 用 Session 来 run 每一次 training 的数据. 逐步提升神经网络的预测准确性."
   ]
  },
  {
   "cell_type": "code",
   "execution_count": 6,
   "id": "4c8d64fe",
   "metadata": {},
   "outputs": [
    {
     "name": "stdout",
     "output_type": "stream",
     "text": [
      "0 [0.07082799] [0.4581556]\n",
      "20 [0.08051917] [0.31109872]\n",
      "40 [0.09578557] [0.30240107]\n",
      "60 [0.09908827] [0.30051947]\n",
      "80 [0.09980275] [0.3001124]\n",
      "100 [0.09995732] [0.30002433]\n",
      "120 [0.09999079] [0.30000526]\n",
      "140 [0.09999801] [0.30000114]\n",
      "160 [0.09999957] [0.30000025]\n",
      "180 [0.09999991] [0.30000007]\n",
      "200 [0.09999991] [0.30000007]\n"
     ]
    }
   ],
   "source": [
    "sess = tf.Session()\n",
    "sess.run(init)          # Very important\n",
    "\n",
    "for step in range(201):\n",
    "    sess.run(train)\n",
    "    if step % 20 == 0:\n",
    "        print(step, sess.run(Weights), sess.run(biases))"
   ]
  },
  {
   "cell_type": "code",
   "execution_count": null,
   "id": "fa563a25",
   "metadata": {},
   "outputs": [],
   "source": []
  }
 ],
 "metadata": {
  "kernelspec": {
   "display_name": "Python 3",
   "language": "python",
   "name": "python3"
  },
  "language_info": {
   "codemirror_mode": {
    "name": "ipython",
    "version": 3
   },
   "file_extension": ".py",
   "mimetype": "text/x-python",
   "name": "python",
   "nbconvert_exporter": "python",
   "pygments_lexer": "ipython3",
   "version": "3.6.13"
  }
 },
 "nbformat": 4,
 "nbformat_minor": 5
}
