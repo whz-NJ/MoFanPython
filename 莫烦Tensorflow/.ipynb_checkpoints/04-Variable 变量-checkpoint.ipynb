{
 "cells": [
  {
   "cell_type": "markdown",
   "id": "d89f2c19",
   "metadata": {},
   "source": [
    "学习资料:\n",
    "\n",
    "[相关代码](https://github.com/MorvanZhou/tutorials/blob/master/tensorflowTUT/tensorflow7_variable.py)  \n",
    "为 TF 2017 打造的[新版可视化教学代码](https://github.com/MorvanZhou/Tensorflow-Tutorial)  "
   ]
  },
  {
   "cell_type": "markdown",
   "id": "7751e941",
   "metadata": {},
   "source": [
    "### 简单运用\n",
    "这节课我们学习如何在 Tensorflow 中使用 Variable .\n",
    "\n",
    "在 Tensorflow 中，定义了某字符串是变量，它才是变量，这一点是与 Python 所不同的。\n",
    "\n",
    "定义语法： state = tf.Variable()"
   ]
  },
  {
   "cell_type": "code",
   "execution_count": 1,
   "id": "494789b5",
   "metadata": {},
   "outputs": [],
   "source": [
    "import tensorflow as tf\n",
    "\n",
    "state = tf.Variable(0, name='counter')\n",
    "\n",
    "# 定义常量 one\n",
    "one = tf.constant(1)\n",
    "\n",
    "# 定义加法步骤 (注: 此步并没有直接计算)\n",
    "new_value = tf.add(state, one)\n",
    "\n",
    "# 将 State 更新成 new_value\n",
    "update = tf.assign(state, new_value)"
   ]
  },
  {
   "cell_type": "markdown",
   "id": "aa48226b",
   "metadata": {},
   "source": [
    "如果你在 Tensorflow 中设定了变量，那么初始化变量是最重要的！！所以定义了变量以后, 一定要定义 init = tf.initialize_all_variables() .\n",
    "\n",
    "到这里变量还是没有被激活，需要再在 sess 里, sess.run(init) , 激活 init 这一步."
   ]
  },
  {
   "cell_type": "code",
   "execution_count": 2,
   "id": "61ae80a3",
   "metadata": {},
   "outputs": [
    {
     "name": "stdout",
     "output_type": "stream",
     "text": [
      "1\n",
      "2\n",
      "3\n"
     ]
    }
   ],
   "source": [
    "# 如果定义 Variable, 就一定要 initialize\n",
    "# init = tf.initialize_all_variables() # tf 马上就要废弃这种写法\n",
    "init = tf.global_variables_initializer()  # 替换成这样就好\n",
    " \n",
    "# 使用 Session\n",
    "with tf.Session() as sess:\n",
    "    sess.run(init)\n",
    "    for _ in range(3):\n",
    "        sess.run(update)\n",
    "        print(sess.run(state))"
   ]
  },
  {
   "cell_type": "markdown",
   "id": "b5a43d8c",
   "metadata": {},
   "source": [
    "注意：直接 print(state) 不起作用！！\n",
    "\n",
    "一定要把 sess 的指针指向 state 再进行 print 才能得到想要的结果！\n",
    "\n",
    "以上就是我们今天所学的 Variable 打开模式，欢迎继续学习下一章 ———— Tensorflow 中的 Placeholder。"
   ]
  },
  {
   "cell_type": "code",
   "execution_count": null,
   "id": "65088ef5",
   "metadata": {},
   "outputs": [],
   "source": []
  }
 ],
 "metadata": {
  "kernelspec": {
   "display_name": "Python 3",
   "language": "python",
   "name": "python3"
  },
  "language_info": {
   "codemirror_mode": {
    "name": "ipython",
    "version": 3
   },
   "file_extension": ".py",
   "mimetype": "text/x-python",
   "name": "python",
   "nbconvert_exporter": "python",
   "pygments_lexer": "ipython3",
   "version": "3.6.13"
  }
 },
 "nbformat": 4,
 "nbformat_minor": 5
}
