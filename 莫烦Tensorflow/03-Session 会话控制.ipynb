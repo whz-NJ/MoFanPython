{
 "cells": [
  {
   "cell_type": "markdown",
   "id": "105ed8d7",
   "metadata": {},
   "source": [
    "学习资料:\n",
    "\n",
    "[相关代码](https://github.com/MorvanZhou/tutorials/blob/master/tensorflowTUT/tensorflow6_session.py)  \n",
    "为 TF 2017 打造的[新版可视化教学代码](https://github.com/MorvanZhou/Tensorflow-Tutorial)  "
   ]
  },
  {
   "cell_type": "markdown",
   "id": "0a483dd2",
   "metadata": {},
   "source": [
    "### 简单运用\n",
    "欢迎回来！这一次我们会讲到 Tensorflow 中的 Session, Session 是 Tensorflow 为了控制,和输出文件的执行的语句. 运行 session.run() 可以获得你要得知的运算结果, 或者是你所要运算的部分.\n",
    "\n",
    "首先，我们这次需要加载 Tensorflow ，然后建立两个 matrix ,输出两个 matrix 矩阵相乘的结果。"
   ]
  },
  {
   "cell_type": "code",
   "execution_count": 1,
   "id": "1210afbe",
   "metadata": {},
   "outputs": [],
   "source": [
    "import tensorflow as tf\n",
    "\n",
    "# create two matrixes\n",
    "\n",
    "matrix1 = tf.constant([[3,3]])\n",
    "matrix2 = tf.constant([[2],\n",
    "                       [2]])\n",
    "product = tf.matmul(matrix1,matrix2)"
   ]
  },
  {
   "cell_type": "markdown",
   "id": "4120af72",
   "metadata": {},
   "source": [
    "因为 product 不是直接计算的步骤, 所以我们会要使用 Session 来激活 product 并得到计算结果. 有两种形式使用会话控制 Session 。"
   ]
  },
  {
   "cell_type": "code",
   "execution_count": null,
   "id": "b4c600b1",
   "metadata": {},
   "outputs": [],
   "source": []
  }
 ],
 "metadata": {
  "kernelspec": {
   "display_name": "Python 3",
   "language": "python",
   "name": "python3"
  },
  "language_info": {
   "codemirror_mode": {
    "name": "ipython",
    "version": 3
   },
   "file_extension": ".py",
   "mimetype": "text/x-python",
   "name": "python",
   "nbconvert_exporter": "python",
   "pygments_lexer": "ipython3",
   "version": "3.6.13"
  }
 },
 "nbformat": 4,
 "nbformat_minor": 5
}
