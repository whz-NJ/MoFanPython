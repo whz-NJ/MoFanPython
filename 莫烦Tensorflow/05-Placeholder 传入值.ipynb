{
 "cells": [
  {
   "cell_type": "markdown",
   "id": "6fbd463d",
   "metadata": {},
   "source": [
    "学习资料:\n",
    "\n",
    "+ [相关代码](https://github.com/MorvanZhou/tutorials/blob/master/tensorflowTUT/tensorflow8_feeds.py)  \n",
    "+ 为 TF 2017 打造的[新版可视化教学代码](https://github.com/MorvanZhou/Tensorflow-Tutorial)  "
   ]
  },
  {
   "cell_type": "markdown",
   "id": "00d58802",
   "metadata": {},
   "source": [
    "### 简单运用\n",
    "这一次我们会讲到 Tensorflow 中的 placeholder , **placeholder 是 Tensorflow 中的占位符，暂时储存变量.**\n",
    "\n",
    "Tensorflow 如果想要从外部传入data, 那就需要用到 tf.placeholder(), 然后以这种形式传输数据 sess.run(\\*\\*\\*, feed_dict={input: \\*\\*}).\n",
    "\n",
    "示例："
   ]
  },
  {
   "cell_type": "code",
   "execution_count": 2,
   "id": "b0aad2b1",
   "metadata": {},
   "outputs": [],
   "source": [
    "import tensorflow as tf\n",
    "\n",
    "#在 Tensorflow 中需要定义 placeholder 的 type ，一般为 float32 形式\n",
    "input1 = tf.placeholder(tf.float32)\n",
    "input2 = tf.placeholder(tf.float32)\n",
    "\n",
    "# mul = multiply 是将input1和input2 做乘法运算，并输出为 output \n",
    "ouput = tf.multiply(input1, input2)"
   ]
  },
  {
   "cell_type": "markdown",
   "id": "c3b8b168",
   "metadata": {},
   "source": [
    "接下来, 传值的工作交给了 sess.run() , 需要传入的值放在了feed_dict={} 并一一对应每一个 input. placeholder 与 feed_dict={} 是绑定在一起出现的。"
   ]
  },
  {
   "cell_type": "code",
   "execution_count": 3,
   "id": "0c7d4634",
   "metadata": {},
   "outputs": [
    {
     "name": "stdout",
     "output_type": "stream",
     "text": [
      "[14.]\n"
     ]
    }
   ],
   "source": [
    "with tf.Session() as sess:\n",
    "    print(sess.run(ouput, feed_dict={input1: [7.], input2: [2.]}))\n",
    "# [ 14.]"
   ]
  },
  {
   "cell_type": "code",
   "execution_count": null,
   "id": "dcc9f207",
   "metadata": {},
   "outputs": [],
   "source": []
  }
 ],
 "metadata": {
  "kernelspec": {
   "display_name": "Python 3",
   "language": "python",
   "name": "python3"
  },
  "language_info": {
   "codemirror_mode": {
    "name": "ipython",
    "version": 3
   },
   "file_extension": ".py",
   "mimetype": "text/x-python",
   "name": "python",
   "nbconvert_exporter": "python",
   "pygments_lexer": "ipython3",
   "version": "3.6.13"
  }
 },
 "nbformat": 4,
 "nbformat_minor": 5
}
