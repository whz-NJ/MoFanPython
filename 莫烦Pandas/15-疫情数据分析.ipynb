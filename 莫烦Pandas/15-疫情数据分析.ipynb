{
 "cells": [
  {
   "cell_type": "markdown",
   "id": "3ccaedcd",
   "metadata": {},
   "source": [
    "根据我们之前学习的内容，我们今天就来做些有趣的数据分析。 其实我在分享 Numpy 教学的时候，就已经做过一次用 Numpy 来处理分析疫情数据的教学。 现在我们学习了更适合做数据分析的 Pandas 库，也可以来思考用 Pandas 如何来对此进行分析。\n",
    "\n",
    "20年开始的新冠肺炎席卷全球，我们能从肺炎数据中发现什么规律呢？我提前给你准备了从 2020 年 1 月 22 日到 2020 年 7 月 27 日的数据。"
   ]
  },
  {
   "cell_type": "markdown",
   "id": "8191e32a",
   "metadata": {},
   "source": [
    "### 数据一览"
   ]
  },
  {
   "cell_type": "markdown",
   "id": "947faec2",
   "metadata": {},
   "source": [
    "这份数据是 Kaggle 上的公开数据集(https://www.kaggle.com/datasets/imdevskp/corona-virus-report )， 我已经提前给你准备好了，请先点击下方运行按钮，我帮你拉取数据到你的浏览器环境。"
   ]
  },
  {
   "cell_type": "code",
   "execution_count": 1,
   "id": "060070e7",
   "metadata": {},
   "outputs": [
    {
     "data": {
      "text/plain": [
       "['archive',\n",
       " 'country_wise_latest.csv',\n",
       " 'covid_19_clean_complete.csv',\n",
       " 'day_wise.csv',\n",
       " 'full_grouped.csv',\n",
       " 'usa_county_wise.csv',\n",
       " 'worldometer_data.csv',\n",
       " '体检数据.csv',\n",
       " '体检数据.xlsx',\n",
       " '体检数据_sep.csv',\n",
       " '体检数据_sep.txt',\n",
       " '体检数据_sep_修改.csv',\n",
       " '体检数据_sep_修改.xlsx',\n",
       " '体检数据_修改.xlsx']"
      ]
     },
     "execution_count": 1,
     "metadata": {},
     "output_type": "execute_result"
    }
   ],
   "source": [
    "import os\n",
    "os.listdir(\"data\")"
   ]
  },
  {
   "cell_type": "markdown",
   "id": "74cc8d62",
   "metadata": {},
   "source": [
    "点击运行后，你可以看到，在你的浏览器环境中，已经有了 covid19_day_wise.csv 这个文件了， 而且可以发现，拉取到的这份文件是一个 csv 文件。 现在我们就应用 读取数据中的方法 来 read_csv() 文件。"
   ]
  },
  {
   "cell_type": "code",
   "execution_count": 11,
   "id": "63e03ba2",
   "metadata": {},
   "outputs": [
    {
     "data": {
      "text/html": [
       "<div>\n",
       "<style scoped>\n",
       "    .dataframe tbody tr th:only-of-type {\n",
       "        vertical-align: middle;\n",
       "    }\n",
       "\n",
       "    .dataframe tbody tr th {\n",
       "        vertical-align: top;\n",
       "    }\n",
       "\n",
       "    .dataframe thead th {\n",
       "        text-align: right;\n",
       "    }\n",
       "</style>\n",
       "<table border=\"1\" class=\"dataframe\">\n",
       "  <thead>\n",
       "    <tr style=\"text-align: right;\">\n",
       "      <th></th>\n",
       "      <th>Date</th>\n",
       "      <th>Confirmed</th>\n",
       "      <th>Deaths</th>\n",
       "      <th>Recovered</th>\n",
       "      <th>Active</th>\n",
       "      <th>New cases</th>\n",
       "      <th>New deaths</th>\n",
       "      <th>New recovered</th>\n",
       "      <th>Deaths / 100 Cases</th>\n",
       "      <th>Recovered / 100 Cases</th>\n",
       "      <th>Deaths / 100 Recovered</th>\n",
       "      <th>No. of countries</th>\n",
       "    </tr>\n",
       "  </thead>\n",
       "  <tbody>\n",
       "    <tr>\n",
       "      <th>0</th>\n",
       "      <td>2020-01-22</td>\n",
       "      <td>555</td>\n",
       "      <td>17</td>\n",
       "      <td>28</td>\n",
       "      <td>510</td>\n",
       "      <td>0</td>\n",
       "      <td>0</td>\n",
       "      <td>0</td>\n",
       "      <td>3.06</td>\n",
       "      <td>5.05</td>\n",
       "      <td>60.71</td>\n",
       "      <td>6</td>\n",
       "    </tr>\n",
       "    <tr>\n",
       "      <th>1</th>\n",
       "      <td>2020-01-23</td>\n",
       "      <td>654</td>\n",
       "      <td>18</td>\n",
       "      <td>30</td>\n",
       "      <td>606</td>\n",
       "      <td>99</td>\n",
       "      <td>1</td>\n",
       "      <td>2</td>\n",
       "      <td>2.75</td>\n",
       "      <td>4.59</td>\n",
       "      <td>60.00</td>\n",
       "      <td>8</td>\n",
       "    </tr>\n",
       "    <tr>\n",
       "      <th>2</th>\n",
       "      <td>2020-01-24</td>\n",
       "      <td>941</td>\n",
       "      <td>26</td>\n",
       "      <td>36</td>\n",
       "      <td>879</td>\n",
       "      <td>287</td>\n",
       "      <td>8</td>\n",
       "      <td>6</td>\n",
       "      <td>2.76</td>\n",
       "      <td>3.83</td>\n",
       "      <td>72.22</td>\n",
       "      <td>9</td>\n",
       "    </tr>\n",
       "    <tr>\n",
       "      <th>3</th>\n",
       "      <td>2020-01-25</td>\n",
       "      <td>1434</td>\n",
       "      <td>42</td>\n",
       "      <td>39</td>\n",
       "      <td>1353</td>\n",
       "      <td>493</td>\n",
       "      <td>16</td>\n",
       "      <td>3</td>\n",
       "      <td>2.93</td>\n",
       "      <td>2.72</td>\n",
       "      <td>107.69</td>\n",
       "      <td>11</td>\n",
       "    </tr>\n",
       "    <tr>\n",
       "      <th>4</th>\n",
       "      <td>2020-01-26</td>\n",
       "      <td>2118</td>\n",
       "      <td>56</td>\n",
       "      <td>52</td>\n",
       "      <td>2010</td>\n",
       "      <td>684</td>\n",
       "      <td>14</td>\n",
       "      <td>13</td>\n",
       "      <td>2.64</td>\n",
       "      <td>2.46</td>\n",
       "      <td>107.69</td>\n",
       "      <td>13</td>\n",
       "    </tr>\n",
       "  </tbody>\n",
       "</table>\n",
       "</div>"
      ],
      "text/plain": [
       "         Date  Confirmed  Deaths  Recovered  Active  New cases  New deaths  \\\n",
       "0  2020-01-22        555      17         28     510          0           0   \n",
       "1  2020-01-23        654      18         30     606         99           1   \n",
       "2  2020-01-24        941      26         36     879        287           8   \n",
       "3  2020-01-25       1434      42         39    1353        493          16   \n",
       "4  2020-01-26       2118      56         52    2010        684          14   \n",
       "\n",
       "   New recovered  Deaths / 100 Cases  Recovered / 100 Cases  \\\n",
       "0              0                3.06                   5.05   \n",
       "1              2                2.75                   4.59   \n",
       "2              6                2.76                   3.83   \n",
       "3              3                2.93                   2.72   \n",
       "4             13                2.64                   2.46   \n",
       "\n",
       "   Deaths / 100 Recovered  No. of countries  \n",
       "0                   60.71                 6  \n",
       "1                   60.00                 8  \n",
       "2                   72.22                 9  \n",
       "3                  107.69                11  \n",
       "4                  107.69                13  "
      ]
     },
     "execution_count": 11,
     "metadata": {},
     "output_type": "execute_result"
    }
   ],
   "source": [
    "import pandas as pd\n",
    "\n",
    "df = pd.read_csv(\"data/covid19_day_wise.csv\")\n",
    "df.head()"
   ]
  },
  {
   "cell_type": "markdown",
   "id": "dd23f185",
   "metadata": {},
   "source": [
    "如果你不方便下载，我这里也有一份同样的（https://mofanpy.com/static/files/covid19_day_wise.csv ），有兴趣你可以自己下载下来 ， 用下面的代码在你本地加载数据。\n",
    "\n",
    "了解了数据的大概样子，那么来使用你所学到的 Pandas 技能，我们来分析下面这几个问题。\n",
    "1. 获取 2020 年 2 月 3 日的所有数据\n",
    "2. 2020 年 1 月 24 日之前的累积确诊病例有多少个？\n",
    "3. 2020 年 7 月 23 日的新增死亡数是多少？\n",
    "4. 从 1 月 25 日到 7 月 22 日，一共增长了多少确诊病例？\n",
    "5. 每天新增确诊数和新恢复数的比例？平均比例，标准差各是多少？\n",
    "6. 画图展示新增确诊的变化曲线\n",
    "7. 画图展示死亡率的变化曲线"
   ]
  },
  {
   "cell_type": "markdown",
   "id": "e383f390",
   "metadata": {},
   "source": [
    "### 某日所有数据\n",
    "相比 Numpy 的方式，Pandas 可以更便捷的获取到这些数据。 比如我想拿到 Date Column 中的前几个数据值，我就直接调用 df[\"Date\"][:5] 这种形式。"
   ]
  },
  {
   "cell_type": "code",
   "execution_count": 5,
   "id": "ccf1af1f",
   "metadata": {},
   "outputs": [
    {
     "name": "stdout",
     "output_type": "stream",
     "text": [
      "日期列表摘取： 0    2020-01-22\n",
      "1    2020-01-23\n",
      "2    2020-01-24\n",
      "3    2020-01-25\n",
      "Name: Date, dtype: object\n"
     ]
    }
   ],
   "source": [
    "print(\"日期列表摘取：\", df[\"Date\"][:4])"
   ]
  },
  {
   "cell_type": "markdown",
   "id": "7f76113f",
   "metadata": {},
   "source": [
    "又或者我需要拿到具体的某一天的值，比如 获取 2020 年 2 月 3 日的所有数据。"
   ]
  },
  {
   "cell_type": "code",
   "execution_count": 6,
   "id": "433d8d0e",
   "metadata": {},
   "outputs": [
    {
     "name": "stdout",
     "output_type": "stream",
     "text": [
      "日期->索引转换：\n",
      "           Date  Confirmed  Deaths  Recovered  Active  New cases  New deaths  \\\n",
      "12  2020-02-03      19887     426        604   18857       3100          64   \n",
      "\n",
      "    New recovered  Deaths / 100 Cases  Recovered / 100 Cases  \\\n",
      "12            145                2.14                   3.04   \n",
      "\n",
      "    Deaths / 100 Recovered  No. of countries  \n",
      "12                   70.53                25  \n"
     ]
    }
   ],
   "source": [
    "print(\n",
    "    \"日期->索引转换：\\n\", \n",
    "    df[df[\"Date\"] == \"2020-02-03\"]\n",
    ")"
   ]
  },
  {
   "cell_type": "markdown",
   "id": "f888dfb0",
   "metadata": {},
   "source": [
    "### 累积确诊\n",
    "#### 2020 年 1 月 24 日之前的累积确诊病例有多少个？\n",
    "同样，对比 Numpy 的处理方式，又是转 indexing 又是反转 indexing 的操作， Pandas 简直是不能太简单了。只需要找到 2020-01-24 所在的行，并且标出 Confirmed Column 名，就能锁定行列位置。 然后用 df.loc[] 就能找到具体的数值了。 df.loc[] 的具体使用方法请看这里。"
   ]
  },
  {
   "cell_type": "code",
   "execution_count": 7,
   "id": "214fbaaf",
   "metadata": {},
   "outputs": [
    {
     "name": "stdout",
     "output_type": "stream",
     "text": [
      "截止 1 月 24 日的累积确诊数： [941]\n"
     ]
    }
   ],
   "source": [
    "confirmed0124 = df.loc[df[\"Date\"] == \"2020-01-24\", \"Confirmed\"]\n",
    "print(\"截止 1 月 24 日的累积确诊数：\", confirmed0124.values)"
   ]
  },
  {
   "cell_type": "markdown",
   "id": "2c0cfc56",
   "metadata": {},
   "source": [
    "### 新增死亡\n",
    "#### 2020 年 7 月 23 日的新增死亡数是多少？\n",
    "\n",
    "这还是一个在 Pandas DataFrame 中选取数据的过程，我们要搞清楚具体的索引是什么。 上面我们已经找到了确诊数的标题（Conformed），现在你来找一下哪个标题对应着新增死亡数？\n",
    "\n",
    "没错！就是New deaths, 我们再按上面的流程把这个数据给拿出来。"
   ]
  },
  {
   "cell_type": "code",
   "execution_count": 13,
   "id": "c1e77752",
   "metadata": {},
   "outputs": [
    {
     "name": "stdout",
     "output_type": "stream",
     "text": [
      "截止 7 月 23 日的新增死亡数： [9966]\n"
     ]
    }
   ],
   "source": [
    "#result = df.loc[df[\"Confirmed\"] == 19887, \"New deaths\"]\n",
    "result = df.loc[df[\"Date\"] == \"2020-07-23\", \"New deaths\"]\n",
    "print(\"截止 7 月 23 日的新增死亡数：\", result.values)"
   ]
  },
  {
   "cell_type": "markdown",
   "id": "854a4907",
   "metadata": {},
   "source": [
    "### 总增长数\n",
    "#### 从 1 月 25 日到 7 月 22 日，一共增长了多少确诊病例？\n",
    "\n",
    "获取数据都是小儿科，我们来点真正的数据分析。要基于原有的数据，进行多次加工，来获取新的结论和结果。 在这个任务中，为了方便运算，我们将日期数据转换成一个时间数据， 使用到的是在这一节学习到的时间转化方法。 之所以这么做，是因为转换后的时间数据，可以方便地进行大小对比。\n",
    "\n",
    "之后我们要进行一次累和的计算，就能得到最终的病例数啦。"
   ]
  },
  {
   "cell_type": "code",
   "execution_count": 14,
   "id": "9991334d",
   "metadata": {},
   "outputs": [
    {
     "name": "stdout",
     "output_type": "stream",
     "text": [
      "共新增： 15247802\n"
     ]
    }
   ],
   "source": [
    "date = pd.to_datetime(df[\"Date\"])\n",
    "date_range = (date >= \"2020-01-25\") & (date <= \"2020-07-22\")\n",
    "new_cases = df.loc[date_range, \"New cases\"]\n",
    "overall = new_cases.sum()\n",
    "print(\"共新增：\", overall)"
   ]
  },
  {
   "cell_type": "markdown",
   "id": "ab4ca02d",
   "metadata": {},
   "source": [
    "上面要注意一下，在时间数据的大小比对时，我用了 & 符号，这是 Python 中一个表示 and 的逻辑，而且可以对一整个向量做 and 逻辑。\n",
    "\n",
    "有的同学肯定会问了，我们不是有累积确诊的个数嘛，我也能用累计确诊的那一 column 来计算出这段时间内的确诊病例数呀。 好的，我们就来按这种方法计算一下。"
   ]
  },
  {
   "cell_type": "code",
   "execution_count": 15,
   "id": "7ab815b3",
   "metadata": {},
   "outputs": [
    {
     "name": "stdout",
     "output_type": "stream",
     "text": [
      "共新增： [15226291]\n"
     ]
    }
   ],
   "source": [
    "confirmed = df.loc[:, \"Confirmed\"]\n",
    "conf_0722 = confirmed.loc[df[\"Date\"] == \"2020-07-22\"].values\n",
    "conf_0125 = confirmed.loc[df[\"Date\"] == \"2020-01-25\"].values\n",
    "\n",
    "overall2 = conf_0722 - conf_0125\n",
    "print(\"共新增：\", overall2)\n"
   ]
  },
  {
   "cell_type": "markdown",
   "id": "df09e2ce",
   "metadata": {},
   "source": [
    "奇怪了，为什么两种计算结果对应不上呢？我大胆猜想一下，可能是因为有人感染了两次或多次，导致新增的数据中重复计算了。 所以用新增数据来算的话，比累积确诊的方式来计算的要多。\n",
    "\n",
    "我们还能具体分析看看，具体是哪天的数据对不上，详细输出一下。"
   ]
  },
  {
   "cell_type": "code",
   "execution_count": 18,
   "id": "c010b884",
   "metadata": {},
   "outputs": [
    {
     "name": "stdout",
     "output_type": "stream",
     "text": [
      "3\n",
      "date index: 62 ;差异： 15\n",
      "date index: 81 ;差异： 21\n",
      "date index: 87 ;差异： 1\n",
      "date index: 91 ;差异： 2188\n",
      "date index: 93 ;差异： 10034\n",
      "date index: 95 ;差异： 1\n",
      "date index: 97 ;差异： 105\n",
      "date index: 98 ;差异： 2512\n",
      "date index: 101 ;差异： 167\n",
      "date index: 103 ;差异： 1\n",
      "date index: 106 ;差异： 1583\n",
      "date index: 107 ;差异： 1480\n",
      "date index: 109 ;差异： 9\n",
      "date index: 110 ;差异： 57\n",
      "date index: 111 ;差异： 20\n",
      "date index: 112 ;差异： 165\n",
      "date index: 113 ;差异： 1\n",
      "date index: 118 ;差异： 209\n",
      "date index: 120 ;差异： 104\n",
      "date index: 124 ;差异： 372\n",
      "date index: 125 ;差异： 220\n",
      "date index: 132 ;差异： 766\n",
      "date index: 133 ;差异： 1\n",
      "date index: 149 ;差异： 148\n",
      "date index: 158 ;差异： 719\n",
      "date index: 163 ;差异： 1\n",
      "date index: 175 ;差异： 5\n",
      "date index: 176 ;差异： 3\n",
      "date index: 181 ;差异： 110\n"
     ]
    }
   ],
   "source": [
    "confirmed = df[\"Confirmed\"]\n",
    "new_cases = df[\"New cases\"]\n",
    "idx_0722 = df.loc[df[\"Date\"] == \"2020-07-22\"].index.item() #得到下标??\n",
    "idx_0125 = df.loc[df[\"Date\"] == \"2020-01-25\"].index.item()\n",
    "\n",
    "for i in range(idx_0125, idx_0722+1):\n",
    "    diff = new_cases.iloc[i] - (confirmed.iloc[i] - confirmed.iloc[i-1]) \n",
    "    if diff != 0:\n",
    "        print(\"date index:\", i, \";差异：\", diff)"
   ]
  },
  {
   "cell_type": "markdown",
   "id": "b56b80f2",
   "metadata": {},
   "source": [
    "### 确诊恢复比例\n",
    "#### 每天新增确诊数和新恢复数的比例？平均比例，标准差各是多少？\n",
    "\n",
    "这一个任务，我们需要再计算计算，会要使用到批量计算功能，首先确定要拿取到的数据是什么，然后再对这些数据进行计算。 按要求，我们要拿到新增确诊数（New cases），和新的恢复数（New recovered）,然后再相除，最后再计算平均值和标准差。"
   ]
  },
  {
   "cell_type": "code",
   "execution_count": 19,
   "id": "7c4ca475",
   "metadata": {},
   "outputs": [
    {
     "name": "stdout",
     "output_type": "stream",
     "text": [
      "比例样本： 0           NaN\n",
      "1     49.500000\n",
      "2     47.833333\n",
      "3    164.333333\n",
      "4     52.615385\n",
      "dtype: float64\n"
     ]
    }
   ],
   "source": [
    "ratio = df[\"New cases\"] / df[\"New recovered\"]\n",
    "print(\"比例样本：\", ratio[:5])"
   ]
  },
  {
   "cell_type": "markdown",
   "id": "1379b4a0",
   "metadata": {},
   "source": [
    "咦奇怪了，我什么第一个是 nan 呢？nan 在 numpy 中表示的是 Not a Number， 说明计算有问题。我们单独打印一下，看看为什么出现 nan。"
   ]
  },
  {
   "cell_type": "code",
   "execution_count": 20,
   "id": "746eefa0",
   "metadata": {},
   "outputs": [
    {
     "name": "stdout",
     "output_type": "stream",
     "text": [
      "0\n",
      "0\n"
     ]
    }
   ],
   "source": [
    "print(df.loc[0, \"New cases\"])\n",
    "print(df.loc[0, \"New recovered\"])"
   ]
  },
  {
   "cell_type": "markdown",
   "id": "2b6ea714",
   "metadata": {},
   "source": [
    "原来是因为 New recovered 的第一个位置数据为 0，任何数除以 0 是不成立的，所以才会把这个计算给出一个 nan 的结果。 你看做数据分析还是挺有意思吧，会出现各种意想不到的状况。然后我们把 New recovered 为零的数都剔除掉。"
   ]
  },
  {
   "cell_type": "code",
   "execution_count": 21,
   "id": "36f18102",
   "metadata": {},
   "outputs": [
    {
     "name": "stdout",
     "output_type": "stream",
     "text": [
      "平均比例： 7.049556348053241 ；标准差： 19.145284932105497\n"
     ]
    }
   ],
   "source": [
    "not_zero_mask = df[\"New recovered\"] != 0\n",
    "ratio = df.loc[not_zero_mask, \"New cases\"] / df.loc[not_zero_mask, \"New recovered\"]\n",
    "\n",
    "# 平均比例, 标准差\n",
    "ratio_mean = ratio.mean()\n",
    "ratio_std = ratio.std()\n",
    "print(\"平均比例：\", ratio_mean, \"；标准差：\", ratio_std)"
   ]
  },
  {
   "cell_type": "markdown",
   "id": "ba9f930f",
   "metadata": {},
   "source": [
    "得到计算结果后，我们还是能明显发现，被治好的人的确比新增的要多，这就说明，我们的存活率还是挺高的。"
   ]
  },
  {
   "cell_type": "markdown",
   "id": "1dd97867",
   "metadata": {},
   "source": [
    "### 可视化数据\n",
    "#### 画图展示新增确诊的变化曲线\n",
    "\n",
    "有时候，光秃秃的数字并不能生动表现这些数字背后的规律。我们还可以把它画出来。至于如何画， Pandas 其实已经内置了很多画图工具，有兴趣了解如何用 Pandas 画图的，请点击这里。\n",
    "\n",
    "现在，我们就来做新增确诊的可视化数据吧。"
   ]
  },
  {
   "cell_type": "code",
   "execution_count": 23,
   "id": "82bedc36",
   "metadata": {},
   "outputs": [
    {
     "data": {
      "text/plain": [
       "<matplotlib.axes._subplots.AxesSubplot at 0x1c5402ca828>"
      ]
     },
     "execution_count": 23,
     "metadata": {},
     "output_type": "execute_result"
    },
    {
     "data": {
      "image/png": "[encoded data removed]",
      "text/plain": [
       "<Figure size 432x288 with 1 Axes>"
      ]
     },
     "metadata": {
      "needs_background": "light"
     },
     "output_type": "display_data"
    }
   ],
   "source": [
    "import matplotlib\n",
    "%matplotlib inline\n",
    "\n",
    "df[\"New cases\"].plot()"
   ]
  },
  {
   "cell_type": "markdown",
   "id": "71a719f4",
   "metadata": {},
   "source": [
    "不画不知道，一画出来就吓一跳，在前半部分的时候，确诊数还在缓慢增长，但是在 50 天左右的时候，发现新增确诊数陡增。我们看看第 50 天是哪个日期。 新冠在前期还是传播得十分迅速的。"
   ]
  },
  {
   "cell_type": "code",
   "execution_count": 24,
   "id": "db042748",
   "metadata": {},
   "outputs": [
    {
     "name": "stdout",
     "output_type": "stream",
     "text": [
      "2020-03-12\n"
     ]
    }
   ],
   "source": [
    "print(df.loc[50, \"Date\"])"
   ]
  },
  {
   "cell_type": "markdown",
   "id": "15029309",
   "metadata": {},
   "source": [
    "#### 画图展示死亡率的变化曲线\n",
    "\n",
    "画这个图也非常简单，我们只要找到对应的 column 就行。我只是觉得这个数据比较有趣，想看看人类对于一个陌生疾病的斗争历史。 因为在前期，我们对新冠还不了解的时候，可能死亡率还是比价高的，但是随着了解的加深，政策的颁布，疫苗的发布，死亡率应该都会有变化。"
   ]
  },
  {
   "cell_type": "code",
   "execution_count": 25,
   "id": "2552ea29",
   "metadata": {},
   "outputs": [
    {
     "data": {
      "text/plain": [
       "<matplotlib.axes._subplots.AxesSubplot at 0x1c540330d68>"
      ]
     },
     "execution_count": 25,
     "metadata": {},
     "output_type": "execute_result"
    },
    {
     "data": {
      "image/png": "[encoded data removed]",
      "text/plain": [
       "<Figure size 432x288 with 1 Axes>"
      ]
     },
     "metadata": {
      "needs_background": "light"
     },
     "output_type": "display_data"
    }
   ],
   "source": [
    "df[\"Deaths / 100 Cases\"].plot()"
   ]
  },
  {
   "cell_type": "markdown",
   "id": "c48c3f64",
   "metadata": {},
   "source": [
    "你看，结果也是能在图上看到的，大概在 100 天左右的时候，死亡率开始下降了，100 个人中死 7 个， 逐渐变成死 4 个。可见当时各种政策的颁布还是有效果的。"
   ]
  },
  {
   "cell_type": "markdown",
   "id": "b7a7a07d",
   "metadata": {},
   "source": [
    "### 总结\n",
    "数据分析是一件非常有趣的事情。我之前租房子，还用爬虫做过悉尼各地区的房价分析， 为我的租房开销节省了不少钱。其中我就用到了 Pandas + Numpy 来管理我爬取到的数据。"
   ]
  },
  {
   "cell_type": "code",
   "execution_count": null,
   "id": "06ebc317",
   "metadata": {},
   "outputs": [],
   "source": []
  }
 ],
 "metadata": {
  "kernelspec": {
   "display_name": "Python 3",
   "language": "python",
   "name": "python3"
  },
  "language_info": {
   "codemirror_mode": {
    "name": "ipython",
    "version": 3
   },
   "file_extension": ".py",
   "mimetype": "text/x-python",
   "name": "python",
   "nbconvert_exporter": "python",
   "pygments_lexer": "ipython3",
   "version": "3.6.13"
  }
 },
 "nbformat": 4,
 "nbformat_minor": 5
}
