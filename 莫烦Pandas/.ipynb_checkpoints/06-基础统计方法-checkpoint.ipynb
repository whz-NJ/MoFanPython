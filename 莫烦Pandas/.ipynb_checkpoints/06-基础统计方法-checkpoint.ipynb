{
 "cells": [
  {
   "cell_type": "markdown",
   "id": "e65f86d5",
   "metadata": {},
   "source": [
    "在 Pandas 上做数据统计，要比在 Numpy 上做舒服很多，因为在数据展示上，有很多额外的信息辅助你来消化这些信息。 而且你还能比较方便地绘制成图。\n",
    "\n",
    "我们在这一节内容中，会对比 Numpy 中的方法和 Pandas 的不同，来解释为什么人们在做数据分析的时候喜欢用 Pandas。"
   ]
  },
  {
   "cell_type": "markdown",
   "id": "27df8374",
   "metadata": {},
   "source": [
    "### 数据\n",
    "在分析数据或者统计数据的时候，首先得有数据，我简单创建了一份数据，后续的工作将会依赖于这份数据，所以请你帮我点击一下下面的 Run 键，初始化一下这份数据。"
   ]
  },
  {
   "cell_type": "code",
   "execution_count": 1,
   "id": "60af9eb0",
   "metadata": {},
   "outputs": [
    {
     "data": {
      "text/html": [
       "<div>\n",
       "<style scoped>\n",
       "    .dataframe tbody tr th:only-of-type {\n",
       "        vertical-align: middle;\n",
       "    }\n",
       "\n",
       "    .dataframe tbody tr th {\n",
       "        vertical-align: top;\n",
       "    }\n",
       "\n",
       "    .dataframe thead th {\n",
       "        text-align: right;\n",
       "    }\n",
       "</style>\n",
       "<table border=\"1\" class=\"dataframe\">\n",
       "  <thead>\n",
       "    <tr style=\"text-align: right;\">\n",
       "      <th></th>\n",
       "      <th>c0</th>\n",
       "      <th>c1</th>\n",
       "      <th>c2</th>\n",
       "    </tr>\n",
       "  </thead>\n",
       "  <tbody>\n",
       "    <tr>\n",
       "      <th>r0</th>\n",
       "      <td>1.39</td>\n",
       "      <td>1.77</td>\n",
       "      <td>None</td>\n",
       "    </tr>\n",
       "    <tr>\n",
       "      <th>r1</th>\n",
       "      <td>0.34</td>\n",
       "      <td>1.91</td>\n",
       "      <td>-0.05</td>\n",
       "    </tr>\n",
       "    <tr>\n",
       "      <th>r2</th>\n",
       "      <td>0.34</td>\n",
       "      <td>1.47</td>\n",
       "      <td>1.22</td>\n",
       "    </tr>\n",
       "    <tr>\n",
       "      <th>r3</th>\n",
       "      <td>None</td>\n",
       "      <td>0.27</td>\n",
       "      <td>-0.61</td>\n",
       "    </tr>\n",
       "  </tbody>\n",
       "</table>\n",
       "</div>"
      ],
      "text/plain": [
       "      c0    c1    c2\n",
       "r0  1.39  1.77  None\n",
       "r1  0.34  1.91 -0.05\n",
       "r2  0.34  1.47  1.22\n",
       "r3  None  0.27 -0.61"
      ]
     },
     "execution_count": 1,
     "metadata": {},
     "output_type": "execute_result"
    }
   ],
   "source": [
    "import pandas as pd\n",
    "import numpy as np\n",
    "\n",
    "data = np.array([\n",
    "    [1.39, 1.77, None],\n",
    "    [0.34, 1.91, -0.05],\n",
    "    [0.34, 1.47, 1.22],\n",
    "    [None, 0.27, -0.61]\n",
    "])\n",
    "df = pd.DataFrame(data, index=[\"r0\", \"r1\", \"r2\", \"r3\"], columns=[\"c0\", \"c1\", \"c2\"])\n",
    "df\n"
   ]
  },
  {
   "cell_type": "markdown",
   "id": "ad72beec",
   "metadata": {},
   "source": [
    "你在日常生活中，也经常是以这种 2 维表格型数据为主，而且因为各种不可知原因，你的数据可能存在缺失状况。比如有人没交作业，有数据还没被采集到等等。 如果你使用 Excel 收集的数据（用 Pandas 读 Excel），那这种情况可能更加多。"
   ]
  },
  {
   "cell_type": "markdown",
   "id": "3cddc675",
   "metadata": {},
   "source": [
    "### 快速总结\n",
    "通常，如果我们不知道这份数据包含了什么，想快速了解一下这份数据的基础信息，我们可以直接先上一个 describe()，让 Pandas 自动帮我们描述一下这份数据的基础信息。"
   ]
  },
  {
   "cell_type": "code",
   "execution_count": 2,
   "id": "4faae414",
   "metadata": {},
   "outputs": [
    {
     "data": {
      "text/html": [
       "<div>\n",
       "<style scoped>\n",
       "    .dataframe tbody tr th:only-of-type {\n",
       "        vertical-align: middle;\n",
       "    }\n",
       "\n",
       "    .dataframe tbody tr th {\n",
       "        vertical-align: top;\n",
       "    }\n",
       "\n",
       "    .dataframe thead th {\n",
       "        text-align: right;\n",
       "    }\n",
       "</style>\n",
       "<table border=\"1\" class=\"dataframe\">\n",
       "  <thead>\n",
       "    <tr style=\"text-align: right;\">\n",
       "      <th></th>\n",
       "      <th>c0</th>\n",
       "      <th>c1</th>\n",
       "      <th>c2</th>\n",
       "    </tr>\n",
       "  </thead>\n",
       "  <tbody>\n",
       "    <tr>\n",
       "      <th>count</th>\n",
       "      <td>3.00</td>\n",
       "      <td>4.00</td>\n",
       "      <td>3.00</td>\n",
       "    </tr>\n",
       "    <tr>\n",
       "      <th>unique</th>\n",
       "      <td>2.00</td>\n",
       "      <td>4.00</td>\n",
       "      <td>3.00</td>\n",
       "    </tr>\n",
       "    <tr>\n",
       "      <th>top</th>\n",
       "      <td>0.34</td>\n",
       "      <td>1.47</td>\n",
       "      <td>-0.61</td>\n",
       "    </tr>\n",
       "    <tr>\n",
       "      <th>freq</th>\n",
       "      <td>2.00</td>\n",
       "      <td>1.00</td>\n",
       "      <td>1.00</td>\n",
       "    </tr>\n",
       "  </tbody>\n",
       "</table>\n",
       "</div>"
      ],
      "text/plain": [
       "          c0    c1    c2\n",
       "count   3.00  4.00  3.00\n",
       "unique  2.00  4.00  3.00\n",
       "top     0.34  1.47 -0.61\n",
       "freq    2.00  1.00  1.00"
      ]
     },
     "execution_count": 2,
     "metadata": {},
     "output_type": "execute_result"
    }
   ],
   "source": [
    "df.describe()"
   ]
  },
  {
   "cell_type": "markdown",
   "id": "c5be5058",
   "metadata": {},
   "source": [
    "这里，会显示出来 count 计数（剔除掉 None 或者 NAN 这种无效数据），所以你在结果中能看到 c0，c2 两个的有效数是 3 个，而 c1 有效数有 4 个。\n",
    "\n",
    "unique 表示的是每个 column 中有多少独特的数据。这个在初步感知数据丰富度上会有一定的作用。\n",
    "\n",
    "top 表示出现最多的数据是哪一个，这组数据在 c0 column 处，我们能观察到 0.34 出现了两次，所以它选的 top 是 0.34。\n",
    "\n",
    "freq 是继续了 top，表述的是这个出现频率最多的数据，出现的次数有多少次。\n",
    "\n",
    "上面这份数据还不是纯数据，如果是存数值型的数据，我们跑 describe() 还能看到统计学的信息。"
   ]
  },
  {
   "cell_type": "code",
   "execution_count": 3,
   "id": "099cdb8d",
   "metadata": {},
   "outputs": [
    {
     "name": "stdout",
     "output_type": "stream",
     "text": [
      "         c0        c1        c2\n",
      "0  0.611289  0.801046  0.943016\n",
      "1  0.715251  0.783419  0.614730\n",
      "2  0.931917  0.256392  0.160144\n",
      "3  0.672705  0.253998  0.335448\n",
      "\n",
      "describe:\n",
      "              c0        c1        c2\n",
      "count  4.000000  4.000000  4.000000\n",
      "mean   0.732791  0.523714  0.513334\n",
      "std    0.139442  0.310144  0.342196\n",
      "min    0.611289  0.253998  0.160144\n",
      "25%    0.657351  0.255794  0.291622\n",
      "50%    0.693978  0.519906  0.475089\n",
      "75%    0.769418  0.787826  0.696801\n",
      "max    0.931917  0.801046  0.943016\n"
     ]
    }
   ],
   "source": [
    "df1 = pd.DataFrame(np.random.random((4,3)), columns=[\"c0\", \"c1\", \"c2\"])\n",
    "print(df1)\n",
    "print(\"\\ndescribe:\\n\", df1.describe())"
   ]
  },
  {
   "cell_type": "markdown",
   "id": "ef43aba4",
   "metadata": {},
   "source": [
    "平均数（mean），均方差（std），最小值（min），统计学的 25 分位，50 分位，75 分位各是多少，最大值（max）是多少。"
   ]
  },
  {
   "cell_type": "markdown",
   "id": "d1642df2",
   "metadata": {},
   "source": [
    "### 均值中位数\n",
    "像上面，我们已经可以从 describe() 功能中略知一二了，但是你肯定也不满足于这些简单的描述信息。那么我们看看还有哪些简单实用的统计学功能。 比较常用的，我们通常会想知道一组数据的均值，用 mean() 就好了。"
   ]
  },
  {
   "cell_type": "code",
   "execution_count": 4,
   "id": "018e4de1",
   "metadata": {},
   "outputs": [
    {
     "data": {
      "text/plain": [
       "c0    0.690000\n",
       "c1    1.355000\n",
       "c2    0.186667\n",
       "dtype: float64"
      ]
     },
     "execution_count": 4,
     "metadata": {},
     "output_type": "execute_result"
    }
   ],
   "source": [
    "df.mean()"
   ]
  },
  {
   "cell_type": "markdown",
   "id": "0020a12b",
   "metadata": {},
   "source": [
    "这样可以直接输出每一个 columns 的均值，因为这是在对 df 的第0个维度在做求均值。也可以这么写。"
   ]
  },
  {
   "cell_type": "code",
   "execution_count": 5,
   "id": "b054d531",
   "metadata": {},
   "outputs": [
    {
     "data": {
      "text/plain": [
       "c0    0.690000\n",
       "c1    1.355000\n",
       "c2    0.186667\n",
       "dtype: float64"
      ]
     },
     "execution_count": 5,
     "metadata": {},
     "output_type": "execute_result"
    }
   ],
   "source": [
    "df.mean(axis=0)"
   ]
  },
  {
   "cell_type": "markdown",
   "id": "e947f26d",
   "metadata": {},
   "source": [
    "当然，如果你不想对第 0 个维度，而是想对第 1 个维度求均值呢（后面的功能中 axis 的用法都基本相似）。我们只需要把 axis=0 换成 axis=1"
   ]
  },
  {
   "cell_type": "code",
   "execution_count": 6,
   "id": "2eddcb32",
   "metadata": {},
   "outputs": [
    {
     "data": {
      "text/plain": [
       "r0    1.580000\n",
       "r1    0.733333\n",
       "r2    1.010000\n",
       "r3   -0.170000\n",
       "dtype: float64"
      ]
     },
     "execution_count": 6,
     "metadata": {},
     "output_type": "execute_result"
    }
   ],
   "source": [
    "df.mean(axis=1)"
   ]
  },
  {
   "cell_type": "markdown",
   "id": "9fd08f8e",
   "metadata": {},
   "source": [
    "还有一个比较有用的参数 skipna，这个是用来处理数据中有 None 或者是 NaN 时用的。我们需不需要排除掉有 None 或者 NaN 的数据。 如果需要 skip 掉这些，我们就还是会计算所有行列的数值，只是在计数的时候，扣掉这些 None 和 NaN。***而当 skipna=False 的时候， Pandas 只要遇到了 None 或者 NaN，就不计算这列、行的数据了。所以下面你会看到，它只返回了一个 column 的结果***。"
   ]
  },
  {
   "cell_type": "code",
   "execution_count": 7,
   "id": "314d52db",
   "metadata": {},
   "outputs": [
    {
     "data": {
      "text/plain": [
       "Series([], dtype: float64)"
      ]
     },
     "execution_count": 7,
     "metadata": {},
     "output_type": "execute_result"
    }
   ],
   "source": [
    "df.mean(axis=0, skipna=False)"
   ]
  },
  {
   "cell_type": "markdown",
   "id": "d8304c15",
   "metadata": {},
   "source": [
    "你看，对比 Numpy 的用法，你会发现， Pandas 在展示信息上还是挺对用户考虑的，它把行名等都展示出来，让人不犯迷糊。\n",
    "\n",
    "有了上面的 mean() 的用法做铺垫，理解后面的用法也方便很多。比如在计算人民收入的时候， 我们常用中值来代替均值，原因很简单，极高收入群体总是拉高了我们的平均收入， 用中位数反倒能反映出群众的真实收入。 查中值的方式也很简单，就是 median()。"
   ]
  },
  {
   "cell_type": "code",
   "execution_count": 8,
   "id": "a30c6d2c",
   "metadata": {},
   "outputs": [
    {
     "name": "stdout",
     "output_type": "stream",
     "text": [
      "mean(): 26750.0\n",
      "median(): 3000.0\n"
     ]
    }
   ],
   "source": [
    "# 最后一个为高收入人\n",
    "s = pd.Series([1000, 2000, 4000, 100000])\n",
    "print(\"mean():\", s.mean())   # 拉高平均收入，拉高仇恨\n",
    "print(\"median():\", s.median())  # 比较合理"
   ]
  },
  {
   "cell_type": "markdown",
   "id": "8e81d65c",
   "metadata": {},
   "source": [
    "### 累加累乘\n",
    "有了上面的 mean() 和 median() 的用法做铺垫，理解后面的用法也方便很多。 比如要对数据做累加和累乘的运算，我们使用方式和 mean() 就没啥差别。"
   ]
  },
  {
   "cell_type": "code",
   "execution_count": 9,
   "id": "d625ac63",
   "metadata": {},
   "outputs": [
    {
     "data": {
      "text/html": [
       "<div>\n",
       "<style scoped>\n",
       "    .dataframe tbody tr th:only-of-type {\n",
       "        vertical-align: middle;\n",
       "    }\n",
       "\n",
       "    .dataframe tbody tr th {\n",
       "        vertical-align: top;\n",
       "    }\n",
       "\n",
       "    .dataframe thead th {\n",
       "        text-align: right;\n",
       "    }\n",
       "</style>\n",
       "<table border=\"1\" class=\"dataframe\">\n",
       "  <thead>\n",
       "    <tr style=\"text-align: right;\">\n",
       "      <th></th>\n",
       "      <th>c0</th>\n",
       "      <th>c1</th>\n",
       "      <th>c2</th>\n",
       "    </tr>\n",
       "  </thead>\n",
       "  <tbody>\n",
       "    <tr>\n",
       "      <th>0</th>\n",
       "      <td>0</td>\n",
       "      <td>1</td>\n",
       "      <td>2</td>\n",
       "    </tr>\n",
       "    <tr>\n",
       "      <th>1</th>\n",
       "      <td>3</td>\n",
       "      <td>4</td>\n",
       "      <td>5</td>\n",
       "    </tr>\n",
       "    <tr>\n",
       "      <th>2</th>\n",
       "      <td>6</td>\n",
       "      <td>7</td>\n",
       "      <td>8</td>\n",
       "    </tr>\n",
       "    <tr>\n",
       "      <th>3</th>\n",
       "      <td>9</td>\n",
       "      <td>10</td>\n",
       "      <td>11</td>\n",
       "    </tr>\n",
       "  </tbody>\n",
       "</table>\n",
       "</div>"
      ],
      "text/plain": [
       "   c0  c1  c2\n",
       "0   0   1   2\n",
       "1   3   4   5\n",
       "2   6   7   8\n",
       "3   9  10  11"
      ]
     },
     "execution_count": 9,
     "metadata": {},
     "output_type": "execute_result"
    }
   ],
   "source": [
    "df = pd.DataFrame(np.arange(12).reshape((4,3)), columns=[\"c0\", \"c1\", \"c2\"])\n",
    "df"
   ]
  },
  {
   "cell_type": "code",
   "execution_count": 10,
   "id": "cd7043b2",
   "metadata": {},
   "outputs": [
    {
     "name": "stdout",
     "output_type": "stream",
     "text": [
      "sum():\n",
      " c0    18\n",
      "c1    22\n",
      "c2    26\n",
      "dtype: int64\n",
      "\n",
      "sum(axis=0):\n",
      " c0    18\n",
      "c1    22\n",
      "c2    26\n",
      "dtype: int64\n",
      "\n",
      "sum(axis=1):\n",
      " 0     3\n",
      "1    12\n",
      "2    21\n",
      "3    30\n",
      "dtype: int64\n"
     ]
    }
   ],
   "source": [
    "print(\"sum():\\n\", df.sum())\n",
    "print(\"\\nsum(axis=0):\\n\", df.sum(axis=0))\n",
    "print(\"\\nsum(axis=1):\\n\", df.sum(axis=1))"
   ]
  },
  {
   "cell_type": "code",
   "execution_count": 11,
   "id": "b66b4115",
   "metadata": {},
   "outputs": [
    {
     "name": "stdout",
     "output_type": "stream",
     "text": [
      "prod():\n",
      " c0      0\n",
      "c1    280\n",
      "c2    880\n",
      "dtype: int32\n",
      "\n",
      "prod(axis=0):\n",
      " c0      0\n",
      "c1    280\n",
      "c2    880\n",
      "dtype: int32\n",
      "\n",
      "prod(axis=1):\n",
      " 0      0\n",
      "1     60\n",
      "2    336\n",
      "3    990\n",
      "dtype: int32\n"
     ]
    }
   ],
   "source": [
    "print(\"prod():\\n\", df.prod())\n",
    "print(\"\\nprod(axis=0):\\n\", df.prod(axis=0))\n",
    "print(\"\\nprod(axis=1):\\n\", df.prod(axis=1))"
   ]
  },
  {
   "cell_type": "markdown",
   "id": "bf1fc2fd",
   "metadata": {},
   "source": [
    "### 最大最小\n",
    "同理，理解了上面的用法，查找最大最小也不是问题。"
   ]
  },
  {
   "cell_type": "code",
   "execution_count": 12,
   "id": "91bf07d8",
   "metadata": {},
   "outputs": [
    {
     "name": "stdout",
     "output_type": "stream",
     "text": [
      "max():\n",
      " c0     9\n",
      "c1    10\n",
      "c2    11\n",
      "dtype: int32\n",
      "\n",
      "min():\n",
      " c0    0\n",
      "c1    1\n",
      "c2    2\n",
      "dtype: int32\n"
     ]
    }
   ],
   "source": [
    "print(\"max():\\n\", df.max())\n",
    "print(\"\\nmin():\\n\", df.min())"
   ]
  },
  {
   "cell_type": "markdown",
   "id": "ef166913",
   "metadata": {},
   "source": [
    "不过你注意到没，这种 max() 和 min() 都是对某一维度进行操作的，肯定有时候，你想要找到那个全局最大最小的数，这怎么找？ 哈哈，那你就做两次操作吧。或者你可以先把它转成 numpy，然后展平了求全局最大最小。"
   ]
  },
  {
   "cell_type": "code",
   "execution_count": 13,
   "id": "76cc8e37",
   "metadata": {},
   "outputs": [
    {
     "name": "stdout",
     "output_type": "stream",
     "text": [
      "11\n",
      "11\n"
     ]
    }
   ],
   "source": [
    "print(df.max().max())\n",
    "print(df.values.ravel().max())  # 用 Numpy 的方式运算"
   ]
  },
  {
   "cell_type": "markdown",
   "id": "4e5df6fc",
   "metadata": {},
   "source": [
    "如果想计算 mean 或者 median 这种，你想想然后再试试，用哪种方式比较合适呢？"
   ]
  },
  {
   "cell_type": "markdown",
   "id": "1e8ff962",
   "metadata": {},
   "source": [
    "### 处理空值\n",
    "总有 None 或者 NaN 值有时候挺烦人的，因为在做机器学习或者是统计数据的时候，你也不能放它在那不管。比如在机器学习中，如果有空值，你要么就选择放弃这条数据， 要么就要对它进行科学的填充，有人用均值有人用中值等。所以上面学到的技巧都能在这里用上。\n",
    "\n",
    "第一，你可能想要先看看你的数据中有没有空值。用下面的 isnull() 或者 notnull() 就能找到。"
   ]
  },
  {
   "cell_type": "code",
   "execution_count": 15,
   "id": "885862b4",
   "metadata": {},
   "outputs": [
    {
     "name": "stdout",
     "output_type": "stream",
     "text": [
      "     A    B    C    D\n",
      "0  1.0  2.0  3.0  0.0\n",
      "1  3.0  4.0  NaN  1.0\n",
      "2  NaN  NaN  NaN  NaN\n",
      "3  NaN  3.0  NaN  4.0\n",
      "\n",
      "isnull():\n",
      "        A      B      C      D\n",
      "0  False  False  False  False\n",
      "1  False  False   True  False\n",
      "2   True   True   True   True\n",
      "3   True  False   True  False\n",
      "\n",
      "notnull()\n",
      "        A      B      C      D\n",
      "0   True   True   True   True\n",
      "1   True   True  False   True\n",
      "2  False  False  False  False\n",
      "3  False   True  False   True\n"
     ]
    }
   ],
   "source": [
    "df = pd.DataFrame([[1, 2, 3, 0],\n",
    "                   [3, 4, None, 1],\n",
    "                   [None, None, None, None],\n",
    "                   [None, 3, None, 4]],\n",
    "                  columns=list(\"ABCD\"))\n",
    "print(df)\n",
    "print(\"\\nisnull():\\n\", df.isnull())  # True 就是空\n",
    "print(\"\\nnotnull()\\n\", df.notnull())  # False 为空"
   ]
  },
  {
   "cell_type": "markdown",
   "id": "dfd880b4",
   "metadata": {},
   "source": [
    "发现这里有空值，下面你就可以对这些 None, Null, NaN 做处理了。要么你就放弃这些有空值的数据，用 dropna()。"
   ]
  },
  {
   "cell_type": "code",
   "execution_count": 16,
   "id": "674949a7",
   "metadata": {},
   "outputs": [
    {
     "name": "stdout",
     "output_type": "stream",
     "text": [
      "默认：\n",
      "      A    B    C    D\n",
      "0  1.0  2.0  3.0  0.0\n",
      "\n",
      "axis=1:\n",
      " Empty DataFrame\n",
      "Columns: []\n",
      "Index: [0, 1, 2, 3]\n"
     ]
    }
   ],
   "source": [
    "print(\"默认：\\n\", df.dropna())  # 默认按 axis=0\n",
    "print(\"\\naxis=1:\\n\", df.dropna(axis=1))  # 可以换一个 axis drop"
   ]
  },
  {
   "cell_type": "markdown",
   "id": "92020f6f",
   "metadata": {},
   "source": [
    "当然，你觉得数据只要有值你就想留下来，只去***除掉那些全为空的数据***，那么你还能在筛选的时候加一个 how=\"all\" 参数。"
   ]
  },
  {
   "cell_type": "code",
   "execution_count": 17,
   "id": "35474f7c",
   "metadata": {},
   "outputs": [
    {
     "name": "stdout",
     "output_type": "stream",
     "text": [
      "     0     1    2\n",
      "1  1.0  None  3.0\n"
     ]
    }
   ],
   "source": [
    "df1 = pd.DataFrame([[None, None, None], [1,None,3]])\n",
    "print(df1.dropna(how=\"all\"))  # how 默认为 \"any\" "
   ]
  },
  {
   "cell_type": "markdown",
   "id": "b326beb3",
   "metadata": {},
   "source": [
    "刚也说了，除了 drop 掉有 None 的，还可以对这些空值进行填充，填充的值也可以自行选定。"
   ]
  },
  {
   "cell_type": "code",
   "execution_count": 18,
   "id": "27cfe01d",
   "metadata": {},
   "outputs": [
    {
     "data": {
      "text/html": [
       "<div>\n",
       "<style scoped>\n",
       "    .dataframe tbody tr th:only-of-type {\n",
       "        vertical-align: middle;\n",
       "    }\n",
       "\n",
       "    .dataframe tbody tr th {\n",
       "        vertical-align: top;\n",
       "    }\n",
       "\n",
       "    .dataframe thead th {\n",
       "        text-align: right;\n",
       "    }\n",
       "</style>\n",
       "<table border=\"1\" class=\"dataframe\">\n",
       "  <thead>\n",
       "    <tr style=\"text-align: right;\">\n",
       "      <th></th>\n",
       "      <th>A</th>\n",
       "      <th>B</th>\n",
       "      <th>C</th>\n",
       "      <th>D</th>\n",
       "    </tr>\n",
       "  </thead>\n",
       "  <tbody>\n",
       "    <tr>\n",
       "      <th>0</th>\n",
       "      <td>1.0</td>\n",
       "      <td>2.0</td>\n",
       "      <td>3.0</td>\n",
       "      <td>0.0</td>\n",
       "    </tr>\n",
       "    <tr>\n",
       "      <th>1</th>\n",
       "      <td>3.0</td>\n",
       "      <td>4.0</td>\n",
       "      <td>111.0</td>\n",
       "      <td>1.0</td>\n",
       "    </tr>\n",
       "    <tr>\n",
       "      <th>2</th>\n",
       "      <td>111.0</td>\n",
       "      <td>111.0</td>\n",
       "      <td>111.0</td>\n",
       "      <td>111.0</td>\n",
       "    </tr>\n",
       "    <tr>\n",
       "      <th>3</th>\n",
       "      <td>111.0</td>\n",
       "      <td>3.0</td>\n",
       "      <td>111.0</td>\n",
       "      <td>4.0</td>\n",
       "    </tr>\n",
       "  </tbody>\n",
       "</table>\n",
       "</div>"
      ],
      "text/plain": [
       "       A      B      C      D\n",
       "0    1.0    2.0    3.0    0.0\n",
       "1    3.0    4.0  111.0    1.0\n",
       "2  111.0  111.0  111.0  111.0\n",
       "3  111.0    3.0  111.0    4.0"
      ]
     },
     "execution_count": 18,
     "metadata": {},
     "output_type": "execute_result"
    }
   ],
   "source": [
    "df.fillna(111)  # 填充 111"
   ]
  },
  {
   "cell_type": "markdown",
   "id": "89c3a47c",
   "metadata": {},
   "source": [
    "对不同特征列做差异化的填充数值。"
   ]
  },
  {
   "cell_type": "code",
   "execution_count": 19,
   "id": "54a4f6f5",
   "metadata": {},
   "outputs": [
    {
     "data": {
      "text/html": [
       "<div>\n",
       "<style scoped>\n",
       "    .dataframe tbody tr th:only-of-type {\n",
       "        vertical-align: middle;\n",
       "    }\n",
       "\n",
       "    .dataframe tbody tr th {\n",
       "        vertical-align: top;\n",
       "    }\n",
       "\n",
       "    .dataframe thead th {\n",
       "        text-align: right;\n",
       "    }\n",
       "</style>\n",
       "<table border=\"1\" class=\"dataframe\">\n",
       "  <thead>\n",
       "    <tr style=\"text-align: right;\">\n",
       "      <th></th>\n",
       "      <th>A</th>\n",
       "      <th>B</th>\n",
       "      <th>C</th>\n",
       "      <th>D</th>\n",
       "    </tr>\n",
       "  </thead>\n",
       "  <tbody>\n",
       "    <tr>\n",
       "      <th>0</th>\n",
       "      <td>1.0</td>\n",
       "      <td>2.0</td>\n",
       "      <td>3.0</td>\n",
       "      <td>0.0</td>\n",
       "    </tr>\n",
       "    <tr>\n",
       "      <th>1</th>\n",
       "      <td>3.0</td>\n",
       "      <td>4.0</td>\n",
       "      <td>2.0</td>\n",
       "      <td>1.0</td>\n",
       "    </tr>\n",
       "    <tr>\n",
       "      <th>2</th>\n",
       "      <td>0.0</td>\n",
       "      <td>1.0</td>\n",
       "      <td>2.0</td>\n",
       "      <td>3.0</td>\n",
       "    </tr>\n",
       "    <tr>\n",
       "      <th>3</th>\n",
       "      <td>0.0</td>\n",
       "      <td>3.0</td>\n",
       "      <td>2.0</td>\n",
       "      <td>4.0</td>\n",
       "    </tr>\n",
       "  </tbody>\n",
       "</table>\n",
       "</div>"
      ],
      "text/plain": [
       "     A    B    C    D\n",
       "0  1.0  2.0  3.0  0.0\n",
       "1  3.0  4.0  2.0  1.0\n",
       "2  0.0  1.0  2.0  3.0\n",
       "3  0.0  3.0  2.0  4.0"
      ]
     },
     "execution_count": 19,
     "metadata": {},
     "output_type": "execute_result"
    }
   ],
   "source": [
    "values = {\"A\": 0, \"B\": 1, \"C\": 2, \"D\": 3}\n",
    "df.fillna(value=values)"
   ]
  },
  {
   "cell_type": "markdown",
   "id": "ea93a807",
   "metadata": {},
   "source": [
    "甚至，如果你有一个每一位上的默认值，你都可以用一个全新的 df 来做空位的填充。"
   ]
  },
  {
   "cell_type": "code",
   "execution_count": 20,
   "id": "13f2e71f",
   "metadata": {},
   "outputs": [
    {
     "name": "stdout",
     "output_type": "stream",
     "text": [
      "df2:\n",
      "     A   B   C   D\n",
      "0   0   1   2   3\n",
      "1   4   5   6   7\n",
      "2   8   9  10  11\n",
      "3  12  13  14  15\n",
      "\n",
      "fillna(df2):\n",
      "       A    B     C     D\n",
      "0   1.0  2.0   3.0   0.0\n",
      "1   3.0  4.0   6.0   1.0\n",
      "2   8.0  9.0  10.0  11.0\n",
      "3  12.0  3.0  14.0   4.0\n"
     ]
    }
   ],
   "source": [
    "df2 = pd.DataFrame(np.arange(16).reshape((4,4)), columns=list(\"ABCD\"))\n",
    "print(\"df2:\\n\", df2)\n",
    "print(\"\\nfillna(df2):\\n\", df.fillna(df2))"
   ]
  },
  {
   "cell_type": "markdown",
   "id": "16b9c5c6",
   "metadata": {},
   "source": [
    "### 获取索引\n",
    "一般来说，当你想用 np.argmax() 或者 np.argmin() 的时候，你可以在 pandas 用 idxmax() 和 idxmin() 来替换。原理都一样， 就是找到那个最大最小值的索引。这个的好处是，你只关注索引而不用关注值，你可以对这个索引的值做你想要的后续处理。\n",
    "\n",
    "同上面一样，你还能用上面学到的 skipna 来对空值做控制。"
   ]
  },
  {
   "cell_type": "code",
   "execution_count": 21,
   "id": "e3b72268",
   "metadata": {},
   "outputs": [
    {
     "name": "stdout",
     "output_type": "stream",
     "text": [
      "   A  B    C  D\n",
      "0  1  2  3.0  0\n",
      "1  3  4  NaN  1\n",
      "2  3  5  2.0  1\n",
      "3  3  2  2.0  3\n",
      "\n",
      "idxmax():\n",
      " A    1\n",
      "B    2\n",
      "C    0\n",
      "D    3\n",
      "dtype: int64\n",
      "\n",
      "idxmax(skipna=False):\n",
      " A    1.0\n",
      "B    2.0\n",
      "C    NaN\n",
      "D    3.0\n",
      "dtype: float64\n",
      "\n",
      "idxmin():\n",
      " A    0\n",
      "B    0\n",
      "C    2\n",
      "D    0\n",
      "dtype: int64\n"
     ]
    }
   ],
   "source": [
    "df = pd.DataFrame([[1, 2, 3, 0],\n",
    "                   [3, 4, None, 1],\n",
    "                   [3, 5, 2, 1],\n",
    "                   [3, 2, 2, 3]],\n",
    "                  columns=list(\"ABCD\"))\n",
    "print(df)\n",
    "print(\"\\nidxmax():\\n\", df.idxmax()) #打印A列最大的行号、B列最大行号、C列最大行号、D列最大行号\n",
    "print(\"\\nidxmax(skipna=False):\\n\", df.idxmax(skipna=False))\n",
    "print(\"\\nidxmin():\\n\", df.idxmin())"
   ]
  },
  {
   "cell_type": "code",
   "execution_count": null,
   "id": "dfd79a2b",
   "metadata": {},
   "outputs": [],
   "source": []
  }
 ],
 "metadata": {
  "kernelspec": {
   "display_name": "Python 3",
   "language": "python",
   "name": "python3"
  },
  "language_info": {
   "codemirror_mode": {
    "name": "ipython",
    "version": 3
   },
   "file_extension": ".py",
   "mimetype": "text/x-python",
   "name": "python",
   "nbconvert_exporter": "python",
   "pygments_lexer": "ipython3",
   "version": "3.6.13"
  }
 },
 "nbformat": 4,
 "nbformat_minor": 5
}
