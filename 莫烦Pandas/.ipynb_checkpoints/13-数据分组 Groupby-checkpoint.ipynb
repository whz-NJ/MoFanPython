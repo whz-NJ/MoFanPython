{
 "cells": [
  {
   "cell_type": "markdown",
   "id": "1f09bda7",
   "metadata": {},
   "source": [
    "数据有关键词、每个数据带有特定类别？我们怎样可以快速找到对应的类别，聚类分析？\n",
    "\n",
    "Pandas 中就有提供这样便捷的功能，groupby()。简单来说，groupby 就是提前帮你准备好快筛功能， 在你想要筛选特定数据的时候，快速帮你找到对应的数据块。 而且还可以针对不同 group 做不同的数据处理。"
   ]
  },
  {
   "cell_type": "markdown",
   "id": "882d906c",
   "metadata": {},
   "source": [
    "### 分组\n",
    "对于 groupby() 最核心的功能，自然就是将可以被归纳的数据进行归纳汇总。"
   ]
  },
  {
   "cell_type": "code",
   "execution_count": 1,
   "id": "acc1118c",
   "metadata": {},
   "outputs": [
    {
     "data": {
      "text/html": [
       "<div>\n",
       "<style scoped>\n",
       "    .dataframe tbody tr th:only-of-type {\n",
       "        vertical-align: middle;\n",
       "    }\n",
       "\n",
       "    .dataframe tbody tr th {\n",
       "        vertical-align: top;\n",
       "    }\n",
       "\n",
       "    .dataframe thead th {\n",
       "        text-align: right;\n",
       "    }\n",
       "</style>\n",
       "<table border=\"1\" class=\"dataframe\">\n",
       "  <thead>\n",
       "    <tr style=\"text-align: right;\">\n",
       "      <th></th>\n",
       "      <th>人</th>\n",
       "      <th>人物</th>\n",
       "      <th>评价</th>\n",
       "    </tr>\n",
       "  </thead>\n",
       "  <tbody>\n",
       "    <tr>\n",
       "      <th>0</th>\n",
       "      <td>小红</td>\n",
       "      <td>哈利波特</td>\n",
       "      <td>80</td>\n",
       "    </tr>\n",
       "    <tr>\n",
       "      <th>1</th>\n",
       "      <td>小明</td>\n",
       "      <td>蜘蛛侠</td>\n",
       "      <td>72</td>\n",
       "    </tr>\n",
       "    <tr>\n",
       "      <th>2</th>\n",
       "      <td>小红</td>\n",
       "      <td>雷神</td>\n",
       "      <td>83</td>\n",
       "    </tr>\n",
       "    <tr>\n",
       "      <th>3</th>\n",
       "      <td>小红</td>\n",
       "      <td>蜘蛛侠</td>\n",
       "      <td>45</td>\n",
       "    </tr>\n",
       "    <tr>\n",
       "      <th>4</th>\n",
       "      <td>小明</td>\n",
       "      <td>超人</td>\n",
       "      <td>57</td>\n",
       "    </tr>\n",
       "  </tbody>\n",
       "</table>\n",
       "</div>"
      ],
      "text/plain": [
       "    人    人物  评价\n",
       "0  小红  哈利波特  80\n",
       "1  小明   蜘蛛侠  72\n",
       "2  小红    雷神  83\n",
       "3  小红   蜘蛛侠  45\n",
       "4  小明    超人  57"
      ]
     },
     "execution_count": 1,
     "metadata": {},
     "output_type": "execute_result"
    }
   ],
   "source": [
    "import pandas as pd\n",
    "\n",
    "df = pd.DataFrame(\n",
    "    [\n",
    "        (\"小红\", \"哈利波特\", 80),\n",
    "        (\"小明\", \"蜘蛛侠\", 72),\n",
    "        (\"小红\", \"雷神\", 83),\n",
    "        (\"小红\", \"蜘蛛侠\", 45),\n",
    "        (\"小明\", \"超人\", 57),\n",
    "    ],\n",
    "    columns=(\"人\", \"人物\", \"评价\"),\n",
    ")\n",
    "df"
   ]
  },
  {
   "cell_type": "markdown",
   "id": "fca70a5c",
   "metadata": {},
   "source": [
    "比如我有上面这组数据，描述了每个人对人物的评价。这组数据的形成可能就是一段时间内，收集了不同人对各种人物的评价，所以它的组织顺序会比较乱。 好在我们还可以用 groupby 来重组。"
   ]
  },
  {
   "cell_type": "code",
   "execution_count": 2,
   "id": "e0c2a40d",
   "metadata": {},
   "outputs": [
    {
     "data": {
      "text/plain": [
       "<pandas.core.groupby.generic.DataFrameGroupBy object at 0x0000021B621C41D0>"
      ]
     },
     "execution_count": 2,
     "metadata": {},
     "output_type": "execute_result"
    }
   ],
   "source": [
    "grouped = df.groupby(\"人\")\n",
    "grouped"
   ]
  },
  {
   "cell_type": "markdown",
   "id": "98490a42",
   "metadata": {},
   "source": [
    "上面我们就获取了 Pandas 当中的 group 类，再看看这个 grouped 当中究竟是怎么组织我们的数据的。"
   ]
  },
  {
   "cell_type": "code",
   "execution_count": 4,
   "id": "a2224367",
   "metadata": {},
   "outputs": [
    {
     "data": {
      "text/plain": [
       "{'小明': [1, 4], '小红': [0, 2, 3]}"
      ]
     },
     "execution_count": 4,
     "metadata": {},
     "output_type": "execute_result"
    }
   ],
   "source": [
    "grouped.groups #保存的其实是不同 人 的 row index"
   ]
  },
  {
   "cell_type": "markdown",
   "id": "4e2e4f25",
   "metadata": {},
   "source": [
    "你会发现，它保存的其实是不同 人 的 row index, 这样后面重新在找 group 组的时候，可以快速用 index 找到对应行。 要直接获取不同的 人 组，我们看看怎么搞？"
   ]
  },
  {
   "cell_type": "code",
   "execution_count": 5,
   "id": "301a999a",
   "metadata": {},
   "outputs": [
    {
     "data": {
      "text/html": [
       "<div>\n",
       "<style scoped>\n",
       "    .dataframe tbody tr th:only-of-type {\n",
       "        vertical-align: middle;\n",
       "    }\n",
       "\n",
       "    .dataframe tbody tr th {\n",
       "        vertical-align: top;\n",
       "    }\n",
       "\n",
       "    .dataframe thead th {\n",
       "        text-align: right;\n",
       "    }\n",
       "</style>\n",
       "<table border=\"1\" class=\"dataframe\">\n",
       "  <thead>\n",
       "    <tr style=\"text-align: right;\">\n",
       "      <th></th>\n",
       "      <th>人</th>\n",
       "      <th>人物</th>\n",
       "      <th>评价</th>\n",
       "    </tr>\n",
       "  </thead>\n",
       "  <tbody>\n",
       "    <tr>\n",
       "      <th>0</th>\n",
       "      <td>小红</td>\n",
       "      <td>哈利波特</td>\n",
       "      <td>80</td>\n",
       "    </tr>\n",
       "    <tr>\n",
       "      <th>2</th>\n",
       "      <td>小红</td>\n",
       "      <td>雷神</td>\n",
       "      <td>83</td>\n",
       "    </tr>\n",
       "    <tr>\n",
       "      <th>3</th>\n",
       "      <td>小红</td>\n",
       "      <td>蜘蛛侠</td>\n",
       "      <td>45</td>\n",
       "    </tr>\n",
       "  </tbody>\n",
       "</table>\n",
       "</div>"
      ],
      "text/plain": [
       "    人    人物  评价\n",
       "0  小红  哈利波特  80\n",
       "2  小红    雷神  83\n",
       "3  小红   蜘蛛侠  45"
      ]
     },
     "execution_count": 5,
     "metadata": {},
     "output_type": "execute_result"
    }
   ],
   "source": [
    "df.iloc[grouped.groups[\"小红\"]]"
   ]
  },
  {
   "cell_type": "markdown",
   "id": "c3ab252f",
   "metadata": {},
   "source": [
    "对，上面的确是一种我们用以前学的知识就能找到的办法，不过 懒人工具 pandas 怎么能让我们这么费力呢？ 所以它直接能在 grouped 的基础上，get_group()。"
   ]
  },
  {
   "cell_type": "code",
   "execution_count": 6,
   "id": "b66ebe99",
   "metadata": {},
   "outputs": [
    {
     "data": {
      "text/html": [
       "<div>\n",
       "<style scoped>\n",
       "    .dataframe tbody tr th:only-of-type {\n",
       "        vertical-align: middle;\n",
       "    }\n",
       "\n",
       "    .dataframe tbody tr th {\n",
       "        vertical-align: top;\n",
       "    }\n",
       "\n",
       "    .dataframe thead th {\n",
       "        text-align: right;\n",
       "    }\n",
       "</style>\n",
       "<table border=\"1\" class=\"dataframe\">\n",
       "  <thead>\n",
       "    <tr style=\"text-align: right;\">\n",
       "      <th></th>\n",
       "      <th>人</th>\n",
       "      <th>人物</th>\n",
       "      <th>评价</th>\n",
       "    </tr>\n",
       "  </thead>\n",
       "  <tbody>\n",
       "    <tr>\n",
       "      <th>0</th>\n",
       "      <td>小红</td>\n",
       "      <td>哈利波特</td>\n",
       "      <td>80</td>\n",
       "    </tr>\n",
       "    <tr>\n",
       "      <th>2</th>\n",
       "      <td>小红</td>\n",
       "      <td>雷神</td>\n",
       "      <td>83</td>\n",
       "    </tr>\n",
       "    <tr>\n",
       "      <th>3</th>\n",
       "      <td>小红</td>\n",
       "      <td>蜘蛛侠</td>\n",
       "      <td>45</td>\n",
       "    </tr>\n",
       "  </tbody>\n",
       "</table>\n",
       "</div>"
      ],
      "text/plain": [
       "    人    人物  评价\n",
       "0  小红  哈利波特  80\n",
       "2  小红    雷神  83\n",
       "3  小红   蜘蛛侠  45"
      ]
     },
     "execution_count": 6,
     "metadata": {},
     "output_type": "execute_result"
    }
   ],
   "source": [
    "grouped.get_group(\"小红\")"
   ]
  },
  {
   "cell_type": "markdown",
   "id": "6e00ab03",
   "metadata": {},
   "source": [
    "你看，这上下两种方法其实可以达到一样的效果。"
   ]
  },
  {
   "cell_type": "markdown",
   "id": "95aae56f",
   "metadata": {},
   "source": [
    "### 调用分好的组\n",
    "除了 grouped.get_group()，其实还有更多方式来获取到分好的组，应对你不同的应用需求。 而这些不同的筛选方法，其实本质还是在对 grouped.groups 中的 index 进行操作的一个过程。 比如如果我要选第一个数据，pandas 就会调用 groups 里面的第一个 index。"
   ]
  },
  {
   "cell_type": "code",
   "execution_count": 7,
   "id": "6de8f91e",
   "metadata": {},
   "outputs": [
    {
     "data": {
      "text/html": [
       "<div>\n",
       "<style scoped>\n",
       "    .dataframe tbody tr th:only-of-type {\n",
       "        vertical-align: middle;\n",
       "    }\n",
       "\n",
       "    .dataframe tbody tr th {\n",
       "        vertical-align: top;\n",
       "    }\n",
       "\n",
       "    .dataframe thead th {\n",
       "        text-align: right;\n",
       "    }\n",
       "</style>\n",
       "<table border=\"1\" class=\"dataframe\">\n",
       "  <thead>\n",
       "    <tr style=\"text-align: right;\">\n",
       "      <th></th>\n",
       "      <th>人物</th>\n",
       "      <th>评价</th>\n",
       "    </tr>\n",
       "    <tr>\n",
       "      <th>人</th>\n",
       "      <th></th>\n",
       "      <th></th>\n",
       "    </tr>\n",
       "  </thead>\n",
       "  <tbody>\n",
       "    <tr>\n",
       "      <th>小明</th>\n",
       "      <td>蜘蛛侠</td>\n",
       "      <td>72</td>\n",
       "    </tr>\n",
       "    <tr>\n",
       "      <th>小红</th>\n",
       "      <td>哈利波特</td>\n",
       "      <td>80</td>\n",
       "    </tr>\n",
       "  </tbody>\n",
       "</table>\n",
       "</div>"
      ],
      "text/plain": [
       "      人物  评价\n",
       "人           \n",
       "小明   蜘蛛侠  72\n",
       "小红  哈利波特  80"
      ]
     },
     "execution_count": 7,
     "metadata": {},
     "output_type": "execute_result"
    }
   ],
   "source": [
    "grouped.first() # 返回给你每一个组的第一个数据"
   ]
  },
  {
   "cell_type": "markdown",
   "id": "645be27b",
   "metadata": {},
   "source": [
    "注意，它会返回给你每一个组的第一个数据，而如果我要找最后一个，也是同样的逻辑。"
   ]
  },
  {
   "cell_type": "code",
   "execution_count": 8,
   "id": "3df499df",
   "metadata": {},
   "outputs": [
    {
     "data": {
      "text/html": [
       "<div>\n",
       "<style scoped>\n",
       "    .dataframe tbody tr th:only-of-type {\n",
       "        vertical-align: middle;\n",
       "    }\n",
       "\n",
       "    .dataframe tbody tr th {\n",
       "        vertical-align: top;\n",
       "    }\n",
       "\n",
       "    .dataframe thead th {\n",
       "        text-align: right;\n",
       "    }\n",
       "</style>\n",
       "<table border=\"1\" class=\"dataframe\">\n",
       "  <thead>\n",
       "    <tr style=\"text-align: right;\">\n",
       "      <th></th>\n",
       "      <th>人物</th>\n",
       "      <th>评价</th>\n",
       "    </tr>\n",
       "    <tr>\n",
       "      <th>人</th>\n",
       "      <th></th>\n",
       "      <th></th>\n",
       "    </tr>\n",
       "  </thead>\n",
       "  <tbody>\n",
       "    <tr>\n",
       "      <th>小明</th>\n",
       "      <td>超人</td>\n",
       "      <td>57</td>\n",
       "    </tr>\n",
       "    <tr>\n",
       "      <th>小红</th>\n",
       "      <td>蜘蛛侠</td>\n",
       "      <td>45</td>\n",
       "    </tr>\n",
       "  </tbody>\n",
       "</table>\n",
       "</div>"
      ],
      "text/plain": [
       "     人物  评价\n",
       "人          \n",
       "小明   超人  57\n",
       "小红  蜘蛛侠  45"
      ]
     },
     "execution_count": 8,
     "metadata": {},
     "output_type": "execute_result"
    }
   ],
   "source": [
    "grouped.last()"
   ]
  },
  {
   "cell_type": "markdown",
   "id": "269e44ff",
   "metadata": {},
   "source": [
    "甚至你还可以做一些聚合操作，比如对每一个组里面的数据进行 sum, mean 等操作。你可以在下面的执行区都试试。"
   ]
  },
  {
   "cell_type": "code",
   "execution_count": 9,
   "id": "3caac2f3",
   "metadata": {},
   "outputs": [
    {
     "data": {
      "text/html": [
       "<div>\n",
       "<style scoped>\n",
       "    .dataframe tbody tr th:only-of-type {\n",
       "        vertical-align: middle;\n",
       "    }\n",
       "\n",
       "    .dataframe tbody tr th {\n",
       "        vertical-align: top;\n",
       "    }\n",
       "\n",
       "    .dataframe thead th {\n",
       "        text-align: right;\n",
       "    }\n",
       "</style>\n",
       "<table border=\"1\" class=\"dataframe\">\n",
       "  <thead>\n",
       "    <tr style=\"text-align: right;\">\n",
       "      <th></th>\n",
       "      <th>评价</th>\n",
       "    </tr>\n",
       "    <tr>\n",
       "      <th>人</th>\n",
       "      <th></th>\n",
       "    </tr>\n",
       "  </thead>\n",
       "  <tbody>\n",
       "    <tr>\n",
       "      <th>小明</th>\n",
       "      <td>129</td>\n",
       "    </tr>\n",
       "    <tr>\n",
       "      <th>小红</th>\n",
       "      <td>208</td>\n",
       "    </tr>\n",
       "  </tbody>\n",
       "</table>\n",
       "</div>"
      ],
      "text/plain": [
       "     评价\n",
       "人      \n",
       "小明  129\n",
       "小红  208"
      ]
     },
     "execution_count": 9,
     "metadata": {},
     "output_type": "execute_result"
    }
   ],
   "source": [
    "grouped.sum()"
   ]
  },
  {
   "cell_type": "markdown",
   "id": "0d435c02",
   "metadata": {},
   "source": [
    "### 循环处理\n",
    "有时候你想要对组进行循环处理，通过一个循环最所有组统一操作一下。那你需要注意一下这个 grouped 的循环，会带着两个字段做循环。 一个是组名，一个是组数据。"
   ]
  },
  {
   "cell_type": "code",
   "execution_count": 10,
   "id": "24cb4006",
   "metadata": {},
   "outputs": [
    {
     "name": "stdout",
     "output_type": "stream",
     "text": [
      "name: 小明\n",
      "    人   人物  评价\n",
      "1  小明  蜘蛛侠  72\n",
      "4  小明   超人  57\n",
      "name: 小红\n",
      "    人    人物  评价\n",
      "0  小红  哈利波特  80\n",
      "2  小红    雷神  83\n",
      "3  小红   蜘蛛侠  45\n"
     ]
    }
   ],
   "source": [
    "for name, group in grouped:\n",
    "    print(\"name:\", name)\n",
    "    print(group)"
   ]
  },
  {
   "cell_type": "markdown",
   "id": "d07985ff",
   "metadata": {},
   "source": [
    "### 多从分组\n",
    "数据真的很多，在不同分组后，我们还想对另一 column 的值也进行分组？ 比如小红今天再看了一遍雷神，觉得雷神今年的表现不错，对雷神做了一次新的高分评价。"
   ]
  },
  {
   "cell_type": "code",
   "execution_count": 11,
   "id": "ef22ad5f",
   "metadata": {},
   "outputs": [
    {
     "data": {
      "text/html": [
       "<div>\n",
       "<style scoped>\n",
       "    .dataframe tbody tr th:only-of-type {\n",
       "        vertical-align: middle;\n",
       "    }\n",
       "\n",
       "    .dataframe tbody tr th {\n",
       "        vertical-align: top;\n",
       "    }\n",
       "\n",
       "    .dataframe thead th {\n",
       "        text-align: right;\n",
       "    }\n",
       "</style>\n",
       "<table border=\"1\" class=\"dataframe\">\n",
       "  <thead>\n",
       "    <tr style=\"text-align: right;\">\n",
       "      <th></th>\n",
       "      <th>人</th>\n",
       "      <th>人物</th>\n",
       "      <th>评价</th>\n",
       "    </tr>\n",
       "  </thead>\n",
       "  <tbody>\n",
       "    <tr>\n",
       "      <th>0</th>\n",
       "      <td>小红</td>\n",
       "      <td>哈利波特</td>\n",
       "      <td>80</td>\n",
       "    </tr>\n",
       "    <tr>\n",
       "      <th>1</th>\n",
       "      <td>小明</td>\n",
       "      <td>蜘蛛侠</td>\n",
       "      <td>72</td>\n",
       "    </tr>\n",
       "    <tr>\n",
       "      <th>2</th>\n",
       "      <td>小红</td>\n",
       "      <td>雷神</td>\n",
       "      <td>83</td>\n",
       "    </tr>\n",
       "    <tr>\n",
       "      <th>3</th>\n",
       "      <td>小红</td>\n",
       "      <td>雷神</td>\n",
       "      <td>90</td>\n",
       "    </tr>\n",
       "    <tr>\n",
       "      <th>4</th>\n",
       "      <td>小红</td>\n",
       "      <td>蜘蛛侠</td>\n",
       "      <td>45</td>\n",
       "    </tr>\n",
       "    <tr>\n",
       "      <th>5</th>\n",
       "      <td>小明</td>\n",
       "      <td>超人</td>\n",
       "      <td>57</td>\n",
       "    </tr>\n",
       "  </tbody>\n",
       "</table>\n",
       "</div>"
      ],
      "text/plain": [
       "    人    人物  评价\n",
       "0  小红  哈利波特  80\n",
       "1  小明   蜘蛛侠  72\n",
       "2  小红    雷神  83\n",
       "3  小红    雷神  90\n",
       "4  小红   蜘蛛侠  45\n",
       "5  小明    超人  57"
      ]
     },
     "execution_count": 11,
     "metadata": {},
     "output_type": "execute_result"
    }
   ],
   "source": [
    "df = pd.DataFrame(\n",
    "    [\n",
    "        (\"小红\", \"哈利波特\", 80),\n",
    "        (\"小明\", \"蜘蛛侠\", 72),\n",
    "        (\"小红\", \"雷神\", 83),\n",
    "        (\"小红\", \"雷神\", 90),\n",
    "        (\"小红\", \"蜘蛛侠\", 45),\n",
    "        (\"小明\", \"超人\", 57),\n",
    "    ],\n",
    "    columns=(\"人\", \"人物\", \"评价\"),\n",
    ")\n",
    "df"
   ]
  },
  {
   "cell_type": "markdown",
   "id": "5261cbe9",
   "metadata": {},
   "source": [
    "这时，小红数据中就会有两次雷神的评价了。如果这类的事情发生很多，我们也可以深入划分一下细分领域的组信息。 比如我按照 人 和 人物 进行分组，而且选择 小红 的 雷神 评分进行查看。"
   ]
  },
  {
   "cell_type": "code",
   "execution_count": 12,
   "id": "9c29dce1",
   "metadata": {},
   "outputs": [
    {
     "data": {
      "text/html": [
       "<div>\n",
       "<style scoped>\n",
       "    .dataframe tbody tr th:only-of-type {\n",
       "        vertical-align: middle;\n",
       "    }\n",
       "\n",
       "    .dataframe tbody tr th {\n",
       "        vertical-align: top;\n",
       "    }\n",
       "\n",
       "    .dataframe thead th {\n",
       "        text-align: right;\n",
       "    }\n",
       "</style>\n",
       "<table border=\"1\" class=\"dataframe\">\n",
       "  <thead>\n",
       "    <tr style=\"text-align: right;\">\n",
       "      <th></th>\n",
       "      <th>人</th>\n",
       "      <th>人物</th>\n",
       "      <th>评价</th>\n",
       "    </tr>\n",
       "  </thead>\n",
       "  <tbody>\n",
       "    <tr>\n",
       "      <th>2</th>\n",
       "      <td>小红</td>\n",
       "      <td>雷神</td>\n",
       "      <td>83</td>\n",
       "    </tr>\n",
       "    <tr>\n",
       "      <th>3</th>\n",
       "      <td>小红</td>\n",
       "      <td>雷神</td>\n",
       "      <td>90</td>\n",
       "    </tr>\n",
       "  </tbody>\n",
       "</table>\n",
       "</div>"
      ],
      "text/plain": [
       "    人  人物  评价\n",
       "2  小红  雷神  83\n",
       "3  小红  雷神  90"
      ]
     },
     "execution_count": 12,
     "metadata": {},
     "output_type": "execute_result"
    }
   ],
   "source": [
    "df.groupby([\"人\", \"人物\"]).get_group((\"小红\", \"雷神\"))"
   ]
  },
  {
   "cell_type": "markdown",
   "id": "88b14e11",
   "metadata": {},
   "source": [
    "### 聚合计算\n",
    "对选出来的数据，有时候你并不仅仅只是为了用眼直接看，你还想要对筛选出来的数据进行统计学上的运算。比如上面我举的 grouped.sum() 这个例子。"
   ]
  },
  {
   "cell_type": "code",
   "execution_count": 13,
   "id": "39b210ef",
   "metadata": {},
   "outputs": [
    {
     "data": {
      "text/html": [
       "<div>\n",
       "<style scoped>\n",
       "    .dataframe tbody tr th:only-of-type {\n",
       "        vertical-align: middle;\n",
       "    }\n",
       "\n",
       "    .dataframe tbody tr th {\n",
       "        vertical-align: top;\n",
       "    }\n",
       "\n",
       "    .dataframe thead th {\n",
       "        text-align: right;\n",
       "    }\n",
       "</style>\n",
       "<table border=\"1\" class=\"dataframe\">\n",
       "  <thead>\n",
       "    <tr style=\"text-align: right;\">\n",
       "      <th></th>\n",
       "      <th>评价</th>\n",
       "    </tr>\n",
       "    <tr>\n",
       "      <th>人</th>\n",
       "      <th></th>\n",
       "    </tr>\n",
       "  </thead>\n",
       "  <tbody>\n",
       "    <tr>\n",
       "      <th>小明</th>\n",
       "      <td>129</td>\n",
       "    </tr>\n",
       "    <tr>\n",
       "      <th>小红</th>\n",
       "      <td>298</td>\n",
       "    </tr>\n",
       "  </tbody>\n",
       "</table>\n",
       "</div>"
      ],
      "text/plain": [
       "     评价\n",
       "人      \n",
       "小明  129\n",
       "小红  298"
      ]
     },
     "execution_count": 13,
     "metadata": {},
     "output_type": "execute_result"
    }
   ],
   "source": [
    "import numpy as np\n",
    "\n",
    "grouped = df.groupby(\"人\")\n",
    "grouped.aggregate(np.sum)"
   ]
  },
  {
   "cell_type": "markdown",
   "id": "64efb90b",
   "metadata": {},
   "source": [
    "如果你想要对数据一次性做更多的计算，你可以多加几个要计算的操作在后面，比如 [sum, mean, std]，注意下面的 .agg() 其实是 .aggregate() 的缩写， 它俩是一样的。下面我们就对每组的 评价 指标进行一次性的多种运算。"
   ]
  },
  {
   "cell_type": "code",
   "execution_count": 14,
   "id": "f9c4ea1d",
   "metadata": {},
   "outputs": [
    {
     "data": {
      "text/html": [
       "<div>\n",
       "<style scoped>\n",
       "    .dataframe tbody tr th:only-of-type {\n",
       "        vertical-align: middle;\n",
       "    }\n",
       "\n",
       "    .dataframe tbody tr th {\n",
       "        vertical-align: top;\n",
       "    }\n",
       "\n",
       "    .dataframe thead th {\n",
       "        text-align: right;\n",
       "    }\n",
       "</style>\n",
       "<table border=\"1\" class=\"dataframe\">\n",
       "  <thead>\n",
       "    <tr style=\"text-align: right;\">\n",
       "      <th></th>\n",
       "      <th>sum</th>\n",
       "      <th>mean</th>\n",
       "      <th>std</th>\n",
       "    </tr>\n",
       "    <tr>\n",
       "      <th>人</th>\n",
       "      <th></th>\n",
       "      <th></th>\n",
       "      <th></th>\n",
       "    </tr>\n",
       "  </thead>\n",
       "  <tbody>\n",
       "    <tr>\n",
       "      <th>小明</th>\n",
       "      <td>129</td>\n",
       "      <td>64.5</td>\n",
       "      <td>10.606602</td>\n",
       "    </tr>\n",
       "    <tr>\n",
       "      <th>小红</th>\n",
       "      <td>298</td>\n",
       "      <td>74.5</td>\n",
       "      <td>20.108042</td>\n",
       "    </tr>\n",
       "  </tbody>\n",
       "</table>\n",
       "</div>"
      ],
      "text/plain": [
       "    sum  mean        std\n",
       "人                       \n",
       "小明  129  64.5  10.606602\n",
       "小红  298  74.5  20.108042"
      ]
     },
     "execution_count": 14,
     "metadata": {},
     "output_type": "execute_result"
    }
   ],
   "source": [
    "grouped[\"评价\"].agg([np.sum, np.mean, np.std])"
   ]
  },
  {
   "cell_type": "markdown",
   "id": "c63c3a1a",
   "metadata": {},
   "source": [
    "还有一个小技巧，如果你不喜欢用英文表达，或者你想要用另外一个名字来描述 column，你可以用 rename 来重新命名。"
   ]
  },
  {
   "cell_type": "code",
   "execution_count": 15,
   "id": "bc137c0a",
   "metadata": {},
   "outputs": [
    {
     "data": {
      "text/html": [
       "<div>\n",
       "<style scoped>\n",
       "    .dataframe tbody tr th:only-of-type {\n",
       "        vertical-align: middle;\n",
       "    }\n",
       "\n",
       "    .dataframe tbody tr th {\n",
       "        vertical-align: top;\n",
       "    }\n",
       "\n",
       "    .dataframe thead th {\n",
       "        text-align: right;\n",
       "    }\n",
       "</style>\n",
       "<table border=\"1\" class=\"dataframe\">\n",
       "  <thead>\n",
       "    <tr style=\"text-align: right;\">\n",
       "      <th></th>\n",
       "      <th>合</th>\n",
       "      <th>均值</th>\n",
       "      <th>标准差</th>\n",
       "    </tr>\n",
       "    <tr>\n",
       "      <th>人</th>\n",
       "      <th></th>\n",
       "      <th></th>\n",
       "      <th></th>\n",
       "    </tr>\n",
       "  </thead>\n",
       "  <tbody>\n",
       "    <tr>\n",
       "      <th>小明</th>\n",
       "      <td>129</td>\n",
       "      <td>64.5</td>\n",
       "      <td>10.606602</td>\n",
       "    </tr>\n",
       "    <tr>\n",
       "      <th>小红</th>\n",
       "      <td>298</td>\n",
       "      <td>74.5</td>\n",
       "      <td>20.108042</td>\n",
       "    </tr>\n",
       "  </tbody>\n",
       "</table>\n",
       "</div>"
      ],
      "text/plain": [
       "      合    均值        标准差\n",
       "人                       \n",
       "小明  129  64.5  10.606602\n",
       "小红  298  74.5  20.108042"
      ]
     },
     "execution_count": 15,
     "metadata": {},
     "output_type": "execute_result"
    }
   ],
   "source": [
    "grouped[\"评价\"].agg(\n",
    "    [np.sum, np.mean, np.std]\n",
    ").rename(columns={\n",
    "    \"sum\": \"合\", \n",
    "    \"mean\": \"均值\", \n",
    "    \"std\": \"标准差\"\n",
    "})"
   ]
  },
  {
   "cell_type": "markdown",
   "id": "120b8888",
   "metadata": {},
   "source": [
    "### 总结\n",
    "我以前在用 Excel 的时候（查 log），经常会用分组来筛选观看数据，现在如果我有了固定的需求， 我完全可以将这些手动 Excel 查 log 的行为自动化到 Python 让它自动帮我完成。你在有同样需求的情况下，也要记得考虑能否用 Pandas 来帮你减负哦。"
   ]
  },
  {
   "cell_type": "code",
   "execution_count": null,
   "id": "fe240a22",
   "metadata": {},
   "outputs": [],
   "source": []
  }
 ],
 "metadata": {
  "kernelspec": {
   "display_name": "Python 3",
   "language": "python",
   "name": "python3"
  },
  "language_info": {
   "codemirror_mode": {
    "name": "ipython",
    "version": 3
   },
   "file_extension": ".py",
   "mimetype": "text/x-python",
   "name": "python",
   "nbconvert_exporter": "python",
   "pygments_lexer": "ipython3",
   "version": "3.6.13"
  }
 },
 "nbformat": 4,
 "nbformat_minor": 5
}
