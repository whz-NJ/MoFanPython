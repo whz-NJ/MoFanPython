{
 "cells": [
  {
   "cell_type": "markdown",
   "id": "a1e95c12",
   "metadata": {},
   "source": [
    "为什么时间序列在有些数据中十分重要呢？ 想想如果你有一批按时间生产的产品，他们的销售业绩和产品质量肯定都绑定在了时间上， 如果哪几天销售好，你也可以回归过来看到底是什么原因导致的，比如节假日，购物节等等。\n",
    "\n",
    "又或者我有一批数据出现了记录异常，比如我的网站在昨天受黑客攻击了， 我要去定位攻击的时间和影响范围，我肯定要在以时间序列记录的 log 中寻找线索。\n",
    "\n",
    "所以时间序列不仅仅是数据的一个维度，而且也是协助数据分析的一个重要标尺。"
   ]
  },
  {
   "cell_type": "markdown",
   "id": "0346058b",
   "metadata": {},
   "source": [
    "### 读时间序列数据\n",
    "我们这里通常说的时间序列是时间点的序列，比如 2022-03-13 12:22:32。看看这些数据是不是常出现在你的报表，或者 log 中？ 我们可以用 Pandas 读取文件的方式把这些带着时间序列的数据读出来， 在让 Pandas 识别这些时间序列，你就能对这些时间序列做很多事情。\n",
    "\n",
    "比如我读出来是这样一份数据。"
   ]
  },
  {
   "cell_type": "code",
   "execution_count": 1,
   "id": "4102ae88",
   "metadata": {},
   "outputs": [
    {
     "name": "stdout",
     "output_type": "stream",
     "text": [
      "         time  value\n",
      "0  2022/03/12      1\n",
      "1  2022/03/13      2\n",
      "2  2022/03/14      3\n",
      "\n",
      "\n",
      "time:\n",
      " 0    2022/03/12\n",
      "1    2022/03/13\n",
      "2    2022/03/14\n",
      "Name: time, dtype: object\n"
     ]
    }
   ],
   "source": [
    "import pandas as pd\n",
    "\n",
    "df = pd.DataFrame({\n",
    "    \"time\": [\"2022/03/12\", \"2022/03/13\", \"2022/03/14\"],\n",
    "    \"value\": [1,2,3]\n",
    "})\n",
    "print(df)\n",
    "print(\"\\n\\ntime:\\n\",df[\"time\"])"
   ]
  },
  {
   "cell_type": "markdown",
   "id": "24b3cab2",
   "metadata": {},
   "source": [
    "现在，Pandas 是不知道 time 这个 column 是时间序列的（现在认为它是 object）， 我们需要告诉 Pandas 把这个 time 套上时间序列的标识。"
   ]
  },
  {
   "cell_type": "code",
   "execution_count": 2,
   "id": "549990ef",
   "metadata": {},
   "outputs": [
    {
     "data": {
      "text/plain": [
       "0   2022-03-12\n",
       "1   2022-03-13\n",
       "2   2022-03-14\n",
       "Name: time, dtype: datetime64[ns]"
      ]
     },
     "execution_count": 2,
     "metadata": {},
     "output_type": "execute_result"
    }
   ],
   "source": [
    "pd.to_datetime(df[\"time\"])"
   ]
  },
  {
   "cell_type": "markdown",
   "id": "ba4d2b43",
   "metadata": {},
   "source": [
    "你看，现在它就能把这串 object 数据转换成 datetime[64] 了。这就是 Pandas 当中的 Timestamp 数据类型。 就算我的数据不是按标准格式储存的，它也能尝试帮我识别出来标准的日期格式。可见 Pandas 的强悍之处了。"
   ]
  },
  {
   "cell_type": "code",
   "execution_count": 3,
   "id": "3f1ad479",
   "metadata": {},
   "outputs": [
    {
     "data": {
      "text/plain": [
       "DatetimeIndex(['2022-03-12', '2022-03-13', '2022-03-14'], dtype='datetime64[ns]', freq=None)"
      ]
     },
     "execution_count": 3,
     "metadata": {},
     "output_type": "execute_result"
    }
   ],
   "source": [
    "pd.to_datetime(\n",
    "    [\"2022/03/12\", \"2022.03.13\", \"14/03/2022\"]\n",
    ")"
   ]
  },
  {
   "cell_type": "markdown",
   "id": "4bfa306b",
   "metadata": {},
   "source": [
    "虽然它这么强悍，而且也能识别出非标准准的日期形式，但是输出的结果真的是你期望的吗？万一有个记录员比较有个性， 它喜欢用 月@日@年%%秒|时|分 这种形式记录日期，这么不规范，咋整？"
   ]
  },
  {
   "cell_type": "code",
   "execution_count": 4,
   "id": "0cf69f8b",
   "metadata": {},
   "outputs": [
    {
     "ename": "ParserError",
     "evalue": "Unknown string format: 1@21@2022%%11|11|32",
     "output_type": "error",
     "traceback": [
      "\u001b[1;31m---------------------------------------------------------------------------\u001b[0m",
      "\u001b[1;31mTypeError\u001b[0m                                 Traceback (most recent call last)",
      "\u001b[1;32m~\\Anaconda3\\envs\\rl_env\\lib\\site-packages\\pandas\\core\\arrays\\datetimes.py\u001b[0m in \u001b[0;36mobjects_to_datetime64ns\u001b[1;34m(data, dayfirst, yearfirst, utc, errors, require_iso8601, allow_object)\u001b[0m\n\u001b[0;32m   2058\u001b[0m         \u001b[1;32mtry\u001b[0m\u001b[1;33m:\u001b[0m\u001b[1;33m\u001b[0m\u001b[1;33m\u001b[0m\u001b[0m\n\u001b[1;32m-> 2059\u001b[1;33m             \u001b[0mvalues\u001b[0m\u001b[1;33m,\u001b[0m \u001b[0mtz_parsed\u001b[0m \u001b[1;33m=\u001b[0m \u001b[0mconversion\u001b[0m\u001b[1;33m.\u001b[0m\u001b[0mdatetime_to_datetime64\u001b[0m\u001b[1;33m(\u001b[0m\u001b[0mdata\u001b[0m\u001b[1;33m)\u001b[0m\u001b[1;33m\u001b[0m\u001b[1;33m\u001b[0m\u001b[0m\n\u001b[0m\u001b[0;32m   2060\u001b[0m             \u001b[1;31m# If tzaware, these values represent unix timestamps, so we\u001b[0m\u001b[1;33m\u001b[0m\u001b[1;33m\u001b[0m\u001b[1;33m\u001b[0m\u001b[0m\n",
      "\u001b[1;32mpandas\\_libs\\tslibs\\conversion.pyx\u001b[0m in \u001b[0;36mpandas._libs.tslibs.conversion.datetime_to_datetime64\u001b[1;34m()\u001b[0m\n",
      "\u001b[1;31mTypeError\u001b[0m: Unrecognized value type: <class 'str'>",
      "\nDuring handling of the above exception, another exception occurred:\n",
      "\u001b[1;31mParserError\u001b[0m                               Traceback (most recent call last)",
      "\u001b[1;32m<ipython-input-4-2d844ad8f893>\u001b[0m in \u001b[0;36m<module>\u001b[1;34m\u001b[0m\n\u001b[0;32m      3\u001b[0m         \u001b[1;34m\"1@21@2022%%11|11|32\"\u001b[0m\u001b[1;33m,\u001b[0m\u001b[1;33m\u001b[0m\u001b[1;33m\u001b[0m\u001b[0m\n\u001b[0;32m      4\u001b[0m         \u001b[1;34m\"12@01@2022%%44|02|2\"\u001b[0m\u001b[1;33m,\u001b[0m\u001b[1;33m\u001b[0m\u001b[1;33m\u001b[0m\u001b[0m\n\u001b[1;32m----> 5\u001b[1;33m         \u001b[1;34m\"4@01@2022%%14|22|2\"\u001b[0m\u001b[1;33m\u001b[0m\u001b[1;33m\u001b[0m\u001b[0m\n\u001b[0m\u001b[0;32m      6\u001b[0m     ],\n\u001b[0;32m      7\u001b[0m )\n",
      "\u001b[1;32m~\\Anaconda3\\envs\\rl_env\\lib\\site-packages\\pandas\\core\\tools\\datetimes.py\u001b[0m in \u001b[0;36mto_datetime\u001b[1;34m(arg, errors, dayfirst, yearfirst, utc, format, exact, unit, infer_datetime_format, origin, cache)\u001b[0m\n\u001b[0;32m    826\u001b[0m             \u001b[0mresult\u001b[0m \u001b[1;33m=\u001b[0m \u001b[0m_convert_and_box_cache\u001b[0m\u001b[1;33m(\u001b[0m\u001b[0marg\u001b[0m\u001b[1;33m,\u001b[0m \u001b[0mcache_array\u001b[0m\u001b[1;33m)\u001b[0m\u001b[1;33m\u001b[0m\u001b[1;33m\u001b[0m\u001b[0m\n\u001b[0;32m    827\u001b[0m         \u001b[1;32melse\u001b[0m\u001b[1;33m:\u001b[0m\u001b[1;33m\u001b[0m\u001b[1;33m\u001b[0m\u001b[0m\n\u001b[1;32m--> 828\u001b[1;33m             \u001b[0mresult\u001b[0m \u001b[1;33m=\u001b[0m \u001b[0mconvert_listlike\u001b[0m\u001b[1;33m(\u001b[0m\u001b[0marg\u001b[0m\u001b[1;33m,\u001b[0m \u001b[0mformat\u001b[0m\u001b[1;33m)\u001b[0m\u001b[1;33m\u001b[0m\u001b[1;33m\u001b[0m\u001b[0m\n\u001b[0m\u001b[0;32m    829\u001b[0m     \u001b[1;32melse\u001b[0m\u001b[1;33m:\u001b[0m\u001b[1;33m\u001b[0m\u001b[1;33m\u001b[0m\u001b[0m\n\u001b[0;32m    830\u001b[0m         \u001b[0mresult\u001b[0m \u001b[1;33m=\u001b[0m \u001b[0mconvert_listlike\u001b[0m\u001b[1;33m(\u001b[0m\u001b[0mnp\u001b[0m\u001b[1;33m.\u001b[0m\u001b[0marray\u001b[0m\u001b[1;33m(\u001b[0m\u001b[1;33m[\u001b[0m\u001b[0marg\u001b[0m\u001b[1;33m]\u001b[0m\u001b[1;33m)\u001b[0m\u001b[1;33m,\u001b[0m \u001b[0mformat\u001b[0m\u001b[1;33m)\u001b[0m\u001b[1;33m[\u001b[0m\u001b[1;36m0\u001b[0m\u001b[1;33m]\u001b[0m\u001b[1;33m\u001b[0m\u001b[1;33m\u001b[0m\u001b[0m\n",
      "\u001b[1;32m~\\Anaconda3\\envs\\rl_env\\lib\\site-packages\\pandas\\core\\tools\\datetimes.py\u001b[0m in \u001b[0;36m_convert_listlike_datetimes\u001b[1;34m(arg, format, name, tz, unit, errors, infer_datetime_format, dayfirst, yearfirst, exact)\u001b[0m\n\u001b[0;32m    464\u001b[0m             \u001b[0merrors\u001b[0m\u001b[1;33m=\u001b[0m\u001b[0merrors\u001b[0m\u001b[1;33m,\u001b[0m\u001b[1;33m\u001b[0m\u001b[1;33m\u001b[0m\u001b[0m\n\u001b[0;32m    465\u001b[0m             \u001b[0mrequire_iso8601\u001b[0m\u001b[1;33m=\u001b[0m\u001b[0mrequire_iso8601\u001b[0m\u001b[1;33m,\u001b[0m\u001b[1;33m\u001b[0m\u001b[1;33m\u001b[0m\u001b[0m\n\u001b[1;32m--> 466\u001b[1;33m             \u001b[0mallow_object\u001b[0m\u001b[1;33m=\u001b[0m\u001b[1;32mTrue\u001b[0m\u001b[1;33m,\u001b[0m\u001b[1;33m\u001b[0m\u001b[1;33m\u001b[0m\u001b[0m\n\u001b[0m\u001b[0;32m    467\u001b[0m         )\n\u001b[0;32m    468\u001b[0m \u001b[1;33m\u001b[0m\u001b[0m\n",
      "\u001b[1;32m~\\Anaconda3\\envs\\rl_env\\lib\\site-packages\\pandas\\core\\arrays\\datetimes.py\u001b[0m in \u001b[0;36mobjects_to_datetime64ns\u001b[1;34m(data, dayfirst, yearfirst, utc, errors, require_iso8601, allow_object)\u001b[0m\n\u001b[0;32m   2062\u001b[0m             \u001b[1;32mreturn\u001b[0m \u001b[0mvalues\u001b[0m\u001b[1;33m.\u001b[0m\u001b[0mview\u001b[0m\u001b[1;33m(\u001b[0m\u001b[1;34m\"i8\"\u001b[0m\u001b[1;33m)\u001b[0m\u001b[1;33m,\u001b[0m \u001b[0mtz_parsed\u001b[0m\u001b[1;33m\u001b[0m\u001b[1;33m\u001b[0m\u001b[0m\n\u001b[0;32m   2063\u001b[0m         \u001b[1;32mexcept\u001b[0m \u001b[1;33m(\u001b[0m\u001b[0mValueError\u001b[0m\u001b[1;33m,\u001b[0m \u001b[0mTypeError\u001b[0m\u001b[1;33m)\u001b[0m\u001b[1;33m:\u001b[0m\u001b[1;33m\u001b[0m\u001b[1;33m\u001b[0m\u001b[0m\n\u001b[1;32m-> 2064\u001b[1;33m             \u001b[1;32mraise\u001b[0m \u001b[0me\u001b[0m\u001b[1;33m\u001b[0m\u001b[1;33m\u001b[0m\u001b[0m\n\u001b[0m\u001b[0;32m   2065\u001b[0m \u001b[1;33m\u001b[0m\u001b[0m\n\u001b[0;32m   2066\u001b[0m     \u001b[1;32mif\u001b[0m \u001b[0mtz_parsed\u001b[0m \u001b[1;32mis\u001b[0m \u001b[1;32mnot\u001b[0m \u001b[1;32mNone\u001b[0m\u001b[1;33m:\u001b[0m\u001b[1;33m\u001b[0m\u001b[1;33m\u001b[0m\u001b[0m\n",
      "\u001b[1;32m~\\Anaconda3\\envs\\rl_env\\lib\\site-packages\\pandas\\core\\arrays\\datetimes.py\u001b[0m in \u001b[0;36mobjects_to_datetime64ns\u001b[1;34m(data, dayfirst, yearfirst, utc, errors, require_iso8601, allow_object)\u001b[0m\n\u001b[0;32m   2053\u001b[0m             \u001b[0mdayfirst\u001b[0m\u001b[1;33m=\u001b[0m\u001b[0mdayfirst\u001b[0m\u001b[1;33m,\u001b[0m\u001b[1;33m\u001b[0m\u001b[1;33m\u001b[0m\u001b[0m\n\u001b[0;32m   2054\u001b[0m             \u001b[0myearfirst\u001b[0m\u001b[1;33m=\u001b[0m\u001b[0myearfirst\u001b[0m\u001b[1;33m,\u001b[0m\u001b[1;33m\u001b[0m\u001b[1;33m\u001b[0m\u001b[0m\n\u001b[1;32m-> 2055\u001b[1;33m             \u001b[0mrequire_iso8601\u001b[0m\u001b[1;33m=\u001b[0m\u001b[0mrequire_iso8601\u001b[0m\u001b[1;33m,\u001b[0m\u001b[1;33m\u001b[0m\u001b[1;33m\u001b[0m\u001b[0m\n\u001b[0m\u001b[0;32m   2056\u001b[0m         )\n\u001b[0;32m   2057\u001b[0m     \u001b[1;32mexcept\u001b[0m \u001b[0mValueError\u001b[0m \u001b[1;32mas\u001b[0m \u001b[0me\u001b[0m\u001b[1;33m:\u001b[0m\u001b[1;33m\u001b[0m\u001b[1;33m\u001b[0m\u001b[0m\n",
      "\u001b[1;32mpandas\\_libs\\tslib.pyx\u001b[0m in \u001b[0;36mpandas._libs.tslib.array_to_datetime\u001b[1;34m()\u001b[0m\n",
      "\u001b[1;32mpandas\\_libs\\tslib.pyx\u001b[0m in \u001b[0;36mpandas._libs.tslib.array_to_datetime\u001b[1;34m()\u001b[0m\n",
      "\u001b[1;32mpandas\\_libs\\tslib.pyx\u001b[0m in \u001b[0;36mpandas._libs.tslib.array_to_datetime_object\u001b[1;34m()\u001b[0m\n",
      "\u001b[1;32mpandas\\_libs\\tslib.pyx\u001b[0m in \u001b[0;36mpandas._libs.tslib.array_to_datetime_object\u001b[1;34m()\u001b[0m\n",
      "\u001b[1;32mpandas\\_libs\\tslibs\\parsing.pyx\u001b[0m in \u001b[0;36mpandas._libs.tslibs.parsing.parse_datetime_string\u001b[1;34m()\u001b[0m\n",
      "\u001b[1;32m~\\Anaconda3\\envs\\rl_env\\lib\\site-packages\\dateutil\\parser\\_parser.py\u001b[0m in \u001b[0;36mparse\u001b[1;34m(timestr, parserinfo, **kwargs)\u001b[0m\n\u001b[0;32m   1366\u001b[0m         \u001b[1;32mreturn\u001b[0m \u001b[0mparser\u001b[0m\u001b[1;33m(\u001b[0m\u001b[0mparserinfo\u001b[0m\u001b[1;33m)\u001b[0m\u001b[1;33m.\u001b[0m\u001b[0mparse\u001b[0m\u001b[1;33m(\u001b[0m\u001b[0mtimestr\u001b[0m\u001b[1;33m,\u001b[0m \u001b[1;33m**\u001b[0m\u001b[0mkwargs\u001b[0m\u001b[1;33m)\u001b[0m\u001b[1;33m\u001b[0m\u001b[1;33m\u001b[0m\u001b[0m\n\u001b[0;32m   1367\u001b[0m     \u001b[1;32melse\u001b[0m\u001b[1;33m:\u001b[0m\u001b[1;33m\u001b[0m\u001b[1;33m\u001b[0m\u001b[0m\n\u001b[1;32m-> 1368\u001b[1;33m         \u001b[1;32mreturn\u001b[0m \u001b[0mDEFAULTPARSER\u001b[0m\u001b[1;33m.\u001b[0m\u001b[0mparse\u001b[0m\u001b[1;33m(\u001b[0m\u001b[0mtimestr\u001b[0m\u001b[1;33m,\u001b[0m \u001b[1;33m**\u001b[0m\u001b[0mkwargs\u001b[0m\u001b[1;33m)\u001b[0m\u001b[1;33m\u001b[0m\u001b[1;33m\u001b[0m\u001b[0m\n\u001b[0m\u001b[0;32m   1369\u001b[0m \u001b[1;33m\u001b[0m\u001b[0m\n\u001b[0;32m   1370\u001b[0m \u001b[1;33m\u001b[0m\u001b[0m\n",
      "\u001b[1;32m~\\Anaconda3\\envs\\rl_env\\lib\\site-packages\\dateutil\\parser\\_parser.py\u001b[0m in \u001b[0;36mparse\u001b[1;34m(self, timestr, default, ignoretz, tzinfos, **kwargs)\u001b[0m\n\u001b[0;32m    641\u001b[0m \u001b[1;33m\u001b[0m\u001b[0m\n\u001b[0;32m    642\u001b[0m         \u001b[1;32mif\u001b[0m \u001b[0mres\u001b[0m \u001b[1;32mis\u001b[0m \u001b[1;32mNone\u001b[0m\u001b[1;33m:\u001b[0m\u001b[1;33m\u001b[0m\u001b[1;33m\u001b[0m\u001b[0m\n\u001b[1;32m--> 643\u001b[1;33m             \u001b[1;32mraise\u001b[0m \u001b[0mParserError\u001b[0m\u001b[1;33m(\u001b[0m\u001b[1;34m\"Unknown string format: %s\"\u001b[0m\u001b[1;33m,\u001b[0m \u001b[0mtimestr\u001b[0m\u001b[1;33m)\u001b[0m\u001b[1;33m\u001b[0m\u001b[1;33m\u001b[0m\u001b[0m\n\u001b[0m\u001b[0;32m    644\u001b[0m \u001b[1;33m\u001b[0m\u001b[0m\n\u001b[0;32m    645\u001b[0m         \u001b[1;32mif\u001b[0m \u001b[0mlen\u001b[0m\u001b[1;33m(\u001b[0m\u001b[0mres\u001b[0m\u001b[1;33m)\u001b[0m \u001b[1;33m==\u001b[0m \u001b[1;36m0\u001b[0m\u001b[1;33m:\u001b[0m\u001b[1;33m\u001b[0m\u001b[1;33m\u001b[0m\u001b[0m\n",
      "\u001b[1;31mParserError\u001b[0m: Unknown string format: 1@21@2022%%11|11|32"
     ]
    }
   ],
   "source": [
    "pd.to_datetime(\n",
    "    [\n",
    "        \"1@21@2022%%11|11|32\", \n",
    "        \"12@01@2022%%44|02|2\", \n",
    "        \"4@01@2022%%14|22|2\"\n",
    "    ],\n",
    ")"
   ]
  },
  {
   "cell_type": "markdown",
   "id": "0f35272b",
   "metadata": {},
   "source": [
    "你试试直接解析看看，会出现什么情况？完蛋了，是不是我们就无法接下这个人留下的烂盘了？Pandas 又来拯救你了。 我们如果同时传入一个时间规则 format，有没有可能让 Pandas 按照我们的特殊规则解析？"
   ]
  },
  {
   "cell_type": "code",
   "execution_count": 5,
   "id": "93156274",
   "metadata": {},
   "outputs": [
    {
     "data": {
      "text/plain": [
       "DatetimeIndex(['2022-01-21 11:32:11', '2022-12-01 02:02:44',\n",
       "               '2022-04-01 22:02:14'],\n",
       "              dtype='datetime64[ns]', freq=None)"
      ]
     },
     "execution_count": 5,
     "metadata": {},
     "output_type": "execute_result"
    }
   ],
   "source": [
    "pd.to_datetime(\n",
    "    [\n",
    "        \"1@21@2022%%11|11|32\", \n",
    "        \"12@01@2022%%44|02|2\", \n",
    "        \"4@01@2022%%14|22|2\"\n",
    "    ],\n",
    "    format=\"%m@%d@%Y%%%%%S|%H|%M\"\n",
    ")"
   ]
  },
  {
   "cell_type": "markdown",
   "id": "f6593c88",
   "metadata": {},
   "source": [
    "虽然看起来这串 format 很复杂，但是是可以拆解来看的，他们分别表示的是\n",
    "+ %m 月\n",
    "+ %d 日\n",
    "+ %Y 年的全称\n",
    "+ %% 比配一个 %\n",
    "+ %S 秒\n",
    "+ %H 时\n",
    "+ %M 分  \n",
    "规则太多，记不住？没事， Python 有官方文档( https://docs.python.org/3/library/datetime.html#strftime-and-strptime-behavior )可以参考嘛。"
   ]
  },
  {
   "cell_type": "markdown",
   "id": "e049c496",
   "metadata": {},
   "source": []
  },
  {
   "cell_type": "markdown",
   "id": "cfda603c",
   "metadata": {},
   "source": [
    "### 自建时间序列\n",
    "前面我们已经解决了读取到时间序列后，怎么让 Pandas 知道这是时间序列的问题。下面我们如果是要用程序采集数据，比如自己打 log， 或者自己爬虫写日期等等。你要往自己数据库中写日期。介绍一种方式批量生成时间戳。"
   ]
  },
  {
   "cell_type": "code",
   "execution_count": 7,
   "id": "0988ee1e",
   "metadata": {},
   "outputs": [
    {
     "data": {
      "text/plain": [
       "DatetimeIndex(['2022-03-12', '2022-03-13', '2022-03-14', '2022-03-15',\n",
       "               '2022-03-16', '2022-03-17', '2022-03-18'],\n",
       "              dtype='datetime64[ns]', freq='D')"
      ]
     },
     "execution_count": 7,
     "metadata": {},
     "output_type": "execute_result"
    }
   ],
   "source": [
    "import datetime\n",
    "\n",
    "start = datetime.datetime(2022, 3, 12)\n",
    "end = datetime.datetime(2022, 3, 18)\n",
    "\n",
    "index = pd.date_range(start, end)\n",
    "index"
   ]
  },
  {
   "cell_type": "markdown",
   "id": "df287dc4",
   "metadata": {},
   "source": [
    "这种写法就有点像 Python 中的 range() 函数，我们可以规定一个起始日期和终止日期，让 pd.date_range() 自动生成。 那你可能会要问了，range() 里面还有一个 step 参数可以用来控制生成的步长的。 pd.date_range() 也可以吗？"
   ]
  },
  {
   "cell_type": "code",
   "execution_count": 8,
   "id": "8857de52",
   "metadata": {},
   "outputs": [
    {
     "name": "stdout",
     "output_type": "stream",
     "text": [
      "range(1, 10, 2)\n",
      " [1, 3, 5, 7, 9]\n",
      "\n",
      "\n",
      "pd.date_range()\n",
      " DatetimeIndex(['2022-03-12', '2022-03-14', '2022-03-16', '2022-03-18'], dtype='datetime64[ns]', freq='48H')\n"
     ]
    }
   ],
   "source": [
    "print(\n",
    "    \"range(1, 10, 2)\\n\", \n",
    "    list(range(1, 10, 2))\n",
    ")\n",
    "print(\n",
    "    \"\\n\\npd.date_range()\\n\",\n",
    "    pd.date_range(start, end, freq=\"48h\")\n",
    ")"
   ]
  },
  {
   "cell_type": "markdown",
   "id": "a96e6324",
   "metadata": {},
   "source": [
    "哈哈，想到今年深圳疫情严重，去哪哪都要 48h 的核酸，我也可以做一个打卡表，来看看那些时间点需要去做核酸。只要你想，用 pandas 做一个打卡器也是没问题。 现在你可以在换一下 freq 里面的时间描述，你还可以具体到 1h20min，1D 或者是这里 列举的很多 freq 识别的缩写形式。\n",
    "\n",
    "还有一种在 Numpy 里用的方式 np.linespace()， 这是一种在区间内均匀分割的方法，你也可以用 pd.date_range() 来模拟对日期的分割生成。"
   ]
  },
  {
   "cell_type": "code",
   "execution_count": 10,
   "id": "3f749cfa",
   "metadata": {},
   "outputs": [
    {
     "name": "stdout",
     "output_type": "stream",
     "text": [
      "np.linspace(-1, 1, 5)\n",
      " [-1.  -0.5  0.   0.5  1. ]\n",
      "\n",
      "\n",
      "pd.date_range(start, end, periods=5)\n",
      " DatetimeIndex(['2022-03-12 00:00:00', '2022-03-13 12:00:00',\n",
      "               '2022-03-15 00:00:00', '2022-03-16 12:00:00',\n",
      "               '2022-03-18 00:00:00'],\n",
      "              dtype='datetime64[ns]', freq=None)\n"
     ]
    }
   ],
   "source": [
    "import numpy as np\n",
    "print(\n",
    "    \"np.linspace(-1, 1, 5)\\n\",\n",
    "    np.linspace(-1, 1, 5)\n",
    ")\n",
    "print(\n",
    "    \"\\n\\npd.date_range(start, end, periods=5)\\n\",\n",
    "    pd.date_range(start, end, periods=5)\n",
    ")"
   ]
  },
  {
   "cell_type": "markdown",
   "id": "7e96c44d",
   "metadata": {},
   "source": [
    "pd.date_range() 对于时间个规则性生成还是很友善的。如果你处理工作日比较多，可以参考看看这个 pd.bdate_range() 函数(https://pandas.pydata.org/docs/reference/api/pandas.bdate_range.html?highlight=bdate_range#pandas.bdate_range )， 它会打开你的眼界。"
   ]
  },
  {
   "cell_type": "markdown",
   "id": "baa76137",
   "metadata": {},
   "source": [
    "### 选取时间\n",
    "读取完数据，生成完数据，也只是对数据的识别而已， 而现在我们要进入对时间数据的选取阶段，来看怎么选数据的问题。 因为有了这个阶段，我们才能真正开始对时间进行运算。"
   ]
  },
  {
   "cell_type": "code",
   "execution_count": 11,
   "id": "c8623425",
   "metadata": {},
   "outputs": [
    {
     "data": {
      "text/plain": [
       "DatetimeIndex(['2022-03-01', '2022-03-02', '2022-03-03', '2022-03-04',\n",
       "               '2022-03-05', '2022-03-06', '2022-03-07', '2022-03-08',\n",
       "               '2022-03-09', '2022-03-10', '2022-03-11', '2022-03-12',\n",
       "               '2022-03-13', '2022-03-14', '2022-03-15', '2022-03-16',\n",
       "               '2022-03-17', '2022-03-18', '2022-03-19', '2022-03-20',\n",
       "               '2022-03-21', '2022-03-22', '2022-03-23', '2022-03-24',\n",
       "               '2022-03-25', '2022-03-26', '2022-03-27', '2022-03-28',\n",
       "               '2022-03-29', '2022-03-30', '2022-03-31', '2022-04-01',\n",
       "               '2022-04-02', '2022-04-03', '2022-04-04', '2022-04-05',\n",
       "               '2022-04-06', '2022-04-07', '2022-04-08', '2022-04-09',\n",
       "               '2022-04-10', '2022-04-11', '2022-04-12', '2022-04-13',\n",
       "               '2022-04-14', '2022-04-15', '2022-04-16', '2022-04-17',\n",
       "               '2022-04-18', '2022-04-19', '2022-04-20', '2022-04-21',\n",
       "               '2022-04-22', '2022-04-23', '2022-04-24', '2022-04-25',\n",
       "               '2022-04-26', '2022-04-27', '2022-04-28', '2022-04-29',\n",
       "               '2022-04-30', '2022-05-01', '2022-05-02', '2022-05-03'],\n",
       "              dtype='datetime64[ns]', freq='D')"
      ]
     },
     "execution_count": 11,
     "metadata": {},
     "output_type": "execute_result"
    }
   ],
   "source": [
    "start = datetime.datetime(2022, 3, 1)\n",
    "end = datetime.datetime(2022, 5, 3)\n",
    "\n",
    "rng = pd.date_range(start, end)\n",
    "ts = pd.Series(np.random.randn(len(rng)), index=rng)\n",
    "\n",
    "ts.index"
   ]
  },
  {
   "cell_type": "markdown",
   "id": "1da2d6e6",
   "metadata": {},
   "source": [
    "注意，我在生成 Series 的时候，把时间序列挂到了 Series 的 index 上，到时候也可以用这个来作为画图的坐标。"
   ]
  },
  {
   "cell_type": "code",
   "execution_count": 13,
   "id": "d709e8c1",
   "metadata": {},
   "outputs": [
    {
     "data": {
      "text/plain": [
       "<matplotlib.axes._subplots.AxesSubplot at 0x1f374a08b38>"
      ]
     },
     "execution_count": 13,
     "metadata": {},
     "output_type": "execute_result"
    },
    {
     "data": {
      "image/png": "[encoded data removed]",
      "text/plain": [
       "<Figure size 432x288 with 1 Axes>"
      ]
     },
     "metadata": {
      "needs_background": "light"
     },
     "output_type": "display_data"
    }
   ],
   "source": [
    "import matplotlib\n",
    "%matplotlib inline\n",
    "ts.plot()"
   ]
  },
  {
   "cell_type": "markdown",
   "id": "99b82e07",
   "metadata": {},
   "source": [
    "画图出来，就能发现，横坐标已经打上了时间标签。 如果我们不想要一次性展示这么多数据怎么办？如果我们只想要显示某一周时间的数据怎么办？那直接上分片原则吧。"
   ]
  },
  {
   "cell_type": "code",
   "execution_count": 14,
   "id": "0e967bdd",
   "metadata": {},
   "outputs": [
    {
     "data": {
      "text/plain": [
       "<matplotlib.axes._subplots.AxesSubplot at 0x1f374b30e10>"
      ]
     },
     "execution_count": 14,
     "metadata": {},
     "output_type": "execute_result"
    },
    {
     "data": {
      "image/png": "[encoded data removed]",
      "text/plain": [
       "<Figure size 432x288 with 1 Axes>"
      ]
     },
     "metadata": {
      "needs_background": "light"
     },
     "output_type": "display_data"
    }
   ],
   "source": [
    "ts[1:8].plot()"
   ]
  },
  {
   "cell_type": "markdown",
   "id": "c328c61f",
   "metadata": {},
   "source": [
    "直接用 index 看起来不好弄？不知道到底 index 对应的是哪个日期区间？没关系，我们试试用时间本身分片。"
   ]
  },
  {
   "cell_type": "code",
   "execution_count": 15,
   "id": "1c403829",
   "metadata": {},
   "outputs": [
    {
     "data": {
      "text/plain": [
       "<matplotlib.axes._subplots.AxesSubplot at 0x1f374b86470>"
      ]
     },
     "execution_count": 15,
     "metadata": {},
     "output_type": "execute_result"
    },
    {
     "data": {
      "image/png": "[encoded data removed]",
      "text/plain": [
       "<Figure size 432x288 with 1 Axes>"
      ]
     },
     "metadata": {
      "needs_background": "light"
     },
     "output_type": "display_data"
    }
   ],
   "source": [
    "import datetime\n",
    "\n",
    "t1 = datetime.datetime(2022, 3, 12)\n",
    "t2 = datetime.datetime(2022, 3, 18)\n",
    "ts[t1: t2].plot()"
   ]
  },
  {
   "cell_type": "markdown",
   "id": "fba6fdda",
   "metadata": {},
   "source": [
    "还想继续偷懒，我们直接上日期字符串做索引吧。"
   ]
  },
  {
   "cell_type": "code",
   "execution_count": 16,
   "id": "20697ba8",
   "metadata": {},
   "outputs": [
    {
     "data": {
      "text/plain": [
       "<matplotlib.axes._subplots.AxesSubplot at 0x1f374be0898>"
      ]
     },
     "execution_count": 16,
     "metadata": {},
     "output_type": "execute_result"
    },
    {
     "data": {
      "image/png": "[encoded data removed]",
      "text/plain": [
       "<Figure size 432x288 with 1 Axes>"
      ]
     },
     "metadata": {
      "needs_background": "light"
     },
     "output_type": "display_data"
    }
   ],
   "source": [
    "ts[\"2022-03-12\": \"2022-03-18\"].plot()"
   ]
  },
  {
   "cell_type": "markdown",
   "id": "eafe69c9",
   "metadata": {},
   "source": [
    "Pandas 的用法可为是真的强大，提供的方式真的很多样！"
   ]
  },
  {
   "cell_type": "markdown",
   "id": "286a91d7",
   "metadata": {},
   "source": [
    "### 时间运算\n",
    "选择时间数据也会了，那我们就来看看如何对时间进行运算吧。这通常发生在需要改变日期数值的时候，比如我想复制一份这周的表格，给下周用， 我就直接将这个月 copy 过来，然后日期上加一周时间。"
   ]
  },
  {
   "cell_type": "code",
   "execution_count": 17,
   "id": "13dc3d98",
   "metadata": {},
   "outputs": [
    {
     "data": {
      "text/plain": [
       "DatetimeIndex(['2022-01-08', '2022-01-09', '2022-01-10', '2022-01-11',\n",
       "               '2022-01-12', '2022-01-13', '2022-01-14'],\n",
       "              dtype='datetime64[ns]', freq='D')"
      ]
     },
     "execution_count": 17,
     "metadata": {},
     "output_type": "execute_result"
    }
   ],
   "source": [
    "rng = pd.date_range(\"2022-01-01\", \"2022-01-07\")\n",
    "rng + pd.Timedelta(weeks=1)"
   ]
  },
  {
   "cell_type": "markdown",
   "id": "788c7e4e",
   "metadata": {},
   "source": [
    "Timedelta 是一种用于时间加减的时间单位，我们可以个任何一个 Timestamp 加减一个时间。而且 Timedelta 还可以乘除。"
   ]
  },
  {
   "cell_type": "code",
   "execution_count": 18,
   "id": "6c154d75",
   "metadata": {},
   "outputs": [
    {
     "data": {
      "text/plain": [
       "DatetimeIndex(['2022-01-07', '2022-01-08', '2022-01-09', '2022-01-10',\n",
       "               '2022-01-11', '2022-01-12', '2022-01-13'],\n",
       "              dtype='datetime64[ns]', freq='D')"
      ]
     },
     "execution_count": 18,
     "metadata": {},
     "output_type": "execute_result"
    }
   ],
   "source": [
    "rng + 2*pd.Timedelta(days=3)"
   ]
  },
  {
   "cell_type": "markdown",
   "id": "86cfe4ae",
   "metadata": {},
   "source": [
    "Timedelta 除了上面的 weeks, days 参数，还可以用 hours, minutes, seconds, milliseconds, microseconds, nanoseconds 这些。 这样你就能方便的运算时间了。\n",
    "\n",
    "有时候我都觉得用 Pandas 算日期，比用 Python 原生的 datetime 还要方便。比如下面这些："
   ]
  },
  {
   "cell_type": "code",
   "execution_count": 19,
   "id": "fad1856c",
   "metadata": {},
   "outputs": [
    {
     "data": {
      "text/plain": [
       "Int64Index([8, 9, 10, 11], dtype='int64')"
      ]
     },
     "execution_count": 19,
     "metadata": {},
     "output_type": "execute_result"
    }
   ],
   "source": [
    "rng = pd.date_range(\"2022-01-08\", \"2022-01-11\")\n",
    "rng.dayofyear"
   ]
  },
  {
   "cell_type": "markdown",
   "id": "751ed618",
   "metadata": {},
   "source": [
    "用上面的方法，再试试这几个：rng.dayofweek; rng.weekofyear; rng.weekday。"
   ]
  },
  {
   "cell_type": "code",
   "execution_count": 20,
   "id": "df872360",
   "metadata": {},
   "outputs": [
    {
     "data": {
      "text/plain": [
       "Index(['01/08/2022', '01/09/2022', '01/10/2022', '01/11/2022'], dtype='object')"
      ]
     },
     "execution_count": 20,
     "metadata": {},
     "output_type": "execute_result"
    }
   ],
   "source": [
    "rng.strftime(\"%m/%d/%Y\")  # 按规则输出日期形式"
   ]
  },
  {
   "cell_type": "markdown",
   "id": "b633ea55",
   "metadata": {},
   "source": [
    "用上面的模式，再试试这几个：dt.day_name(); dt.month_name()。\n",
    "\n",
    "当然除了上面的这些方便的转换方法，官方还为我们提供了丰富的转换方式，只要你需要， 你能在这里又发现 Timestamp 转换的一片天地。"
   ]
  },
  {
   "cell_type": "markdown",
   "id": "d3146654",
   "metadata": {},
   "source": [
    "### 时区\n",
    "如果你的操作系统没配置好，有或者你在其他时区，但有想处理另外的时区。那么学会配置 Pandas 的时区就是一件很重要的事。"
   ]
  },
  {
   "cell_type": "code",
   "execution_count": 21,
   "id": "85f20034",
   "metadata": {},
   "outputs": [
    {
     "data": {
      "text/plain": [
       "True"
      ]
     },
     "execution_count": 21,
     "metadata": {},
     "output_type": "execute_result"
    }
   ],
   "source": [
    "rng = pd.date_range(\"2022-01-08\", \"2022-01-11\")\n",
    "\n",
    "rng.tz is None\n"
   ]
  },
  {
   "cell_type": "markdown",
   "id": "d9481a08",
   "metadata": {},
   "source": [
    "默认生成的时候，是不带时区的。所以当你要跨半球工作，你在处理 excel 读取出来的时间，或者你自己要控制时间的时候， 你就要特别标注好时区 tz_localize()。"
   ]
  },
  {
   "cell_type": "code",
   "execution_count": 22,
   "id": "b0250839",
   "metadata": {},
   "outputs": [
    {
     "data": {
      "text/plain": [
       "DatetimeIndex(['2022-03-12 22:11:00-05:00', '2022-03-12 12:11:00-05:00',\n",
       "               '2022-03-12 02:11:00-05:00'],\n",
       "              dtype='datetime64[ns, America/New_York]', freq=None)"
      ]
     },
     "execution_count": 22,
     "metadata": {},
     "output_type": "execute_result"
    }
   ],
   "source": [
    "s = pd.to_datetime(\n",
    "    [\"2022/03/12 22:11\", \"2022/03/12 12:11\", \"2022/03/12 2:11\"]\n",
    ")\n",
    "s_us = s.tz_localize(\"America/New_York\")\n",
    "s_us"
   ]
  },
  {
   "cell_type": "markdown",
   "id": "e4a760dd",
   "metadata": {},
   "source": [
    "上面我读取到了数据之后，因为老板告诉我这是 New York 时区， 区分于中国时区，我必须先标注是 America/New_York，以防我到时候时间记录错误。 如果要转换到中国时区，我们就可以用下面 tz_convert() 这种方法。"
   ]
  },
  {
   "cell_type": "code",
   "execution_count": 23,
   "id": "e37b45e3",
   "metadata": {},
   "outputs": [
    {
     "data": {
      "text/plain": [
       "DatetimeIndex(['2022-03-13 11:11:00+08:00', '2022-03-13 01:11:00+08:00',\n",
       "               '2022-03-12 15:11:00+08:00'],\n",
       "              dtype='datetime64[ns, Asia/Shanghai]', freq=None)"
      ]
     },
     "execution_count": 23,
     "metadata": {},
     "output_type": "execute_result"
    }
   ],
   "source": [
    "s_cn = s_us.tz_convert(\"Asia/Shanghai\")\n",
    "s_cn"
   ]
  },
  {
   "cell_type": "markdown",
   "id": "1e725280",
   "metadata": {},
   "source": [
    "你问我为什么用 Shanghai 不用 Beijing？因为下面用于时区标记中，没有北京。哈哈。"
   ]
  },
  {
   "cell_type": "code",
   "execution_count": 24,
   "id": "6679c456",
   "metadata": {},
   "outputs": [
    {
     "data": {
      "text/plain": [
       "['Asia/Shanghai', 'Asia/Urumqi']"
      ]
     },
     "execution_count": 24,
     "metadata": {},
     "output_type": "execute_result"
    }
   ],
   "source": [
    "import pytz\n",
    "pytz.country_timezones('CN')"
   ]
  },
  {
   "cell_type": "markdown",
   "id": "9c91c3a1",
   "metadata": {},
   "source": [
    "同理，你要获取对应的时区名称，你可以用 pytz 这个库来看。 请参考这里的文档(http://pytz.sourceforge.net/# )。\n",
    "\n",
    "当你自己要生成一批时间的时候，带上时区的方法就比较简单。直接在 pd.date_range() 里带上 tz 的描述。"
   ]
  },
  {
   "cell_type": "code",
   "execution_count": 25,
   "id": "a44b148f",
   "metadata": {},
   "outputs": [
    {
     "data": {
      "text/plain": [
       "DatetimeIndex(['2022-01-08 00:00:00-05:00', '2022-01-09 00:00:00-05:00',\n",
       "               '2022-01-10 00:00:00-05:00', '2022-01-11 00:00:00-05:00'],\n",
       "              dtype='datetime64[ns, America/New_York]', freq='D')"
      ]
     },
     "execution_count": 25,
     "metadata": {},
     "output_type": "execute_result"
    }
   ],
   "source": [
    "rng = pd.date_range(\n",
    "    \"2022-01-08\", \"2022-01-11\", \n",
    "    tz=\"America/New_York\")\n",
    "rng"
   ]
  },
  {
   "cell_type": "markdown",
   "id": "857ba3a9",
   "metadata": {},
   "source": [
    "### 总结\n",
    "不可不说，时间真是一件大工程，围绕时间的处理工作，我也只介绍了冰山一角。还有很多可以在官方文档中查看到， 比如工作日的计算，很多很丰富，但是我觉得你可能很少用，所以就先不介绍了， 有兴趣的朋友可以看看这里的官方文档， 去探索更加全面的时间处理方式吧。"
   ]
  },
  {
   "cell_type": "code",
   "execution_count": null,
   "id": "9dd3655a",
   "metadata": {},
   "outputs": [],
   "source": []
  }
 ],
 "metadata": {
  "kernelspec": {
   "display_name": "Python 3",
   "language": "python",
   "name": "python3"
  },
  "language_info": {
   "codemirror_mode": {
    "name": "ipython",
    "version": 3
   },
   "file_extension": ".py",
   "mimetype": "text/x-python",
   "name": "python",
   "nbconvert_exporter": "python",
   "pygments_lexer": "ipython3",
   "version": "3.6.13"
  }
 },
 "nbformat": 4,
 "nbformat_minor": 5
}
