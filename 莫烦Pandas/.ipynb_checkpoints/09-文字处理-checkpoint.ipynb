{
 "cells": [
  {
   "cell_type": "markdown",
   "id": "940133a0",
   "metadata": {},
   "source": [
    "相比 Python 的科学运算神器 Numpy，Pandas 还有一个特别优势的地方，那就是处理数据库当中的文字信息。 对比 Numpy，Numpy 是一个纯数据处理的库，在数据处理的速度上， 是要优于 Pandas 的。但是在处理数据的丰富度上，比如要处理文字，日期型数据的时候，Pandas 还是有很大优势的。 今天我们就来看看处理文本数据时，Pandas 可以怎么用。"
   ]
  },
  {
   "cell_type": "markdown",
   "id": "2c6c7a76",
   "metadata": {},
   "source": [
    "### 格式化字符\n",
    "首先，我觉得我需要对标一下 Python 中自带的文字处理功能。 我在这节 Python 基础内容中也提到，Python 本身就有很多自带的文字函数。 比如 strip() , upper() 等，我们就来对应着学习吧。"
   ]
  },
  {
   "cell_type": "code",
   "execution_count": 1,
   "id": "5a76821a",
   "metadata": {},
   "outputs": [
    {
     "name": "stdout",
     "output_type": "stream",
     "text": [
      "python:\n",
      " A,B,C,AABA,BACA,CABA,DOG,CAT\n",
      "\n",
      "pandas:\n",
      " 0       A\n",
      "1       B\n",
      "2       C\n",
      "3    AABA\n",
      "4    BACA\n",
      "5    CABA\n",
      "6     DOG\n",
      "7     CAT\n",
      "dtype: string\n"
     ]
    }
   ],
   "source": [
    "import pandas as pd\n",
    "\n",
    "py_s = \"A,B,C,Aaba,Baca,CABA,dog,cat\"\n",
    "pd_s = pd.Series(\n",
    "    [\"A\", \"B\", \"C\", \"Aaba\", \"Baca\", \"CABA\", \"dog\", \"cat\"],\n",
    "    dtype=\"string\")\n",
    "\n",
    "print(\"python:\\n\", py_s.upper())\n",
    "print(\"\\npandas:\\n\", pd_s.str.upper())"
   ]
  },
  {
   "cell_type": "markdown",
   "id": "552379ce",
   "metadata": {},
   "source": [
    "注意如果要用到 Pandas 丰富的文字处理功能，你要确保 Series 或者 DataFrame 的 dtype=\"string\"，如果不是 string， 比如我们刚从一个 excel 中读取出来 一个数据，自动读的，没有解析到 string 格式， 我们怎么调整呢？ 其实也简单。"
   ]
  },
  {
   "cell_type": "code",
   "execution_count": 2,
   "id": "f9f0fea9",
   "metadata": {},
   "outputs": [
    {
     "name": "stdout",
     "output_type": "stream",
     "text": [
      "pd_not_s type: object\n",
      "pd_s type: string\n"
     ]
    }
   ],
   "source": [
    "pd_not_s = pd.Series(\n",
    "    [\"A\", \"B\", \"C\", \"Aaba\", \"Baca\", \"CABA\", \"dog\", \"cat\"],\n",
    ")\n",
    "print(\"pd_not_s type:\", pd_not_s.dtype)\n",
    "pd_s = pd_not_s.astype(\"string\")\n",
    "print(\"pd_s type:\", pd_s.dtype)"
   ]
  },
  {
   "cell_type": "markdown",
   "id": "467e5327",
   "metadata": {},
   "source": [
    "好，牢记这点，我们接着来对比原生 Python 的功能。"
   ]
  },
  {
   "cell_type": "code",
   "execution_count": 14,
   "id": "c41f8885",
   "metadata": {},
   "outputs": [
    {
     "ename": "AttributeError",
     "evalue": "'list' object has no attribute 'lower'",
     "output_type": "error",
     "traceback": [
      "\u001b[1;31m---------------------------------------------------------------------------\u001b[0m",
      "\u001b[1;31mAttributeError\u001b[0m                            Traceback (most recent call last)",
      "\u001b[1;32m<ipython-input-14-272c8c464321>\u001b[0m in \u001b[0;36m<module>\u001b[1;34m\u001b[0m\n\u001b[1;32m----> 1\u001b[1;33m \u001b[0mprint\u001b[0m\u001b[1;33m(\u001b[0m\u001b[1;34m\"python lower:\\n\"\u001b[0m\u001b[1;33m,\u001b[0m \u001b[0mpy_s\u001b[0m\u001b[1;33m.\u001b[0m\u001b[0mlower\u001b[0m\u001b[1;33m(\u001b[0m\u001b[1;33m)\u001b[0m\u001b[1;33m)\u001b[0m\u001b[1;33m\u001b[0m\u001b[1;33m\u001b[0m\u001b[0m\n\u001b[0m\u001b[0;32m      2\u001b[0m \u001b[0mprint\u001b[0m\u001b[1;33m(\u001b[0m\u001b[1;34m\"\\npandas lower:\\n\"\u001b[0m\u001b[1;33m,\u001b[0m \u001b[0mpd_s\u001b[0m\u001b[1;33m.\u001b[0m\u001b[0mstr\u001b[0m\u001b[1;33m.\u001b[0m\u001b[0mlower\u001b[0m\u001b[1;33m(\u001b[0m\u001b[1;33m)\u001b[0m\u001b[1;33m)\u001b[0m\u001b[1;33m\u001b[0m\u001b[1;33m\u001b[0m\u001b[0m\n\u001b[0;32m      3\u001b[0m \u001b[0mprint\u001b[0m\u001b[1;33m(\u001b[0m\u001b[1;34m\"python len:\\n\"\u001b[0m\u001b[1;33m,\u001b[0m \u001b[1;33m[\u001b[0m\u001b[0mlen\u001b[0m\u001b[1;33m(\u001b[0m\u001b[0ms\u001b[0m\u001b[1;33m)\u001b[0m \u001b[1;32mfor\u001b[0m \u001b[0ms\u001b[0m \u001b[1;32min\u001b[0m \u001b[0mpy_s\u001b[0m\u001b[1;33m.\u001b[0m\u001b[0msplit\u001b[0m\u001b[1;33m(\u001b[0m\u001b[1;34m\",\"\u001b[0m\u001b[1;33m)\u001b[0m\u001b[1;33m]\u001b[0m\u001b[1;33m)\u001b[0m\u001b[1;33m\u001b[0m\u001b[1;33m\u001b[0m\u001b[0m\n\u001b[0;32m      4\u001b[0m \u001b[0mprint\u001b[0m\u001b[1;33m(\u001b[0m\u001b[1;34m\"\\npandas len:\\n\"\u001b[0m\u001b[1;33m,\u001b[0m \u001b[0mpd_s\u001b[0m\u001b[1;33m.\u001b[0m\u001b[0mstr\u001b[0m\u001b[1;33m.\u001b[0m\u001b[0mlen\u001b[0m\u001b[1;33m(\u001b[0m\u001b[1;33m)\u001b[0m\u001b[1;33m)\u001b[0m \u001b[1;31m#注意是pd_s.str.len()，不是 pd_s.len()\u001b[0m\u001b[1;33m\u001b[0m\u001b[1;33m\u001b[0m\u001b[0m\n",
      "\u001b[1;31mAttributeError\u001b[0m: 'list' object has no attribute 'lower'"
     ]
    }
   ],
   "source": [
    "print(\"python lower:\\n\", py_s.lower())\n",
    "print(\"\\npandas lower:\\n\", pd_s.str.lower())\n",
    "print(\"python len:\\n\", [len(s) for s in py_s.split(\",\")])\n",
    "print(\"\\npandas len:\\n\", pd_s.str.len()) #注意是pd_s.str.len()，不是 pd_s.len()"
   ]
  },
  {
   "cell_type": "markdown",
   "id": "4b8249b2",
   "metadata": {},
   "source": [
    "再来对比一下对文字的裁剪："
   ]
  },
  {
   "cell_type": "code",
   "execution_count": 4,
   "id": "1c84f216",
   "metadata": {},
   "outputs": [
    {
     "name": "stdout",
     "output_type": "stream",
     "text": [
      "python strip:\n",
      " ['jack', 'jill', 'jesse', 'frank']\n",
      "\n",
      "pandas strip:\n",
      " 0     jack\n",
      "1     jill\n",
      "2    jesse\n",
      "3    frank\n",
      "dtype: string\n",
      "\n",
      "\n",
      "python lstrip:\n",
      " ['jack', 'jill ', 'jesse    ', 'frank']\n",
      "\n",
      "pandas lstrip:\n",
      " 0         jack\n",
      "1        jill \n",
      "2    jesse    \n",
      "3        frank\n",
      "dtype: string\n",
      "\n",
      "\n",
      "python rstrip:\n",
      " ['   jack', 'jill', '    jesse', 'frank']\n",
      "\n",
      "pandas rstrip:\n",
      " 0         jack\n",
      "1         jill\n",
      "2        jesse\n",
      "3        frank\n",
      "dtype: string\n"
     ]
    }
   ],
   "source": [
    "py_s = [\"   jack\", \"jill \", \"    jesse    \", \"frank\"]\n",
    "pd_s = pd.Series(py_s, dtype=\"string\")\n",
    "print(\"python strip:\\n\", [s.strip() for s in py_s])\n",
    "print(\"\\npandas strip:\\n\", pd_s.str.strip())\n",
    "\n",
    "print(\"\\n\\npython lstrip:\\n\", [s.lstrip() for s in py_s])\n",
    "print(\"\\npandas lstrip:\\n\", pd_s.str.lstrip())\n",
    "\n",
    "print(\"\\n\\npython rstrip:\\n\", [s.rstrip() for s in py_s])\n",
    "print(\"\\npandas rstrip:\\n\", pd_s.str.rstrip())"
   ]
  },
  {
   "cell_type": "markdown",
   "id": "055cf827",
   "metadata": {},
   "source": [
    "从结果可能看不清空白符有多少，但是实际上是把空白符都移除掉了。 下面再对比一下 split 拆分方法。"
   ]
  },
  {
   "cell_type": "code",
   "execution_count": 5,
   "id": "35adb5a9",
   "metadata": {},
   "outputs": [
    {
     "name": "stdout",
     "output_type": "stream",
     "text": [
      "python split:\n",
      " [['a', 'b', 'c'], ['jill', 'jesse'], ['frank']]\n",
      "\n",
      "pandas split:\n",
      " 0        [a, b, c]\n",
      "1    [jill, jesse]\n",
      "2          [frank]\n",
      "dtype: object\n"
     ]
    }
   ],
   "source": [
    "py_s = [\"a_b_c\", \"jill_jesse\", \"frank\"]\n",
    "pd_s = pd.Series(py_s, dtype=\"string\")\n",
    "print(\"python split:\\n\", [s.split(\"_\") for s in py_s])\n",
    "print(\"\\npandas split:\\n\", pd_s.str.split(\"_\"))"
   ]
  },
  {
   "cell_type": "markdown",
   "id": "6678ac67",
   "metadata": {},
   "source": [
    "咦，pandas 这样拆分起来怪怪的，把结果都放到了一个 column 里面，我还记得上一节用 apply() 的时候，我可以加一个 result_type=\"expand\"，同样，在 split 中也有类似的功能，可以将拆分出来的结果放到不同的 column 中去。"
   ]
  },
  {
   "cell_type": "code",
   "execution_count": 6,
   "id": "872b96d9",
   "metadata": {},
   "outputs": [
    {
     "data": {
      "text/html": [
       "<div>\n",
       "<style scoped>\n",
       "    .dataframe tbody tr th:only-of-type {\n",
       "        vertical-align: middle;\n",
       "    }\n",
       "\n",
       "    .dataframe tbody tr th {\n",
       "        vertical-align: top;\n",
       "    }\n",
       "\n",
       "    .dataframe thead th {\n",
       "        text-align: right;\n",
       "    }\n",
       "</style>\n",
       "<table border=\"1\" class=\"dataframe\">\n",
       "  <thead>\n",
       "    <tr style=\"text-align: right;\">\n",
       "      <th></th>\n",
       "      <th>0</th>\n",
       "      <th>1</th>\n",
       "      <th>2</th>\n",
       "    </tr>\n",
       "  </thead>\n",
       "  <tbody>\n",
       "    <tr>\n",
       "      <th>0</th>\n",
       "      <td>a</td>\n",
       "      <td>b</td>\n",
       "      <td>c</td>\n",
       "    </tr>\n",
       "    <tr>\n",
       "      <th>1</th>\n",
       "      <td>jill</td>\n",
       "      <td>jesse</td>\n",
       "      <td>&lt;NA&gt;</td>\n",
       "    </tr>\n",
       "    <tr>\n",
       "      <th>2</th>\n",
       "      <td>frank</td>\n",
       "      <td>&lt;NA&gt;</td>\n",
       "      <td>&lt;NA&gt;</td>\n",
       "    </tr>\n",
       "  </tbody>\n",
       "</table>\n",
       "</div>"
      ],
      "text/plain": [
       "       0      1     2\n",
       "0      a      b     c\n",
       "1   jill  jesse  <NA>\n",
       "2  frank   <NA>  <NA>"
      ]
     },
     "execution_count": 6,
     "metadata": {},
     "output_type": "execute_result"
    }
   ],
   "source": [
    "pd_s.str.split(\"_\", expand=True)"
   ]
  },
  {
   "cell_type": "markdown",
   "id": "d744a59d",
   "metadata": {},
   "source": [
    "你看，一共拆出了三个 column，但是有些 column 因为没有 split 出那么多值，所以显示的也是 pd.nan\n",
    "\n",
    "这里还有一点我想说，我们上面都是在 Series 里面做实验，***其实 DataFrame 也是一样的。 你要做的，只是先选一个 column 或者 row，拿到一个 Series 再开始做 str 的处理***"
   ]
  },
  {
   "cell_type": "code",
   "execution_count": 7,
   "id": "9a5b358b",
   "metadata": {},
   "outputs": [
    {
     "data": {
      "text/plain": [
       "0    A\n",
       "1    B\n",
       "Name: 0, dtype: object"
      ]
     },
     "execution_count": 7,
     "metadata": {},
     "output_type": "execute_result"
    }
   ],
   "source": [
    "pd_df = pd.DataFrame([[\"a\", \"b\"], [\"C\", \"D\"]])\n",
    "pd_df.iloc[0, :].str.upper()"
   ]
  },
  {
   "cell_type": "markdown",
   "id": "3d730ef9",
   "metadata": {},
   "source": [
    "### 正则方案\n",
    "正则是一个很有用的东西，我们在 Python 基础 中也花了大功夫来学习正则表达式， 用特殊规则获取到特殊的文本。在演示的第一件事情就是它是否真的可以找到一些东西。我们用 str.contains() 或 str.match() 来确认它真的找到了匹配文字。\n",
    "\n",
    "注意，如果你还不了解正则表达式，我强烈建议你先看一下我的正则教学。 要不然你也看不懂我写的匹配规则，比如这里 [0-9][a-z] 表示要匹配 0~9 的任何数字，之后再接着匹配 a~z 的任何字母。"
   ]
  },
  {
   "cell_type": "code",
   "execution_count": 8,
   "id": "afa14de9",
   "metadata": {},
   "outputs": [
    {
     "data": {
      "text/plain": [
       "0    False\n",
       "1     True\n",
       "2     True\n",
       "3    False\n",
       "dtype: boolean"
      ]
     },
     "execution_count": 8,
     "metadata": {},
     "output_type": "execute_result"
    }
   ],
   "source": [
    "pattern = r\"[0-9][a-z]\"\n",
    "s = pd.Series([\"1\", \"1a\", \"11c\", \"abc\"], dtype=\"string\")\n",
    "s.str.contains(pattern)"
   ]
  },
  {
   "cell_type": "markdown",
   "id": "0875746b",
   "metadata": {},
   "source": [
    "现在请你把 str.contains() 换成 str.match() 看看结果有无变化。仔细的你肯定发现了，11c 这个字符，用 contains() 可以匹配， 但是 match() 却不能。那是因为 ***只要包含正则规则，contains 就为 True， 但是 match() 的意思是你的正则规则要完全匹配才会返回 True。***\n",
    "\n",
    "那么为了要让 match 匹配 11c 我们就需要把规则改成 r\"[0-9]+?[a-z]。至于为什么， 那请看到我的正则教学。"
   ]
  },
  {
   "cell_type": "code",
   "execution_count": 9,
   "id": "f2ad8386",
   "metadata": {},
   "outputs": [
    {
     "data": {
      "text/plain": [
       "0    False\n",
       "1     True\n",
       "2     True\n",
       "3    False\n",
       "dtype: boolean"
      ]
     },
     "execution_count": 9,
     "metadata": {},
     "output_type": "execute_result"
    }
   ],
   "source": [
    "pattern = r\"[0-9]+?[a-z]\"\n",
    "s.str.match(pattern)"
   ]
  },
  {
   "cell_type": "markdown",
   "id": "b1d3fda0",
   "metadata": {},
   "source": [
    "还有一个十分有用，而且我觉得是最重要的，就是 replace 了，因为这真的减轻了我们很多复制粘贴的工作，比如 Excel 中人工按照一个规则修改老板给的新任务。 下面同样，我们对比 Python 原生的 replace，来验证一下。"
   ]
  },
  {
   "cell_type": "code",
   "execution_count": 10,
   "id": "dc281c3a",
   "metadata": {},
   "outputs": [
    {
     "name": "stdout",
     "output_type": "stream",
     "text": [
      "py_s replace '1' -> '9':\n",
      " ['9', '9a', '29c', 'abc']\n",
      "\n",
      "\n",
      "pd_s replace '1' -> '9':\n",
      " 0      9\n",
      "1     9a\n",
      "2    29c\n",
      "3    abc\n",
      "dtype: string\n"
     ]
    }
   ],
   "source": [
    "py_s = [\"1\", \"1a\", \"21c\", \"abc\"]\n",
    "pd_s = pd.Series(py_s, dtype=\"string\")\n",
    "print(\"py_s replace '1' -> '9':\\n\", [s.replace(\"1\", \"9\") for s in py_s])\n",
    "\n",
    "print(\"\\n\\npd_s replace '1' -> '9':\\n\", pd_s.str.replace(\"1\", \"9\"))"
   ]
  },
  {
   "cell_type": "markdown",
   "id": "c24644c2",
   "metadata": {},
   "source": [
    "但是比原生 Python 强大的是，这个 replace 是支持正则的。我们把所有数字都替换成这个 NUM 吧。"
   ]
  },
  {
   "cell_type": "code",
   "execution_count": 11,
   "id": "ad10ff77",
   "metadata": {},
   "outputs": [
    {
     "name": "stdout",
     "output_type": "stream",
     "text": [
      "pd_s replace -> 'NUM':\n"
     ]
    },
    {
     "data": {
      "text/plain": [
       "0        NUM\n",
       "1       NUMa\n",
       "2    NUMNUMc\n",
       "3        abc\n",
       "dtype: string"
      ]
     },
     "execution_count": 11,
     "metadata": {},
     "output_type": "execute_result"
    }
   ],
   "source": [
    "print(\"pd_s replace -> 'NUM':\")\n",
    "pd_s.str.replace(r\"[0-9]\", \"NUM\", regex=True)"
   ]
  },
  {
   "cell_type": "markdown",
   "id": "557a4bd2",
   "metadata": {},
   "source": [
    "除了替换原本文字里的东西，我们还可以去从原本文字里找到特定的文字。有点像正则中的 findall 函数。"
   ]
  },
  {
   "cell_type": "code",
   "execution_count": 15,
   "id": "7b0cf925",
   "metadata": {},
   "outputs": [
    {
     "data": {
      "text/html": [
       "<div>\n",
       "<style scoped>\n",
       "    .dataframe tbody tr th:only-of-type {\n",
       "        vertical-align: middle;\n",
       "    }\n",
       "\n",
       "    .dataframe tbody tr th {\n",
       "        vertical-align: top;\n",
       "    }\n",
       "\n",
       "    .dataframe thead th {\n",
       "        text-align: right;\n",
       "    }\n",
       "</style>\n",
       "<table border=\"1\" class=\"dataframe\">\n",
       "  <thead>\n",
       "    <tr style=\"text-align: right;\">\n",
       "      <th></th>\n",
       "      <th>0</th>\n",
       "      <th>1</th>\n",
       "    </tr>\n",
       "  </thead>\n",
       "  <tbody>\n",
       "    <tr>\n",
       "      <th>0</th>\n",
       "      <td>a</td>\n",
       "      <td>1</td>\n",
       "    </tr>\n",
       "    <tr>\n",
       "      <th>1</th>\n",
       "      <td>b</td>\n",
       "      <td>2</td>\n",
       "    </tr>\n",
       "    <tr>\n",
       "      <th>2</th>\n",
       "      <td>NaN</td>\n",
       "      <td>NaN</td>\n",
       "    </tr>\n",
       "  </tbody>\n",
       "</table>\n",
       "</div>"
      ],
      "text/plain": [
       "     0    1\n",
       "0    a    1\n",
       "1    b    2\n",
       "2  NaN  NaN"
      ]
     },
     "execution_count": 15,
     "metadata": {},
     "output_type": "execute_result"
    }
   ],
   "source": [
    "s = pd.Series(['a1', 'b2', 'c3'])\n",
    "s.str.extract(r\"([ab])(\\d)\") #注意是 s.str"
   ]
  },
  {
   "cell_type": "markdown",
   "id": "d24e7244",
   "metadata": {},
   "source": [
    "r\"([ab])(\\d)\" 这一个正则匹配我简单介绍一下，其中有两个括号，第一个括号是想提取的第一种规则，第二个是第二种想提取的规则。 那么运行出来，你会看到有两个 column，分别对应着这两个提取规则出来的值。最后一行出来的结果是两个 NaN，也就意味着第三个数据没有提取出来任何东西。\n",
    "\n",
    "对应 str.extract() 还有一个 str.extractall() 函数，用来返回所有匹配，而不是第一次发现的匹配。"
   ]
  },
  {
   "cell_type": "markdown",
   "id": "fabe4c0d",
   "metadata": {},
   "source": [
    "### 拼接\n",
    "将两个文本 Series 拼接到一起的方法多种多样。大多情况我们是想结合两个 Series 而形成一个新的 Series。比如下面这样。"
   ]
  },
  {
   "cell_type": "code",
   "execution_count": 16,
   "id": "6c6a0559",
   "metadata": {},
   "outputs": [
    {
     "data": {
      "text/plain": [
       "0    A1\n",
       "1    B2\n",
       "2    C3\n",
       "3    D4\n",
       "dtype: string"
      ]
     },
     "execution_count": 16,
     "metadata": {},
     "output_type": "execute_result"
    }
   ],
   "source": [
    "s1 = pd.Series([\"A\", \"B\", \"C\", \"D\"], dtype=\"string\")\n",
    "s2 = pd.Series([\"1\", \"2\", \"3\", \"4\"], dtype=\"string\")\n",
    "s1.str.cat(s2)"
   ]
  },
  {
   "cell_type": "markdown",
   "id": "02177eab",
   "metadata": {},
   "source": [
    "上面这是将两个文字拼接成新的文字，如果你想了解如何在 pandas 中做 df 的数据上的拼接，比如 2 columns 和 3 columns 的 df 做横向拼接等， 我们会在这节 Pandas 的拼接(https://mofanpy.com/tutorials/data-manipulation/pandas/merge )专门讲到，因为里面涉及的拼接方法实在是太多了， 在这里讲不完。"
   ]
  },
  {
   "cell_type": "markdown",
   "id": "e6891d1c",
   "metadata": {},
   "source": [
    "### 总结\n",
    "可以看到，文字处理包罗万象，有很多方法。我们挑重点的，调有用的。如果觉得这些对于你还不够， 你可以参考到官方文档(https://pandas.pydata.org/pandas-docs/stable/user_guide/text.html )，获取到更多信息。"
   ]
  },
  {
   "cell_type": "code",
   "execution_count": null,
   "id": "f6db687a",
   "metadata": {},
   "outputs": [],
   "source": []
  }
 ],
 "metadata": {
  "kernelspec": {
   "display_name": "Python 3",
   "language": "python",
   "name": "python3"
  },
  "language_info": {
   "codemirror_mode": {
    "name": "ipython",
    "version": 3
   },
   "file_extension": ".py",
   "mimetype": "text/x-python",
   "name": "python",
   "nbconvert_exporter": "python",
   "pygments_lexer": "ipython3",
   "version": "3.6.13"
  }
 },
 "nbformat": 4,
 "nbformat_minor": 5
}
