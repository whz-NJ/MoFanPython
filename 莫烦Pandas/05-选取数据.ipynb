{
 "cells": [
  {
   "cell_type": "markdown",
   "id": "8d945ed2",
   "metadata": {},
   "source": [
    "Pandas 的数据结构和你管理 Excel 很像，特别是 **DataFrame 就约等于 Excel 当中的 sheet**。 我们非常适应用 Excel 来选择和修改数据，但是如果把它程序化，用代码来修改和选取的时候，我们该如何操作呢？\n",
    "\n",
    "Pandas 的数据选取，和 List，Numpy Array 还是有挺大差别的，因为它想要维护了很多的人类可读的索引信息， 所以它在索引的时候，也有不一样的处理方式，今天我们就来看看 Pandas 是如何处理数据选取和修改的吧。"
   ]
  },
  {
   "attachments": {
    "image.png": {
     "image/png": "[encoded data removed]"
    }
   },
   "cell_type": "markdown",
   "id": "6783bb26",
   "metadata": {},
   "source": [
    "### 多种选取方式\n",
    "在 Pandas 中，有丰富的选取数据方式，这可比 List，Dictionary，甚至是 Numpy 还要多样化。我们既能通过文字标签来定位数据，也能通过数值序号来定位。 所以为了实现这种多样性，Pandas 对于数据的选取采用了不同类型的处理方法，比如 .loc, .iloc 等，我们下面一一来介绍一下吧。\n",
    "![image.png](attachment:image.png)"
   ]
  },
  {
   "cell_type": "markdown",
   "id": "9ef39396",
   "metadata": {},
   "source": [
    "面对应用比较多的工作学习场景，我先以 Excel 型的表格数据举例，请你帮我构建一下下面这份 DataFrame："
   ]
  },
  {
   "cell_type": "code",
   "execution_count": 1,
   "id": "3463a0a9",
   "metadata": {},
   "outputs": [
    {
     "data": {
      "text/html": [
       "<div>\n",
       "<style scoped>\n",
       "    .dataframe tbody tr th:only-of-type {\n",
       "        vertical-align: middle;\n",
       "    }\n",
       "\n",
       "    .dataframe tbody tr th {\n",
       "        vertical-align: top;\n",
       "    }\n",
       "\n",
       "    .dataframe thead th {\n",
       "        text-align: right;\n",
       "    }\n",
       "</style>\n",
       "<table border=\"1\" class=\"dataframe\">\n",
       "  <thead>\n",
       "    <tr style=\"text-align: right;\">\n",
       "      <th></th>\n",
       "      <th>A</th>\n",
       "      <th>B</th>\n",
       "      <th>C</th>\n",
       "      <th>D</th>\n",
       "    </tr>\n",
       "  </thead>\n",
       "  <tbody>\n",
       "    <tr>\n",
       "      <th>a</th>\n",
       "      <td>-12</td>\n",
       "      <td>-11</td>\n",
       "      <td>-10</td>\n",
       "      <td>-9</td>\n",
       "    </tr>\n",
       "    <tr>\n",
       "      <th>b</th>\n",
       "      <td>-8</td>\n",
       "      <td>-7</td>\n",
       "      <td>-6</td>\n",
       "      <td>-5</td>\n",
       "    </tr>\n",
       "    <tr>\n",
       "      <th>c</th>\n",
       "      <td>-4</td>\n",
       "      <td>-3</td>\n",
       "      <td>-2</td>\n",
       "      <td>-1</td>\n",
       "    </tr>\n",
       "    <tr>\n",
       "      <th>d</th>\n",
       "      <td>0</td>\n",
       "      <td>1</td>\n",
       "      <td>2</td>\n",
       "      <td>3</td>\n",
       "    </tr>\n",
       "    <tr>\n",
       "      <th>e</th>\n",
       "      <td>4</td>\n",
       "      <td>5</td>\n",
       "      <td>6</td>\n",
       "      <td>7</td>\n",
       "    </tr>\n",
       "    <tr>\n",
       "      <th>f</th>\n",
       "      <td>8</td>\n",
       "      <td>9</td>\n",
       "      <td>10</td>\n",
       "      <td>11</td>\n",
       "    </tr>\n",
       "  </tbody>\n",
       "</table>\n",
       "</div>"
      ],
      "text/plain": [
       "    A   B   C   D\n",
       "a -12 -11 -10  -9\n",
       "b  -8  -7  -6  -5\n",
       "c  -4  -3  -2  -1\n",
       "d   0   1   2   3\n",
       "e   4   5   6   7\n",
       "f   8   9  10  11"
      ]
     },
     "execution_count": 1,
     "metadata": {},
     "output_type": "execute_result"
    }
   ],
   "source": [
    "import pandas as pd\n",
    "import numpy as np\n",
    "\n",
    "data = np.arange(-12, 12).reshape((6, 4))\n",
    "df = pd.DataFrame(\n",
    "  data, \n",
    "  index=list(\"abcdef\"), \n",
    "  columns=list(\"ABCD\"))\n",
    "df"
   ]
  },
  {
   "cell_type": "markdown",
   "id": "69038cf6",
   "metadata": {},
   "source": [
    "### 选Column\n",
    "看到了上面这份数据后，我们发现，DataFrame 会分 Column 和 Row（index）。如果你搞机器学习，通常我们的 Column 是特征，Row 是数据样本， 在要对某个特征进行分析的时候，比如要做特征数值分布的分析，我们得把特征取出来吧。 那么你可以这么搞。"
   ]
  },
  {
   "cell_type": "code",
   "execution_count": 2,
   "id": "6daa8ea3",
   "metadata": {},
   "outputs": [
    {
     "data": {
      "text/plain": [
       "a   -11\n",
       "b    -7\n",
       "c    -3\n",
       "d     1\n",
       "e     5\n",
       "f     9\n",
       "Name: B, dtype: int32"
      ]
     },
     "execution_count": 2,
     "metadata": {},
     "output_type": "execute_result"
    }
   ],
   "source": [
    "df[\"B\"]"
   ]
  },
  {
   "cell_type": "markdown",
   "id": "e4f30456",
   "metadata": {},
   "source": [
    "选一个就这么简单，但是偶尔你还想多选几个特征，怎么搞呢？想一想以前 Numpy 教学里面的 Array 是怎么选的？"
   ]
  },
  {
   "cell_type": "code",
   "execution_count": 4,
   "id": "31f25f72",
   "metadata": {},
   "outputs": [
    {
     "name": "stdout",
     "output_type": "stream",
     "text": [
      "numpy:\n",
      " [[-10 -11]\n",
      " [ -6  -7]\n",
      " [ -2  -3]\n",
      " [  2   1]\n",
      " [  6   5]\n",
      " [ 10   9]]\n",
      "\n",
      "df:\n",
      "     C   B\n",
      "a -10 -11\n",
      "b  -6  -7\n",
      "c  -2  -3\n",
      "d   2   1\n",
      "e   6   5\n",
      "f  10   9\n"
     ]
    }
   ],
   "source": [
    "print(\"numpy:\\n\", data[:, [2,1]]) #选取指定的列\n",
    "print(\"\\ndf:\\n\", df[[\"C\", \"B\"]])#选取指定的列"
   ]
  },
  {
   "cell_type": "markdown",
   "id": "807d33f2",
   "metadata": {},
   "source": [
    "已经能选 column 了，那意味着肯定能将 Index（Row）的信息也一起考虑到数据筛选的工作当中了。"
   ]
  },
  {
   "cell_type": "markdown",
   "id": "0fc64f9a",
   "metadata": {},
   "source": [
    "### loc\n",
    "如果你是刚从 面向 Excel 编程，或者也没怎么用过 Excel 中的函数的朋友，也可以轻松从 loc 函数中找到一丝丝熟悉的感觉。 因为这个 .loc 方法是更贴近我们人类直觉的，按照字面来选取数据块的方式。\n",
    "\n",
    "我举个例子你就明白了，如果你对我的 Numpy教程 熟悉，你会知道，在 Numpy 中选取数据一般都是按照在维度上的排序来定位的。 比如对于你刚刚创建的 Numpy 数据 data："
   ]
  },
  {
   "cell_type": "code",
   "execution_count": 5,
   "id": "47d46282",
   "metadata": {},
   "outputs": [
    {
     "data": {
      "text/plain": [
       "array([[-3, -2]])"
      ]
     },
     "execution_count": 5,
     "metadata": {},
     "output_type": "execute_result"
    }
   ],
   "source": [
    "data[2:3, 1:3]"
   ]
  },
  {
   "cell_type": "markdown",
   "id": "d930e367",
   "metadata": {},
   "source": [
    "而在 DataFrame 中，同样是上述功能，你可以这么干："
   ]
  },
  {
   "cell_type": "code",
   "execution_count": 7,
   "id": "e458d147",
   "metadata": {},
   "outputs": [
    {
     "data": {
      "text/html": [
       "<div>\n",
       "<style scoped>\n",
       "    .dataframe tbody tr th:only-of-type {\n",
       "        vertical-align: middle;\n",
       "    }\n",
       "\n",
       "    .dataframe tbody tr th {\n",
       "        vertical-align: top;\n",
       "    }\n",
       "\n",
       "    .dataframe thead th {\n",
       "        text-align: right;\n",
       "    }\n",
       "</style>\n",
       "<table border=\"1\" class=\"dataframe\">\n",
       "  <thead>\n",
       "    <tr style=\"text-align: right;\">\n",
       "      <th></th>\n",
       "      <th>B</th>\n",
       "      <th>C</th>\n",
       "      <th>D</th>\n",
       "    </tr>\n",
       "  </thead>\n",
       "  <tbody>\n",
       "    <tr>\n",
       "      <th>c</th>\n",
       "      <td>-3</td>\n",
       "      <td>-2</td>\n",
       "      <td>-1</td>\n",
       "    </tr>\n",
       "    <tr>\n",
       "      <th>d</th>\n",
       "      <td>1</td>\n",
       "      <td>2</td>\n",
       "      <td>3</td>\n",
       "    </tr>\n",
       "  </tbody>\n",
       "</table>\n",
       "</div>"
      ],
      "text/plain": [
       "   B  C  D\n",
       "c -3 -2 -1\n",
       "d  1  2  3"
      ]
     },
     "execution_count": 7,
     "metadata": {},
     "output_type": "execute_result"
    }
   ],
   "source": [
    "df.loc[\"c\":\"d\", \"B\":\"D\"] #指定范围的行和列"
   ]
  },
  {
   "attachments": {
    "image.png": {
     "image/png": "[encoded data removed]"
    }
   },
   "cell_type": "markdown",
   "id": "7dca22d1",
   "metadata": {},
   "source": [
    "咦，不知道你有没有发现，这个 \"c\":\"d\" 和 \"B\":\"D\" 明明对应的是上面 data 的 [2:3] 和 [1:3]，但为什么它还包含了最后一位的 \"d\" 和 \"D\" 呢？这的确是 Pandas 的一个用心良苦，我猜他是为了更贴切 Excel 中的使用原则吧，想一想，如果你像下面这样， 在选择 Excel 要被筛选的数据时，从 b 选到 d，其实你是有包含 d 的。所以我说，Pandas 这么设计，原因之一也应该是为了照顾我们吧。\n",
    "![image.png](attachment:image.png)"
   ]
  },
  {
   "cell_type": "markdown",
   "id": "1da70333",
   "metadata": {},
   "source": [
    "除了筛选一个片段，还可以像 Numpy 那样单个单个的选取。"
   ]
  },
  {
   "cell_type": "code",
   "execution_count": 9,
   "id": "5281abe1",
   "metadata": {},
   "outputs": [
    {
     "name": "stdout",
     "output_type": "stream",
     "text": [
      "numpy:\n",
      " [[ 0  1  2  3]\n",
      " [-8 -7 -6 -5]]\n",
      "\n",
      "df:\n",
      "    A  B  C  D\n",
      "d  0  1  2  3\n",
      "b -8 -7 -6 -5\n"
     ]
    }
   ],
   "source": [
    "print(\"numpy:\\n\", data[[3,1], :])\n",
    "print(\"\\ndf:\\n\", df.loc[[\"d\", \"b\"], :])"
   ]
  },
  {
   "cell_type": "markdown",
   "id": "45098143",
   "metadata": {},
   "source": [
    "上面这两个例子，不难看出，Pandas 选取数据的底层逻辑，和 Python Numpy 的类似，都是按维度的先后（先选第一维，再第二，以此类推）， 开始选取。按数据的索引找到维度上的对应索引区域。\n",
    "\n",
    "下面我再来整个有趣的，如果我不按字母顺序去组织 index，比如从原本的 index=abcdef 换成 index=beacdf， 猜猜下面的这份数据索引会找到哪一份子数据？"
   ]
  },
  {
   "cell_type": "code",
   "execution_count": 10,
   "id": "3b202fc4",
   "metadata": {},
   "outputs": [
    {
     "name": "stdout",
     "output_type": "stream",
     "text": [
      "    A   B   C   D\n",
      "b -12 -11 -10  -9\n",
      "e  -8  -7  -6  -5\n",
      "a  -4  -3  -2  -1\n",
      "c   0   1   2   3\n",
      "d   4   5   6   7\n",
      "f   8   9  10  11\n",
      "   A  B  C  D\n",
      "e -8 -7 -6 -5\n",
      "a -4 -3 -2 -1\n",
      "c  0  1  2  3\n"
     ]
    }
   ],
   "source": [
    "df2 = pd.DataFrame(\n",
    "  data, \n",
    "  index=list(\"beacdf\"), \n",
    "  columns=list(\"ABCD\"))\n",
    "print(df2)\n",
    "print(df2.loc[\"e\":\"c\"]) #指定的行"
   ]
  },
  {
   "cell_type": "markdown",
   "id": "f80f5920",
   "metadata": {},
   "source": [
    "### iloc\n",
    "看完面向 Excel 编程，我们再来回到编程本身，用程序的思维去选取数据。这意味着什么？用最朴素的方法，也是意味着能更快找到数据位置，比如直接用位置信息来筛选。 Numpy 不就是这么干的吗？这时 .iloc 功能就派上用场了。\n",
    "\n",
    "同样还是上面那份数据，我们走一遍 .iloc 的流程。"
   ]
  },
  {
   "cell_type": "code",
   "execution_count": 11,
   "id": "c2458c7b",
   "metadata": {},
   "outputs": [
    {
     "name": "stdout",
     "output_type": "stream",
     "text": [
      "numpy:\n",
      " [[-3 -2]]\n",
      "\n",
      "df:\n",
      "    B  C\n",
      "c -3 -2\n"
     ]
    }
   ],
   "source": [
    "print(\"numpy:\\n\", data[2:3, 1:3])\n",
    "print(\"\\ndf:\\n\", df.iloc[2:3, 1:3])"
   ]
  },
  {
   "cell_type": "markdown",
   "id": "07543427",
   "metadata": {},
   "source": [
    "简直和 Numpy 的模式一模一样，就是结果中多了一个 DataFrame 的标签信息。"
   ]
  },
  {
   "cell_type": "code",
   "execution_count": 13,
   "id": "82886d3e",
   "metadata": {},
   "outputs": [
    {
     "name": "stdout",
     "output_type": "stream",
     "text": [
      "numpy:\n",
      " [[ 0  1  2  3]\n",
      " [-8 -7 -6 -5]]\n",
      "\n",
      "df:\n",
      "    A  B  C  D\n",
      "d  0  1  2  3\n",
      "b -8 -7 -6 -5\n"
     ]
    }
   ],
   "source": [
    "print(\"numpy:\\n\", data[[3,1], :])\n",
    "print(\"\\ndf:\\n\", df.iloc[[3, 1], :])"
   ]
  },
  {
   "cell_type": "markdown",
   "id": "5d8541d7",
   "metadata": {},
   "source": [
    "### loc和iloc混搭\n",
    "难免有时候，我们需要混搭 loc 和 iloc 的方式，比如我想要选取第 2 到第 4 位数据的 A C 两个特征，这时咋办？ 想想 Pandas 这么牛逼，肯定有办法解决。的确，它解决的方法是采用索引转换的方式，比如我在 .loc 模式下，将序号索引转换成 .loc 的标签索引。"
   ]
  },
  {
   "cell_type": "code",
   "execution_count": 14,
   "id": "88839159",
   "metadata": {},
   "outputs": [
    {
     "name": "stdout",
     "output_type": "stream",
     "text": [
      "row_labels:\n",
      " Index(['c', 'd'], dtype='object')\n",
      "\n",
      "df:\n",
      "    A  C\n",
      "c -4 -2\n",
      "d  0  2\n"
     ]
    }
   ],
   "source": [
    "row_labels = df.index[2:4] #取行的lables\n",
    "print(\"row_labels:\\n\", row_labels)\n",
    "print(\"\\ndf:\\n\", df.loc[row_labels, [\"A\", \"C\"]])"
   ]
  },
  {
   "cell_type": "markdown",
   "id": "6f9803f5",
   "metadata": {},
   "source": [
    "再看看 Column 的 labels 怎么取？"
   ]
  },
  {
   "cell_type": "code",
   "execution_count": 15,
   "id": "77087e59",
   "metadata": {},
   "outputs": [
    {
     "name": "stdout",
     "output_type": "stream",
     "text": [
      "col_labels:\n",
      " Index(['A', 'D'], dtype='object')\n",
      "\n",
      "df:\n",
      "    A  D\n",
      "c -4 -1\n",
      "d  0  3\n"
     ]
    }
   ],
   "source": [
    "col_labels = df.columns[[0, 3]] #取列的lables\n",
    "print(\"col_labels:\\n\", col_labels)\n",
    "print(\"\\ndf:\\n\", df.loc[row_labels, col_labels])"
   ]
  },
  {
   "cell_type": "markdown",
   "id": "c30a0a0c",
   "metadata": {},
   "source": [
    "清楚了吧，用 df.index 和 df.columns 来调取到全部的标签，然后在用像 Numpy index 索引的方式把这些标签给筛选出来，放到 .loc 里面用。 那反过来，我想要找 A B 两个特征的 前两个数据，这时咋办？"
   ]
  },
  {
   "cell_type": "code",
   "execution_count": 16,
   "id": "9ec7d72f",
   "metadata": {},
   "outputs": [
    {
     "name": "stdout",
     "output_type": "stream",
     "text": [
      "col_index:\n",
      " [0 1]\n",
      "\n",
      "df:\n",
      "     A   B\n",
      "a -12 -11\n",
      "b  -8  -7\n"
     ]
    }
   ],
   "source": [
    "col_index = df.columns.get_indexer([\"A\", \"B\"])\n",
    "print(\"col_index:\\n\", col_index)\n",
    "print(\"\\ndf:\\n\", df.iloc[:2, col_index])"
   ]
  },
  {
   "cell_type": "markdown",
   "id": "a7841a39",
   "metadata": {},
   "source": [
    "同理，df.index.get_indexer([\"a\", \"b\"]) 也可以这样获取到 label 对应的 index 信息。"
   ]
  },
  {
   "cell_type": "markdown",
   "id": "9470f8c0",
   "metadata": {},
   "source": [
    "### 条件过滤筛选\n",
    "按条件过滤其实是一件很有趣的事，因为很多情况我们事先也不知道具体的 index 是什么，我们更想要从某些条件中筛选数据。 下面我举几个例子，大家应该很容易 get 到其中的奥秘。"
   ]
  },
  {
   "cell_type": "markdown",
   "id": "9e9d23e5",
   "metadata": {},
   "source": [
    "#### 选在 A Column 中小于 0 的那些数据"
   ]
  },
  {
   "cell_type": "code",
   "execution_count": 17,
   "id": "1696cb18",
   "metadata": {},
   "outputs": [
    {
     "data": {
      "text/html": [
       "<div>\n",
       "<style scoped>\n",
       "    .dataframe tbody tr th:only-of-type {\n",
       "        vertical-align: middle;\n",
       "    }\n",
       "\n",
       "    .dataframe tbody tr th {\n",
       "        vertical-align: top;\n",
       "    }\n",
       "\n",
       "    .dataframe thead th {\n",
       "        text-align: right;\n",
       "    }\n",
       "</style>\n",
       "<table border=\"1\" class=\"dataframe\">\n",
       "  <thead>\n",
       "    <tr style=\"text-align: right;\">\n",
       "      <th></th>\n",
       "      <th>A</th>\n",
       "      <th>B</th>\n",
       "      <th>C</th>\n",
       "      <th>D</th>\n",
       "    </tr>\n",
       "  </thead>\n",
       "  <tbody>\n",
       "    <tr>\n",
       "      <th>a</th>\n",
       "      <td>-12</td>\n",
       "      <td>-11</td>\n",
       "      <td>-10</td>\n",
       "      <td>-9</td>\n",
       "    </tr>\n",
       "    <tr>\n",
       "      <th>b</th>\n",
       "      <td>-8</td>\n",
       "      <td>-7</td>\n",
       "      <td>-6</td>\n",
       "      <td>-5</td>\n",
       "    </tr>\n",
       "    <tr>\n",
       "      <th>c</th>\n",
       "      <td>-4</td>\n",
       "      <td>-3</td>\n",
       "      <td>-2</td>\n",
       "      <td>-1</td>\n",
       "    </tr>\n",
       "  </tbody>\n",
       "</table>\n",
       "</div>"
      ],
      "text/plain": [
       "    A   B   C  D\n",
       "a -12 -11 -10 -9\n",
       "b  -8  -7  -6 -5\n",
       "c  -4  -3  -2 -1"
      ]
     },
     "execution_count": 17,
     "metadata": {},
     "output_type": "execute_result"
    }
   ],
   "source": [
    "df[df[\"A\"] < 0]"
   ]
  },
  {
   "cell_type": "markdown",
   "id": "f58da918",
   "metadata": {},
   "source": [
    "#### 选在第一行数据不小于 -10 的数据\n",
    "这里注意了你可以用两种方式，一种是 ~ 来表示 非 什么什么，第二种是直接用 >=-10 来筛选。"
   ]
  },
  {
   "cell_type": "code",
   "execution_count": 23,
   "id": "a9bee572",
   "metadata": {},
   "outputs": [
    {
     "name": "stdout",
     "output_type": "stream",
     "text": [
      "~:\n",
      "     C   D\n",
      "a -10  -9\n",
      "b  -6  -5\n",
      "c  -2  -1\n",
      "d   2   3\n",
      "e   6   7\n",
      "f  10  11\n",
      "\n",
      ">=:\n",
      "     D\n",
      "a  -9\n",
      "b  -5\n",
      "c  -1\n",
      "d   3\n",
      "e   7\n",
      "f  11\n"
     ]
    }
   ],
   "source": [
    "# df.iloc[0] #得到第一行所有数据，df.iloc[0] >=-10得到第一行中>=-10的列\n",
    "print(\"~:\\n\", df.loc[:, ~(df.iloc[0] < -10)]) \n",
    "print(\"\\n>=:\\n\", df.loc[:, df.iloc[0] >= -10])"
   ]
  },
  {
   "attachments": {
    "image.png": {
     "image/png": "[encoded data removed]"
    }
   },
   "cell_type": "markdown",
   "id": "b3fa8bd0",
   "metadata": {},
   "source": [
    "df原始数据：![image.png](attachment:image.png)"
   ]
  },
  {
   "cell_type": "markdown",
   "id": "9b201317",
   "metadata": {},
   "source": [
    "同上面类似的，我还能用或 | 来表示 or 的意思, & 表述 and。比如选在第一行数据不小于 -10 或小于 -11 的数据"
   ]
  },
  {
   "cell_type": "code",
   "execution_count": 24,
   "id": "c90dd4e9",
   "metadata": {},
   "outputs": [
    {
     "name": "stdout",
     "output_type": "stream",
     "text": [
      "A   -12\n",
      "B   -11\n",
      "C   -10\n",
      "D    -9\n",
      "Name: a, dtype: int32\n",
      "<class 'pandas.core.series.Series'>\n"
     ]
    },
    {
     "data": {
      "text/html": [
       "<div>\n",
       "<style scoped>\n",
       "    .dataframe tbody tr th:only-of-type {\n",
       "        vertical-align: middle;\n",
       "    }\n",
       "\n",
       "    .dataframe tbody tr th {\n",
       "        vertical-align: top;\n",
       "    }\n",
       "\n",
       "    .dataframe thead th {\n",
       "        text-align: right;\n",
       "    }\n",
       "</style>\n",
       "<table border=\"1\" class=\"dataframe\">\n",
       "  <thead>\n",
       "    <tr style=\"text-align: right;\">\n",
       "      <th></th>\n",
       "      <th>A</th>\n",
       "      <th>C</th>\n",
       "      <th>D</th>\n",
       "    </tr>\n",
       "  </thead>\n",
       "  <tbody>\n",
       "    <tr>\n",
       "      <th>a</th>\n",
       "      <td>-12</td>\n",
       "      <td>-10</td>\n",
       "      <td>-9</td>\n",
       "    </tr>\n",
       "    <tr>\n",
       "      <th>b</th>\n",
       "      <td>-8</td>\n",
       "      <td>-6</td>\n",
       "      <td>-5</td>\n",
       "    </tr>\n",
       "    <tr>\n",
       "      <th>c</th>\n",
       "      <td>-4</td>\n",
       "      <td>-2</td>\n",
       "      <td>-1</td>\n",
       "    </tr>\n",
       "    <tr>\n",
       "      <th>d</th>\n",
       "      <td>0</td>\n",
       "      <td>2</td>\n",
       "      <td>3</td>\n",
       "    </tr>\n",
       "    <tr>\n",
       "      <th>e</th>\n",
       "      <td>4</td>\n",
       "      <td>6</td>\n",
       "      <td>7</td>\n",
       "    </tr>\n",
       "    <tr>\n",
       "      <th>f</th>\n",
       "      <td>8</td>\n",
       "      <td>10</td>\n",
       "      <td>11</td>\n",
       "    </tr>\n",
       "  </tbody>\n",
       "</table>\n",
       "</div>"
      ],
      "text/plain": [
       "    A   C   D\n",
       "a -12 -10  -9\n",
       "b  -8  -6  -5\n",
       "c  -4  -2  -1\n",
       "d   0   2   3\n",
       "e   4   6   7\n",
       "f   8  10  11"
      ]
     },
     "execution_count": 24,
     "metadata": {},
     "output_type": "execute_result"
    }
   ],
   "source": [
    "i0 = df.iloc[0] #得到第一行所有数据\n",
    "print(i0)\n",
    "print(type(i0))\n",
    "df.loc[:, ~(i0 < -10) | (i0 < -11)]"
   ]
  },
  {
   "cell_type": "markdown",
   "id": "ce55b1a8",
   "metadata": {},
   "source": [
    "所以你看，你可以用 .loc 或者 .iloc 来做过滤处理。然后用 .loc 来做筛选。为什么用 .iloc 来筛选呢，比如下面这样："
   ]
  },
  {
   "cell_type": "code",
   "execution_count": 30,
   "id": "8bf2cd89",
   "metadata": {},
   "outputs": [
    {
     "name": "stdout",
     "output_type": "stream",
     "text": [
      "A    False\n",
      "B    False\n",
      "C     True\n",
      "D     True\n",
      "Name: a, dtype: bool\n"
     ]
    }
   ],
   "source": [
    "print(~(df.iloc[0] < -10) )\n",
    "# df.iloc[:, ~(df.iloc[0] < -10)] 报错"
   ]
  },
  {
   "cell_type": "markdown",
   "id": "7af9d00e",
   "metadata": {},
   "source": [
    "这样写居然会导致报错，为什么呢？你分析分析，把 ~(df.iloc[0] < -10) 这个筛选条件打印出来看看它是什么值。然后想一想 .iloc 能够接受的值是啥？ 想清楚了，这个问题就迎刃而解了。"
   ]
  },
  {
   "cell_type": "markdown",
   "id": "f90ebfa1",
   "metadata": {},
   "source": [
    "### Series和DataFrame类似\n",
    "我的讲解顺序可能有点反常规，一般人可能会先从 Series 的数据筛选操作讲到 DataFrame，而我想要从你日常最常用的东西，讲到不太常用的。 从数据处理的角度，比如处理常用的 Excel，在这里的顺序， 就应该是从 DataFrame 讲到 Series。\n",
    "\n",
    "既然二维的 DataFrame 你都已经玩过了，Series 的操作就不在话下了。"
   ]
  },
  {
   "cell_type": "code",
   "execution_count": 31,
   "id": "e424c290",
   "metadata": {},
   "outputs": [
    {
     "data": {
      "text/plain": [
       "a   -4\n",
       "b   -3\n",
       "c   -2\n",
       "d   -1\n",
       "e    0\n",
       "f    1\n",
       "g    2\n",
       "h    3\n",
       "dtype: int64"
      ]
     },
     "execution_count": 31,
     "metadata": {},
     "output_type": "execute_result"
    }
   ],
   "source": [
    "list_data = list(range(-4, 4))\n",
    "s = pd.Series(\n",
    "  list_data, \n",
    "  index=list(\"abcdefgh\"))\n",
    "s"
   ]
  },
  {
   "cell_type": "markdown",
   "id": "4dde7c39",
   "metadata": {},
   "source": [
    "按标签筛选数据 .loc"
   ]
  },
  {
   "cell_type": "code",
   "execution_count": 33,
   "id": "c9c7c240",
   "metadata": {},
   "outputs": [
    {
     "name": "stdout",
     "output_type": "stream",
     "text": [
      "a   -4\n",
      "g    2\n",
      "c   -2\n",
      "dtype: int64 \n",
      "\n",
      "c   -2\n",
      "d   -1\n",
      "e    0\n",
      "f    1\n",
      "dtype: int64\n"
     ]
    }
   ],
   "source": [
    "print(s.loc[[\"a\", \"g\", \"c\"]], \"\\n\")\n",
    "print(s.loc[\"c\": \"f\"])"
   ]
  },
  {
   "cell_type": "markdown",
   "id": "23b1e4bf",
   "metadata": {},
   "source": [
    "按 index 筛选数据 .iloc"
   ]
  },
  {
   "cell_type": "code",
   "execution_count": 34,
   "id": "ceb408b6",
   "metadata": {},
   "outputs": [
    {
     "name": "stdout",
     "output_type": "stream",
     "text": [
      "d   -1\n",
      "b   -3\n",
      "f    1\n",
      "dtype: int64 \n",
      "\n",
      "c   -2\n",
      "d   -1\n",
      "dtype: int64\n"
     ]
    }
   ],
   "source": [
    "print(s.iloc[[3, 1, 5]], \"\\n\")\n",
    "print(s.iloc[2: 4])"
   ]
  },
  {
   "cell_type": "markdown",
   "id": "278e889b",
   "metadata": {},
   "source": [
    "iloc 和 loc 互相混用"
   ]
  },
  {
   "cell_type": "code",
   "execution_count": 35,
   "id": "003d6c69",
   "metadata": {},
   "outputs": [
    {
     "name": "stdout",
     "output_type": "stream",
     "text": [
      "c   -2\n",
      "d   -1\n",
      "dtype: int64 \n",
      "\n",
      "d   -1\n",
      "c   -2\n",
      "dtype: int64\n"
     ]
    }
   ],
   "source": [
    "print(s.iloc[s.index.get_indexer([\"c\", \"d\"])], \"\\n\")\n",
    "print(s.loc[s.index[[3,2]]])"
   ]
  },
  {
   "cell_type": "markdown",
   "id": "43a66eb6",
   "metadata": {},
   "source": [
    "按条件过滤筛选"
   ]
  },
  {
   "cell_type": "code",
   "execution_count": 36,
   "id": "ad34194e",
   "metadata": {},
   "outputs": [
    {
     "name": "stdout",
     "output_type": "stream",
     "text": [
      "a   -4\n",
      "b   -3\n",
      "c   -2\n",
      "d   -1\n",
      "e    0\n",
      "f    1\n",
      "g    2\n",
      "dtype: int64 \n",
      "\n",
      "d   -1\n",
      "dtype: int64 \n",
      "\n",
      "a   -4\n",
      "b   -3\n",
      "c   -2\n",
      "d   -1\n",
      "h    3\n",
      "dtype: int64 \n",
      "\n"
     ]
    }
   ],
   "source": [
    "print(s.loc[s < 3], \"\\n\")\n",
    "print(s.loc[(s < 0) & (s > -2)], \"\\n\")\n",
    "print(s.loc[(s < 0) | (s > 2)], \"\\n\")"
   ]
  },
  {
   "cell_type": "markdown",
   "id": "c9b217fc",
   "metadata": {},
   "source": [
    "### 总结\n",
    "Pandas 的数据筛选方法比 Numpy 丰富多了，介绍的篇幅也有点多，我日常用的最多的还是用条件来筛选，比如在处理机器学习的脏数据的时候，要用很多筛选逻辑。 有时甚至我会觉得 Numpy 的筛选方式不够多，专门把 Numpy 数据转换成 Pandas 数据，然后再用 Pandas 提供的丰富工具处理数据，再转回 Numpy。 相信你用熟了之后，数据处理将要简单很多。"
   ]
  },
  {
   "cell_type": "code",
   "execution_count": null,
   "id": "814b501f",
   "metadata": {},
   "outputs": [],
   "source": []
  }
 ],
 "metadata": {
  "kernelspec": {
   "display_name": "Python 3",
   "language": "python",
   "name": "python3"
  },
  "language_info": {
   "codemirror_mode": {
    "name": "ipython",
    "version": 3
   },
   "file_extension": ".py",
   "mimetype": "text/x-python",
   "name": "python",
   "nbconvert_exporter": "python",
   "pygments_lexer": "ipython3",
   "version": "3.6.13"
  }
 },
 "nbformat": 4,
 "nbformat_minor": 5
}
