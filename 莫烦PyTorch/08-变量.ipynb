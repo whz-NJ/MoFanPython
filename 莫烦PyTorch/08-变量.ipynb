{
 "cells": [
  {
   "cell_type": "markdown",
   "id": "4e95d382",
   "metadata": {},
   "source": [
    "### 什么是 Variable\n",
    "在 Torch 中的 Variable 就是一个存放会变化的值的地理位置. 里面的值会不停的变化. 就像一个裝鸡蛋的篮子, 鸡蛋数会不停变动. 那谁是里面的鸡蛋呢, 自然就是 Torch 的 Tensor 咯. 如果用一个 Variable 进行计算, 那返回的也是一个同类型的 Variable.\n",
    "\n",
    "我们定义一个 Variable:"
   ]
  },
  {
   "cell_type": "code",
   "execution_count": 1,
   "id": "487f65c9",
   "metadata": {},
   "outputs": [
    {
     "name": "stdout",
     "output_type": "stream",
     "text": [
      "tensor([[1., 2.],\n",
      "        [3., 4.]])\n",
      "tensor([[1., 2.],\n",
      "        [3., 4.]], requires_grad=True)\n"
     ]
    },
    {
     "data": {
      "text/plain": [
       "'\\nVariable containing:\\n 1  2\\n 3  4\\n[torch.FloatTensor of size 2x2]\\n'"
      ]
     },
     "execution_count": 1,
     "metadata": {},
     "output_type": "execute_result"
    }
   ],
   "source": [
    "import torch\n",
    "from torch.autograd import Variable # torch 中 Variable 模块\n",
    "\n",
    "# 先生鸡蛋\n",
    "tensor = torch.FloatTensor([[1,2],[3,4]])\n",
    "# 把鸡蛋放到篮子里, requires_grad是参不参与误差反向传播, 要不要计算梯度\n",
    "variable = Variable(tensor, requires_grad=True)\n",
    "\n",
    "print(tensor)\n",
    "\"\"\"\n",
    " 1  2\n",
    " 3  4\n",
    "[torch.FloatTensor of size 2x2]\n",
    "\"\"\"\n",
    "\n",
    "print(variable)\n",
    "\"\"\"\n",
    "Variable containing:\n",
    " 1  2\n",
    " 3  4\n",
    "[torch.FloatTensor of size 2x2]\n",
    "\"\"\""
   ]
  },
  {
   "cell_type": "markdown",
   "id": "8c766b96",
   "metadata": {},
   "source": [
    "### Variable 计算, 梯度\n",
    "我们再对比一下 tensor 的计算和 variable 的计算."
   ]
  },
  {
   "cell_type": "code",
   "execution_count": 2,
   "id": "6b688323",
   "metadata": {},
   "outputs": [
    {
     "name": "stdout",
     "output_type": "stream",
     "text": [
      "tensor(7.5000)\n",
      "tensor(7.5000, grad_fn=<MeanBackward0>)\n"
     ]
    }
   ],
   "source": [
    "t_out = torch.mean(tensor*tensor)       # x^2\n",
    "v_out = torch.mean(variable*variable)   # x^2\n",
    "print(t_out)\n",
    "print(v_out)    # 7.5"
   ]
  },
  {
   "cell_type": "markdown",
   "id": "49dff233",
   "metadata": {},
   "source": [
    "到目前为止, 我们看不出什么不同, 但是时刻记住, ***Variable 计算时, 它在背景幕布后面一步步默默地搭建着一个庞大的系统, 叫做计算图, computational graph. 这个图是用来干嘛的? 原来是将所有的计算步骤 (节点) 都连接起来, 最后进行误差反向传递的时候, 一次性将所有 variable 里面的修改幅度 (梯度) 都计算出来, 而 tensor 就没有这个能力啦.***"
   ]
  },
  {
   "cell_type": "markdown",
   "id": "8a8a4947",
   "metadata": {},
   "source": [
    "v_out = torch.mean(variable*variable) 就是在计算图中添加的一个计算步骤, 计算误差反向传递的时候有他一份功劳, 我们就来举个例子:"
   ]
  },
  {
   "cell_type": "code",
   "execution_count": 3,
   "id": "9f6ee6b8",
   "metadata": {},
   "outputs": [
    {
     "name": "stdout",
     "output_type": "stream",
     "text": [
      "tensor([[0.5000, 1.0000],\n",
      "        [1.5000, 2.0000]])\n"
     ]
    },
    {
     "data": {
      "text/plain": [
       "'\\n 0.5000  1.0000\\n 1.5000  2.0000\\n'"
      ]
     },
     "execution_count": 3,
     "metadata": {},
     "output_type": "execute_result"
    }
   ],
   "source": [
    "v_out.backward()    # 模拟 v_out 的误差反向传递\n",
    "\n",
    "# 下面两步看不懂没关系, 只要知道 Variable 是计算图的一部分, 可以用来传递误差就好.\n",
    "# v_out = 1/4 * sum(variable*variable) 这是计算图中的 v_out 计算步骤\n",
    "# 针对于 v_out 的梯度就是, d(v_out)/d(variable) = 1/4*2*variable = variable/2\n",
    "\n",
    "print(variable.grad)    # 初始 Variable 的梯度\n",
    "'''\n",
    " 0.5000  1.0000\n",
    " 1.5000  2.0000\n",
    "'''"
   ]
  },
  {
   "cell_type": "markdown",
   "id": "4e2f3c8c",
   "metadata": {},
   "source": [
    "### 获取 Variable 里面的数据\n",
    "直接print(variable)只会输出 Variable 形式的数据, 在很多时候是用不了的(比如想要用 plt 画图), 所以我们要转换一下, **将它变成 tensor 形式**."
   ]
  },
  {
   "cell_type": "code",
   "execution_count": 4,
   "id": "b15eced5",
   "metadata": {},
   "outputs": [
    {
     "name": "stdout",
     "output_type": "stream",
     "text": [
      "tensor([[1., 2.],\n",
      "        [3., 4.]], requires_grad=True)\n",
      "tensor([[1., 2.],\n",
      "        [3., 4.]])\n",
      "[[1. 2.]\n",
      " [3. 4.]]\n"
     ]
    },
    {
     "data": {
      "text/plain": [
       "'\\n[[ 1.  2.]\\n [ 3.  4.]]\\n'"
      ]
     },
     "execution_count": 4,
     "metadata": {},
     "output_type": "execute_result"
    }
   ],
   "source": [
    "print(variable)     #  Variable 形式\n",
    "\"\"\"\n",
    "Variable containing:\n",
    " 1  2\n",
    " 3  4\n",
    "[torch.FloatTensor of size 2x2]\n",
    "\"\"\"\n",
    "\n",
    "print(variable.data)    # tensor 形式\n",
    "\"\"\"\n",
    " 1  2\n",
    " 3  4\n",
    "[torch.FloatTensor of size 2x2]\n",
    "\"\"\"\n",
    "\n",
    "print(variable.data.numpy())    # numpy 形式\n",
    "\"\"\"\n",
    "[[ 1.  2.]\n",
    " [ 3.  4.]]\n",
    "\"\"\""
   ]
  },
  {
   "cell_type": "code",
   "execution_count": null,
   "id": "75c15c53",
   "metadata": {},
   "outputs": [],
   "source": []
  }
 ],
 "metadata": {
  "kernelspec": {
   "display_name": "Python 3",
   "language": "python",
   "name": "python3"
  },
  "language_info": {
   "codemirror_mode": {
    "name": "ipython",
    "version": 3
   },
   "file_extension": ".py",
   "mimetype": "text/x-python",
   "name": "python",
   "nbconvert_exporter": "python",
   "pygments_lexer": "ipython3",
   "version": "3.6.13"
  }
 },
 "nbformat": 4,
 "nbformat_minor": 5
}
