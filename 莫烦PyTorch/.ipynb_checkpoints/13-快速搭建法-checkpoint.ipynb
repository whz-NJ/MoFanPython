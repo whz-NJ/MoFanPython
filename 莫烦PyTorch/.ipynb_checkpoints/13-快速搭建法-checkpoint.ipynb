{
 "cells": [
  {
   "cell_type": "markdown",
   "id": "53db35da",
   "metadata": {},
   "source": [
    "### 要点\n",
    "Torch 中提供了很多方便的途径, 同样是神经网络, 能快则快, 我们看看如何用更简单的方式搭建同样的回归神经网络."
   ]
  },
  {
   "cell_type": "markdown",
   "id": "69286462",
   "metadata": {},
   "source": [
    "### 快速搭建\n",
    "我们先看看之前写神经网络时用到的步骤. 我们用 net1 代表这种方式搭建的神经网络."
   ]
  },
  {
   "cell_type": "code",
   "execution_count": 2,
   "id": "481203f1",
   "metadata": {},
   "outputs": [],
   "source": [
    "import torch\n",
    "\n",
    "class Net(torch.nn.Module):\n",
    "    def __init__(self, n_feature, n_hidden, n_output):\n",
    "        super(Net, self).__init__()\n",
    "        self.hidden = torch.nn.Linear(n_feature, n_hidden)\n",
    "        self.predict = torch.nn.Linear(n_hidden, n_output)\n",
    "\n",
    "    def forward(self, x):\n",
    "        x = F.relu(self.hidden(x))\n",
    "        x = self.predict(x)\n",
    "        return x\n",
    "\n",
    "net1 = Net(1, 10, 1)   # 这是我们用这种方式搭建的 net1"
   ]
  },
  {
   "cell_type": "markdown",
   "id": "f237890c",
   "metadata": {},
   "source": [
    "我们用 class 继承了一个 torch 中的神经网络结构, 然后对其进行了修改, 不过还有更快的一招, 用一句话就概括了上面所有的内容!"
   ]
  },
  {
   "cell_type": "code",
   "execution_count": 3,
   "id": "2888f5cb",
   "metadata": {},
   "outputs": [],
   "source": [
    "net2 = torch.nn.Sequential(\n",
    "    torch.nn.Linear(1, 10),\n",
    "    torch.nn.ReLU(),\n",
    "    torch.nn.Linear(10, 1)\n",
    ")"
   ]
  },
  {
   "cell_type": "markdown",
   "id": "e606c96e",
   "metadata": {},
   "source": [
    "我们再对比一下两者的结构:"
   ]
  },
  {
   "cell_type": "code",
   "execution_count": 4,
   "id": "7ee4006b",
   "metadata": {},
   "outputs": [
    {
     "name": "stdout",
     "output_type": "stream",
     "text": [
      "Net(\n",
      "  (hidden): Linear(in_features=1, out_features=10, bias=True)\n",
      "  (predict): Linear(in_features=10, out_features=1, bias=True)\n",
      ")\n",
      "Sequential(\n",
      "  (0): Linear(in_features=1, out_features=10, bias=True)\n",
      "  (1): ReLU()\n",
      "  (2): Linear(in_features=10, out_features=1, bias=True)\n",
      ")\n"
     ]
    },
    {
     "data": {
      "text/plain": [
       "'\\nSequential (\\n  (0): Linear (1 -> 10)\\n  (1): ReLU ()\\n  (2): Linear (10 -> 1)\\n)\\n'"
      ]
     },
     "execution_count": 4,
     "metadata": {},
     "output_type": "execute_result"
    }
   ],
   "source": [
    "print(net1)\n",
    "\"\"\"\n",
    "Net (\n",
    "  (hidden): Linear (1 -> 10)\n",
    "  (predict): Linear (10 -> 1)\n",
    ")\n",
    "\"\"\"\n",
    "print(net2)\n",
    "\"\"\"\n",
    "Sequential (\n",
    "  (0): Linear (1 -> 10)\n",
    "  (1): ReLU ()\n",
    "  (2): Linear (10 -> 1)\n",
    ")\n",
    "\"\"\""
   ]
  },
  {
   "cell_type": "markdown",
   "id": "dea62eb6",
   "metadata": {},
   "source": [
    "我们会发现 net2 多显示了一些内容, 这是为什么呢? 原来他把激励函数也一同纳入进去了, 但是 net1 中, 激励函数实际上是在 forward() 功能中才被调用的. 这也就说明了, 相比 net2, net1 的好处就是, 你可以根据你的个人需要更加个性化你自己的前向传播过程, 比如(RNN). 不过如果你不需要七七八八的过程, 相信 net2 这种形式更适合你.\n",
    "\n",
    "所以这也就是在我 github 代码(https://github.com/MorvanZhou/PyTorch-Tutorial/blob/master/tutorial-contents/303_build_nn_quickly.py )中的每一步的意义啦."
   ]
  },
  {
   "cell_type": "code",
   "execution_count": null,
   "id": "aadd7560",
   "metadata": {},
   "outputs": [],
   "source": []
  }
 ],
 "metadata": {
  "kernelspec": {
   "display_name": "Python 3",
   "language": "python",
   "name": "python3"
  },
  "language_info": {
   "codemirror_mode": {
    "name": "ipython",
    "version": 3
   },
   "file_extension": ".py",
   "mimetype": "text/x-python",
   "name": "python",
   "nbconvert_exporter": "python",
   "pygments_lexer": "ipython3",
   "version": "3.6.13"
  }
 },
 "nbformat": 4,
 "nbformat_minor": 5
}
