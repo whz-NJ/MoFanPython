{
 "cells": [
  {
   "cell_type": "markdown",
   "id": "16dc1bd8",
   "metadata": {},
   "source": [
    "### 要点\n",
    "循环神经网络让神经网络有了记忆, 对于序列话的数据,循环神经网络能达到更好的效果. 如果你对循环神经网络还没有特别了解, 请观看几分钟的短动画, RNN 动画简介 和 LSTM 动画简介 能让你生动理解 RNN. 接着我们就一步一步做一个分析手写数字的 RNN 吧."
   ]
  },
  {
   "cell_type": "markdown",
   "id": "838138f4",
   "metadata": {},
   "source": [
    "### MNIST手写数据"
   ]
  },
  {
   "cell_type": "code",
   "execution_count": 2,
   "id": "41a11980",
   "metadata": {},
   "outputs": [],
   "source": [
    "import torch\n",
    "from torch import nn\n",
    "import torchvision\n",
    "import torchvision.datasets as dsets\n",
    "import torchvision.transforms as transforms\n",
    "import matplotlib.pyplot as plt\n",
    "import matplotlib\n",
    "%matplotlib inline\n",
    "\n",
    "torch.manual_seed(1)    # reproducible\n",
    "\n",
    "# Hyper Parameters\n",
    "EPOCH = 1           # 训练整批数据多少次, 为了节约时间, 我们只训练一次\n",
    "BATCH_SIZE = 64\n",
    "TIME_STEP = 28      # rnn 时间步数 / 图片高度\n",
    "INPUT_SIZE = 28     # rnn 每步输入值 / 图片每行像素\n",
    "LR = 0.01           # learning rate\n",
    "DOWNLOAD_MNIST = True  # 如果你已经下载好了mnist数据就写上 Fasle\n",
    "\n",
    "\n",
    "# Mnist 手写数字\n",
    "train_data = torchvision.datasets.MNIST(\n",
    "    root='./mnist/',    # 保存或者提取位置\n",
    "    train=True,  # this is training data\n",
    "    transform=torchvision.transforms.ToTensor(),    # 转换 PIL.Image or numpy.ndarray 成\n",
    "                                                    # torch.FloatTensor (C x H x W), 训练的时候 normalize 成 [0.0, 1.0] 区间\n",
    "    download=DOWNLOAD_MNIST,          # 没下载就下载, 下载了就不用再下了\n",
    ")\n"
   ]
  },
  {
   "cell_type": "markdown",
   "id": "eb0ad1f9",
   "metadata": {},
   "source": [
    "黑色的地方的值都是0, 白色的地方值大于0.\n",
    "\n",
    "同样, 我们除了训练数据, 还给一些测试数据, 测试看看它有没有训练好."
   ]
  },
  {
   "cell_type": "code",
   "execution_count": 4,
   "id": "dab21948",
   "metadata": {},
   "outputs": [
    {
     "name": "stderr",
     "output_type": "stream",
     "text": [
      "C:\\Users\\OS\\Anaconda3\\envs\\rl_env\\lib\\site-packages\\torchvision\\datasets\\mnist.py:58: UserWarning: test_data has been renamed data\n",
      "  warnings.warn(\"test_data has been renamed data\")\n",
      "C:\\Users\\OS\\Anaconda3\\envs\\rl_env\\lib\\site-packages\\torchvision\\datasets\\mnist.py:48: UserWarning: test_labels has been renamed targets\n",
      "  warnings.warn(\"test_labels has been renamed targets\")\n"
     ]
    }
   ],
   "source": [
    "import torch.utils.data as Data\n",
    "\n",
    "test_data = torchvision.datasets.MNIST(root='./mnist/', train=False)\n",
    "\n",
    "# 批训练 50samples, 1 channel, 28x28 (50, 1, 28, 28)\n",
    "train_loader = Data.DataLoader(dataset=train_data, batch_size=BATCH_SIZE, shuffle=True)\n",
    "\n",
    "# 为了节约时间, 我们测试时只测试前2000个\n",
    "test_x = torch.unsqueeze(test_data.test_data, dim=1).type(torch.FloatTensor)[:2000]/255.   # shape from (2000, 28, 28) to (2000, 1, 28, 28), value in range(0,1)\n",
    "test_y = test_data.test_labels[:2000]"
   ]
  },
  {
   "cell_type": "markdown",
   "id": "8c3905d0",
   "metadata": {},
   "source": [
    "### RNN模型\n",
    "和以前一样, 我们用一个 class 来建立 RNN 模型. 这个 RNN 整体流程是\n",
    "\n",
    "1. (input0, state0) -> LSTM -> (output0, state1);\n",
    "2. (input1, state1) -> LSTM -> (output1, state2);\n",
    "3. ...\n",
    "4. (inputN, stateN)-> LSTM -> (outputN, stateN+1);\n",
    "5. outputN -> Linear -> prediction. 通过LSTM分析每一时刻的值, 并且将这一时刻和前面时刻的理解合并在一起, 生成当前时刻对前面数据的理解或记忆. 传递这种理解给下一时刻分析."
   ]
  },
  {
   "cell_type": "code",
   "execution_count": 5,
   "id": "8d41bacb",
   "metadata": {},
   "outputs": [
    {
     "name": "stdout",
     "output_type": "stream",
     "text": [
      "RNN(\n",
      "  (rnn): LSTM(28, 64, batch_first=True)\n",
      "  (out): Linear(in_features=64, out_features=10, bias=True)\n",
      ")\n"
     ]
    },
    {
     "data": {
      "text/plain": [
       "'\\nRNN (\\n  (rnn): LSTM(28, 64, batch_first=True)\\n  (out): Linear (64 -> 10)\\n)\\n'"
      ]
     },
     "execution_count": 5,
     "metadata": {},
     "output_type": "execute_result"
    }
   ],
   "source": [
    "class RNN(nn.Module):\n",
    "    def __init__(self):\n",
    "        super(RNN, self).__init__()\n",
    "\n",
    "        self.rnn = nn.LSTM(     # LSTM 效果要比 nn.RNN() 好多了\n",
    "            input_size=28,      # 图片每行的数据像素点\n",
    "            hidden_size=64,     # rnn hidden unit\n",
    "            num_layers=1,       # 有几层 RNN layers\n",
    "            batch_first=True,   # input & output 会是以 batch size 为第一维度的特征集 e.g. (batch, time_step, input_size)\n",
    "        )\n",
    "\n",
    "        self.out = nn.Linear(64, 10)    # 输出层\n",
    "\n",
    "    def forward(self, x):\n",
    "        # x shape (batch, time_step, input_size)\n",
    "        # r_out shape (batch, time_step, output_size)\n",
    "        # h_n shape (n_layers, batch, hidden_size)   LSTM 有两个 hidden states, h_n 是分线, h_c 是主线\n",
    "        # h_c shape (n_layers, batch, hidden_size)\n",
    "        r_out, (h_n, h_c) = self.rnn(x, None)   # None 表示 hidden state 会用全0的 state\n",
    "\n",
    "        # 选取最后一个时间点的 r_out 输出\n",
    "        # 这里 r_out[:, -1, :] 的值也是 h_n 的值\n",
    "        out = self.out(r_out[:, -1, :])\n",
    "        return out\n",
    "\n",
    "rnn = RNN()\n",
    "print(rnn)\n",
    "\"\"\"\n",
    "RNN (\n",
    "  (rnn): LSTM(28, 64, batch_first=True)\n",
    "  (out): Linear (64 -> 10)\n",
    ")\n",
    "\"\"\""
   ]
  },
  {
   "cell_type": "markdown",
   "id": "0a9ef9f3",
   "metadata": {},
   "source": [
    "### 训练\n",
    "我们将图片数据看成一个时间上的连续数据, 每一行的像素点都是这个时刻的输入, 读完整张图片就是从上而下的读完了每行的像素点. 然后我们就可以拿出 RNN 在最后一步的分析值判断图片是哪一类了. 下面的代码省略了计算 accuracy 的部分, 你可以在我的 github 中看到全部代码."
   ]
  },
  {
   "cell_type": "code",
   "execution_count": 6,
   "id": "1465ce66",
   "metadata": {},
   "outputs": [
    {
     "data": {
      "text/plain": [
       "'\\n...\\nEpoch:  0 | train loss: 0.0945 | test accuracy: 0.94\\nEpoch:  0 | train loss: 0.0984 | test accuracy: 0.94\\nEpoch:  0 | train loss: 0.0332 | test accuracy: 0.95\\nEpoch:  0 | train loss: 0.1868 | test accuracy: 0.96\\n'"
      ]
     },
     "execution_count": 6,
     "metadata": {},
     "output_type": "execute_result"
    }
   ],
   "source": [
    "optimizer = torch.optim.Adam(rnn.parameters(), lr=LR)   # optimize all parameters\n",
    "loss_func = nn.CrossEntropyLoss()   # the target label is not one-hotted\n",
    "\n",
    "# training and testing\n",
    "for epoch in range(EPOCH):\n",
    "    for step, (x, b_y) in enumerate(train_loader):   # gives batch data\n",
    "        b_x = x.view(-1, 28, 28)   # reshape x to (batch, time_step, input_size)\n",
    "\n",
    "        output = rnn(b_x)               # rnn output\n",
    "        loss = loss_func(output, b_y)   # cross entropy loss\n",
    "        optimizer.zero_grad()           # clear gradients for this training step\n",
    "        loss.backward()                 # backpropagation, compute gradients\n",
    "        optimizer.step()                # apply gradients\n",
    "\"\"\"\n",
    "...\n",
    "Epoch:  0 | train loss: 0.0945 | test accuracy: 0.94\n",
    "Epoch:  0 | train loss: 0.0984 | test accuracy: 0.94\n",
    "Epoch:  0 | train loss: 0.0332 | test accuracy: 0.95\n",
    "Epoch:  0 | train loss: 0.1868 | test accuracy: 0.96\n",
    "\"\"\""
   ]
  },
  {
   "cell_type": "markdown",
   "id": "bf94b2b9",
   "metadata": {},
   "source": [
    "最后我们再来取10个数据, 看看预测的值到底对不对:"
   ]
  },
  {
   "cell_type": "code",
   "execution_count": 7,
   "id": "e78d230c",
   "metadata": {},
   "outputs": [
    {
     "name": "stdout",
     "output_type": "stream",
     "text": [
      "[7 2 1 0 4 1 4 9 5 9] prediction number\n",
      "tensor([7, 2, 1, 0, 4, 1, 4, 9, 5, 9]) real number\n"
     ]
    },
    {
     "data": {
      "text/plain": [
       "'\\n[7 2 1 0 4 1 4 9 5 9] prediction number\\n[7 2 1 0 4 1 4 9 5 9] real number\\n'"
      ]
     },
     "execution_count": 7,
     "metadata": {},
     "output_type": "execute_result"
    }
   ],
   "source": [
    "test_output = rnn(test_x[:10].view(-1, 28, 28))\n",
    "pred_y = torch.max(test_output, 1)[1].data.numpy().squeeze()\n",
    "print(pred_y, 'prediction number')\n",
    "print(test_y[:10], 'real number')\n",
    "\"\"\"\n",
    "[7 2 1 0 4 1 4 9 5 9] prediction number\n",
    "[7 2 1 0 4 1 4 9 5 9] real number\n",
    "\"\"\""
   ]
  },
  {
   "cell_type": "markdown",
   "id": "58983894",
   "metadata": {},
   "source": [
    "所以这也就是在我 github 代码(https://github.com/MorvanZhou/PyTorch-Tutorial/blob/master/tutorial-contents/402_RNN_classifier.py )中的每一步的意义啦."
   ]
  },
  {
   "cell_type": "code",
   "execution_count": null,
   "id": "94991c3e",
   "metadata": {},
   "outputs": [],
   "source": []
  }
 ],
 "metadata": {
  "kernelspec": {
   "display_name": "Python 3",
   "language": "python",
   "name": "python3"
  },
  "language_info": {
   "codemirror_mode": {
    "name": "ipython",
    "version": 3
   },
   "file_extension": ".py",
   "mimetype": "text/x-python",
   "name": "python",
   "nbconvert_exporter": "python",
   "pygments_lexer": "ipython3",
   "version": "3.6.13"
  }
 },
 "nbformat": 4,
 "nbformat_minor": 5
}
