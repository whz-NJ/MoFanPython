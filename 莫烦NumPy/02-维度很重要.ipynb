{
 "cells": [
  {
   "cell_type": "markdown",
   "id": "065d6fb2",
   "metadata": {},
   "source": [
    "## 维度很重要\n",
    "Numpy 为什么在 Python 的科学计算上优势明显？其中最主要的一个原因是 Numpy 可以处理多维数据， 而且 Numpy 底层的 C 让它在多维数据上计算也非常快。\n",
    "\n",
    "特别是在做机器学习，人工智能的时候，十有八九，人工智能的算法里面，就会出现多维数据的计算问题。可见多维数据在科学计算中的普遍性， 也可见 Numpy 真的是非常有价值的一个 Python 库。"
   ]
  },
  {
   "cell_type": "markdown",
   "id": "885048c3",
   "metadata": {},
   "source": [
    "### 创建多维数据\n",
    "想象我们要维护一个车辆数据信息，每一个数据，代表的是一辆车的百公里加速时间，首先就是要创建一个车辆百公里加速的列表。"
   ]
  },
  {
   "cell_type": "code",
   "execution_count": 1,
   "id": "1d9b52f1",
   "metadata": {},
   "outputs": [
    {
     "name": "stdout",
     "output_type": "stream",
     "text": [
      "数据： [ 5 10 12  6] \n",
      "维度： 1\n"
     ]
    }
   ],
   "source": [
    "import numpy as np\n",
    "\n",
    "cars = np.array([5, 10, 12, 6])\n",
    "print(\"数据：\", cars, \"\\n维度：\", cars.ndim)"
   ]
  },
  {
   "attachments": {
    "image.png": {
     "image/png": "[encoded data removed]"
    }
   },
   "cell_type": "markdown",
   "id": "fabd27d9",
   "metadata": {},
   "source": [
    "你会发现，cars.ndim 会返回给你一个维度的属性，现在这组数据是一个一维数据。你可以认为这是某一次测试 4 款车收集到的数据。\n",
    "![image.png](attachment:image.png)"
   ]
  },
  {
   "cell_type": "markdown",
   "id": "fc724ec4",
   "metadata": {},
   "source": [
    "你看看，我们为了让结果更加准确，想着要多测几组数据，这就变成了一个二维数据了。在代码中，你可以这样一次性创建二维数据。"
   ]
  },
  {
   "cell_type": "code",
   "execution_count": 2,
   "id": "e18d14c3",
   "metadata": {},
   "outputs": [
    {
     "name": "stdout",
     "output_type": "stream",
     "text": [
      "数据：\n",
      " [[ 5.  10.  12.   6. ]\n",
      " [ 5.1  8.2 11.   6.3]\n",
      " [ 4.4  9.1 10.   6.6]] \n",
      "维度： 2\n"
     ]
    }
   ],
   "source": [
    "cars = np.array([\n",
    "[5, 10, 12, 6],\n",
    "[5.1, 8.2, 11, 6.3],\n",
    "[4.4, 9.1, 10, 6.6]\n",
    "])\n",
    "\n",
    "print(\"数据：\\n\", cars, \"\\n维度：\", cars.ndim)"
   ]
  },
  {
   "cell_type": "markdown",
   "id": "acd4f8bf",
   "metadata": {},
   "source": [
    "既然能创建二维数据，当然更高维度也不在话下啦，比如三维，可以表示，我在不同场地，多次测试不同测量，比二维数据多出来的一个维度就是不同场地这个维度了。 比如下面这样："
   ]
  },
  {
   "cell_type": "code",
   "execution_count": 3,
   "id": "4cb74b9a",
   "metadata": {},
   "outputs": [
    {
     "name": "stdout",
     "output_type": "stream",
     "text": [
      "总维度： 3\n",
      "场地 1 数据：\n",
      " [[ 5.  10.  12.   6. ]\n",
      " [ 5.1  8.2 11.   6.3]\n",
      " [ 4.4  9.1 10.   6.6]] \n",
      "场地 1 维度： 2\n",
      "场地 2 数据：\n",
      " [[ 6.  11.  13.   7. ]\n",
      " [ 6.1  9.2 12.   7.3]\n",
      " [ 5.4 10.1 11.   7.6]] \n",
      "场地 2 维度： 2\n"
     ]
    }
   ],
   "source": [
    "cars = np.array([\n",
    "[\n",
    "    [5, 10, 12, 6],\n",
    "    [5.1, 8.2, 11, 6.3],\n",
    "    [4.4, 9.1, 10, 6.6]\n",
    "],\n",
    "[\n",
    "    [6, 11, 13, 7],\n",
    "    [6.1, 9.2, 12, 7.3],\n",
    "    [5.4, 10.1, 11, 7.6]\n",
    "],\n",
    "])\n",
    "\n",
    "print(\"总维度：\", cars.ndim)\n",
    "print(\"场地 1 数据：\\n\", cars[0], \"\\n场地 1 维度：\", cars[0].ndim)\n",
    "print(\"场地 2 数据：\\n\", cars[1], \"\\n场地 2 维度：\", cars[1].ndim)"
   ]
  },
  {
   "cell_type": "markdown",
   "id": "7b3605aa",
   "metadata": {},
   "source": [
    "四位或更多维我就不打出来了，太麻烦了。你懂这个意思就行。"
   ]
  },
  {
   "attachments": {
    "image.png": {
     "image/png": "[encoded data removed]"
    }
   },
   "cell_type": "markdown",
   "id": "ecb7b972",
   "metadata": {},
   "source": [
    "### 添加数据\n",
    "上面创建了一个多维数据，但是我还会有很多新增数据的需求，比如在原数据的基础上，要新增一条，我总不能每次新增的时候，都创建一整个大数据吧，这样多麻烦。 还好，Numpy 有很多添加数据的方法。\n",
    "![image.png](attachment:image.png)"
   ]
  },
  {
   "cell_type": "code",
   "execution_count": 4,
   "id": "253106a9",
   "metadata": {},
   "outputs": [
    {
     "name": "stdout",
     "output_type": "stream",
     "text": [
      "[ 5.  10.  12.   6.   5.2  4.2]\n"
     ]
    }
   ],
   "source": [
    "cars1 = np.array([5, 10, 12, 6])\n",
    "cars2 = np.array([5.2, 4.2])\n",
    "cars = np.concatenate([cars1, cars2])\n",
    "print(cars)"
   ]
  },
  {
   "attachments": {
    "image.png": {
     "image/png": "[encoded data removed]"
    }
   },
   "cell_type": "markdown",
   "id": "4fbc8010",
   "metadata": {},
   "source": [
    "这种一维的数据很简单，也很好理解，就和 Python 中的 List 添加很像。但是如果数据换成了二维呢？我要添加一组测试数据呢？\n",
    "![image.png](attachment:image.png)"
   ]
  },
  {
   "cell_type": "code",
   "execution_count": 5,
   "id": "9d09cc62",
   "metadata": {},
   "outputs": [
    {
     "name": "stdout",
     "output_type": "stream",
     "text": [
      "test1加维度后  [[ 5 10 12  6]]\n",
      "test2加维度后  [[ 5.1  8.2 11.   6.3]]\n",
      "括展后\n",
      " [[ 5.  10.  12.   6. ]\n",
      " [ 5.1  8.2 11.   6.3]]\n"
     ]
    }
   ],
   "source": [
    "test1 = np.array([5, 10, 12, 6])\n",
    "test2 = np.array([5.1, 8.2, 11, 6.3])\n",
    "\n",
    "# 首先需要把它们都变成二维，下面这两种方法都可以加维度\n",
    "test1 = np.expand_dims(test1, 0)\n",
    "test2 = test2[np.newaxis, :]\n",
    "\n",
    "print(\"test1加维度后 \", test1)\n",
    "print(\"test2加维度后 \", test2)\n",
    "\n",
    "# 然后再在第一个维度上叠加\n",
    "all_tests = np.concatenate([test1, test2])\n",
    "print(\"括展后\\n\", all_tests)\n"
   ]
  },
  {
   "cell_type": "markdown",
   "id": "654812cf",
   "metadata": {},
   "source": [
    "### 合并数据\n",
    "有同学肯定会问了，你既然能在第一个维度上叠加，那你能不能在第二个维度上叠加呢？当然可以，只需要巧妙给 np.concatenate 一个参数就好。"
   ]
  },
  {
   "cell_type": "code",
   "execution_count": 6,
   "id": "573c2e2b",
   "metadata": {},
   "outputs": [
    {
     "name": "stdout",
     "output_type": "stream",
     "text": [
      "第一维度叠加：\n",
      " [[ 5.  10.  12.   6. ]\n",
      " [ 5.1  8.2 11.   6.3]\n",
      " [ 5.  10.  12.   6. ]\n",
      " [ 5.1  8.2 11.   6.3]]\n",
      "第二维度叠加：\n",
      " [[ 5.  10.  12.   6.   5.  10.  12.   6. ]\n",
      " [ 5.1  8.2 11.   6.3  5.1  8.2 11.   6.3]]\n"
     ]
    }
   ],
   "source": [
    "print(\"第一维度叠加：\\n\", np.concatenate([all_tests, all_tests], axis=0))\n",
    "print(\"第二维度叠加：\\n\", np.concatenate([all_tests, all_tests], axis=1))"
   ]
  },
  {
   "attachments": {
    "image.png": {
     "image/png": "[encoded data removed]"
    }
   },
   "cell_type": "markdown",
   "id": "7a5a5168",
   "metadata": {},
   "source": [
    "这里其实是一个 Numpy Array 合并的概念。只要维度能够对齐，你可以在任意维度上进行合并操作。注意，有些数据维度是对不齐的，这样没办法合并。比如：\n",
    "![image.png](attachment:image.png)"
   ]
  },
  {
   "cell_type": "code",
   "execution_count": 7,
   "id": "c82b94d4",
   "metadata": {},
   "outputs": [
    {
     "name": "stdout",
     "output_type": "stream",
     "text": [
      "[[ 1  2  3  7  8]\n",
      " [ 4  5  6  9 10]]\n"
     ]
    }
   ],
   "source": [
    "a = np.array([\n",
    "[1,2,3],\n",
    "[4,5,6]\n",
    "])\n",
    "b = np.array([\n",
    "[7,8],\n",
    "[9,10]\n",
    "])\n",
    "\n",
    "print(np.concatenate([a,b], axis=1))  # 这个没问题\n",
    "# print(np.concatenate([a,b], axis=0))  # 这个会报错"
   ]
  },
  {
   "attachments": {
    "image.png": {
     "image/png": "[encoded data removed]"
    }
   },
   "cell_type": "markdown",
   "id": "7ab5da18",
   "metadata": {},
   "source": [
    "除了 np.concatenate()，还有两个比较好用的在二维数据上可以方便调用的功能，分别是 np.vstack(), np.hstack().\n",
    "\n",
    "可以将数据横向合并：\n",
    "![image.png](attachment:image.png)"
   ]
  },
  {
   "attachments": {
    "image.png": {
     "image/png": "[encoded data removed]"
    }
   },
   "cell_type": "markdown",
   "id": "7bcaa98e",
   "metadata": {},
   "source": [
    "也可以将数据竖向合并：\n",
    "![image.png](attachment:image.png)"
   ]
  },
  {
   "cell_type": "code",
   "execution_count": 8,
   "id": "267b79ea",
   "metadata": {},
   "outputs": [
    {
     "name": "stdout",
     "output_type": "stream",
     "text": [
      "竖直合并\n",
      " [[1 2]\n",
      " [3 4]\n",
      " [5 6]\n",
      " [7 8]]\n",
      "水平合并\n",
      " [[1 2 5 6]\n",
      " [3 4 7 8]]\n"
     ]
    }
   ],
   "source": [
    "a = np.array([\n",
    "[1,2],\n",
    "[3,4]\n",
    "])\n",
    "b = np.array([\n",
    "[5,6],\n",
    "[7,8]\n",
    "])\n",
    "print(\"竖直合并\\n\", np.vstack([a, b]))\n",
    "print(\"水平合并\\n\", np.hstack([a, b]))"
   ]
  },
  {
   "cell_type": "markdown",
   "id": "82d5fe41",
   "metadata": {},
   "source": [
    "### 观察形态\n",
    "除了 np.ndim 来查看数据的形态，其实我们有时候还想更加了解数据的细节问题，比如这个数据的大小，规格。方便我们管理这些数据。\n",
    "\n",
    "比如当我想知道到底有多少车辆测试数据时，你可能会通过遍历的方法来计数。"
   ]
  },
  {
   "cell_type": "code",
   "execution_count": 9,
   "id": "cd1194b8",
   "metadata": {},
   "outputs": [
    {
     "name": "stdout",
     "output_type": "stream",
     "text": [
      "总共多少测试数据： 12\n"
     ]
    }
   ],
   "source": [
    "cars = np.array([\n",
    "[5, 10, 12, 6],\n",
    "[5.1, 8.2, 11, 6.3],\n",
    "[4.4, 9.1, 10, 6.6]\n",
    "])\n",
    "\n",
    "count = 0\n",
    "for i in range(len(cars)):\n",
    "    for j in range(len(cars[i])):\n",
    "        count += 1\n",
    "print(\"总共多少测试数据：\", count)    "
   ]
  },
  {
   "cell_type": "markdown",
   "id": "b5973439",
   "metadata": {},
   "source": [
    "你看上面写的多麻烦。其实 Numpy 还有更好用的方式获取总个数。看看使用 cars.size"
   ]
  },
  {
   "cell_type": "code",
   "execution_count": 10,
   "id": "6f6fb3e8",
   "metadata": {},
   "outputs": [
    {
     "name": "stdout",
     "output_type": "stream",
     "text": [
      "总共多少测试数据： 12\n"
     ]
    }
   ],
   "source": [
    "print(\"总共多少测试数据：\", cars.size)"
   ]
  },
  {
   "cell_type": "markdown",
   "id": "d8e7e2b4",
   "metadata": {},
   "source": [
    "更进一步，我不光想知道总数据，我还想知道当前有多少次测试（第一个维度，行），和在多少辆车上测试了（第二个维度，列）。怎么办？"
   ]
  },
  {
   "cell_type": "code",
   "execution_count": 11,
   "id": "c2dd2de5",
   "metadata": {},
   "outputs": [
    {
     "name": "stdout",
     "output_type": "stream",
     "text": [
      "第一个维度： 3\n",
      "第二个维度： 4\n",
      "所有维度： (3, 4)\n"
     ]
    }
   ],
   "source": [
    "print(\"第一个维度：\", cars.shape[0])\n",
    "print(\"第二个维度：\", cars.shape[1])\n",
    "print(\"所有维度：\", cars.shape)"
   ]
  },
  {
   "cell_type": "markdown",
   "id": "f81285eb",
   "metadata": {},
   "source": [
    "### 总结\n",
    "数据是多样的，有时候会跨越很多个维度。所以理解维度，理解形态对于科学计算中，数据的理解，都是十分重要的。"
   ]
  },
  {
   "cell_type": "code",
   "execution_count": null,
   "id": "70478a1a",
   "metadata": {},
   "outputs": [],
   "source": []
  }
 ],
 "metadata": {
  "kernelspec": {
   "display_name": "Python 3",
   "language": "python",
   "name": "python3"
  },
  "language_info": {
   "codemirror_mode": {
    "name": "ipython",
    "version": 3
   },
   "file_extension": ".py",
   "mimetype": "text/x-python",
   "name": "python",
   "nbconvert_exporter": "python",
   "pygments_lexer": "ipython3",
   "version": "3.6.13"
  }
 },
 "nbformat": 4,
 "nbformat_minor": 5
}
