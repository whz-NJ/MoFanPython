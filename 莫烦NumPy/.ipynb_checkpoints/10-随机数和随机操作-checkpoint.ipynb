{
 "cells": [
  {
   "cell_type": "markdown",
   "id": "a55fa032",
   "metadata": {},
   "source": [
    "计算机能模拟随机，是一件十分重要的事。因为计算机本来是一种执行确定步骤，返回确定结果的机器。但是你想要它模拟随机，就得有一些特殊处理。 好在 Python 自己有专门处理随机的功能。而 Numpy 作为 Python 的网红库，当然也自带了很丰富的随机功能。比如各式随机数的生成方式， 随机化当前数列等。甚至你还能加随机，复现一些随机后的结果。"
   ]
  },
  {
   "cell_type": "markdown",
   "id": "687150f2",
   "metadata": {},
   "source": [
    "### 多种随机数生成\n",
    "提到随机，首先我们想到的当然是生成一批随机数，对这批随机数做计算啦。在深度学习中，这是一件非常重要的事，比如你常会随机生成神经网络的权重，生成遗传算法中的基因序列等等。\n",
    "\n",
    "假设现在没有 Numpy，我们当然也能用 Python 自带的 random 来解决，但是效率会低不少。 用 Python 自带的 random，大概是怎么用的呢？"
   ]
  },
  {
   "cell_type": "code",
   "execution_count": 1,
   "id": "a1e5c5c7",
   "metadata": {},
   "outputs": [
    {
     "name": "stdout",
     "output_type": "stream",
     "text": [
      "0.3791686397133587\n",
      "1\n"
     ]
    }
   ],
   "source": [
    "import random\n",
    "print(random.random())\n",
    "print(random.randint(1, 10))"
   ]
  },
  {
   "cell_type": "markdown",
   "id": "4c0822ba",
   "metadata": {},
   "source": [
    "Python 的 random 没有考虑数组类型的高效数据结构，所以我们在 array 类型的数据结构时，更喜欢直接用 Numpy 来生成。"
   ]
  },
  {
   "cell_type": "code",
   "execution_count": 3,
   "id": "e7f35fa4",
   "metadata": {},
   "outputs": [
    {
     "name": "stdout",
     "output_type": "stream",
     "text": [
      "[[0.73723342 0.18349068]\n",
      " [0.61817083 0.55665922]\n",
      " [0.46461058 0.16119048]]\n"
     ]
    }
   ],
   "source": [
    "import numpy as np\n",
    "# 随机生成 [0, 1) 之间的数\n",
    "dim1, dim2 = 3, 2\n",
    "print(np.random.rand(dim1, dim2)) # 你还能继续添加 dim3 或更多"
   ]
  },
  {
   "cell_type": "markdown",
   "id": "e029af7a",
   "metadata": {},
   "source": [
    "np.random.rand() 是一种最方便去生成带 shape 的 [0, 1) 之间取值的 Array。实现同一个目的的还有这样一种写法，功能上没差别，但是就是看你个人习惯了， np.random.random() 用它就是直接传一个 shape 进去。"
   ]
  },
  {
   "cell_type": "code",
   "execution_count": 4,
   "id": "5e685b63",
   "metadata": {},
   "outputs": [
    {
     "name": "stdout",
     "output_type": "stream",
     "text": [
      "[[0.8833674  0.85696428]\n",
      " [0.77308585 0.74242928]\n",
      " [0.49980799 0.98942041]]\n"
     ]
    }
   ],
   "source": [
    "print(np.random.random([dim1, dim2]))"
   ]
  },
  {
   "cell_type": "markdown",
   "id": "55e29feb",
   "metadata": {},
   "source": [
    "那除了生成 [0, 1) 之间的随机数，Numpy 还可以生成其他数值，或使用其他生成规则。比如按照标准正态分布去生成。（啥，不想标准正态分布，想要搞点特殊的？后面我接着介绍，客官不急）"
   ]
  },
  {
   "cell_type": "code",
   "execution_count": 5,
   "id": "5896a9d9",
   "metadata": {},
   "outputs": [
    {
     "name": "stdout",
     "output_type": "stream",
     "text": [
      "[[-0.28524471 -0.13526071]\n",
      " [-1.09578722  0.20112336]\n",
      " [ 2.44163386  0.10420548]]\n"
     ]
    }
   ],
   "source": [
    "print(np.random.randn(dim1, dim2))"
   ]
  },
  {
   "cell_type": "markdown",
   "id": "775c6116",
   "metadata": {},
   "source": [
    "上面都是一些小数的生成，我想生成随机整数呢？那就要用到 np.random.randint()"
   ]
  },
  {
   "cell_type": "code",
   "execution_count": 6,
   "id": "cd04e2e3",
   "metadata": {},
   "outputs": [
    {
     "name": "stdout",
     "output_type": "stream",
     "text": [
      "[-2 -3  5 -1  0  2 -3  1 -1 -1]\n"
     ]
    }
   ],
   "source": [
    "print(np.random.randint(low=-3, high=6, size=10))"
   ]
  },
  {
   "cell_type": "markdown",
   "id": "2a5b88d9",
   "metadata": {},
   "source": [
    "### 给你施加随机\n",
    "我们已经可以自动生成一批随机数啦，但是 Numpy 的好用功能可不止有这么一些简单的生成功能哦。它还可以对已有的数据做随机化处理。 比如我想随机从一组数据中选择，我就可以用 np.random.choice()。我之前在做遗传算法的时候, 做基因重组配对，就需要经常使用到这个函数。"
   ]
  },
  {
   "cell_type": "code",
   "execution_count": 8,
   "id": "e623aee0",
   "metadata": {},
   "outputs": [
    {
     "name": "stdout",
     "output_type": "stream",
     "text": [
      "选一个： 2\n",
      "选多个： [3 4 2]\n",
      "不重复地选多个(不放回)： [4 2 3]\n",
      "带权重地选择： [6 4 6 6 6 4 6 6 6 6]\n"
     ]
    }
   ],
   "source": [
    "data = np.array([2,1,3,4,6])\n",
    "print(\"选一个：\", np.random.choice(data))\n",
    "print(\"选多个：\", np.random.choice(data, size=3))\n",
    "print(\"不重复地选多个(不放回)：\", np.random.choice(data, size=3, replace=False)) #不回放，表示不会重复取\n",
    "print(\"带权重地选择：\", np.random.choice(data, size=10, p=[0,0,0,0.2,0.8]))"
   ]
  },
  {
   "cell_type": "markdown",
   "id": "e94fa1f5",
   "metadata": {},
   "source": [
    "没骗你吧，这个功能好用吧。我真的是很常会用到 choice 这个功能。而在机器学习中，你也许会经常在 epoch 迭代训练数据的时候，碰到 shuffle 的概念。 如果你在机器学习中没弄懂没关系，这里给你补充一下。Numpy 里也有 np.random.shuffle() 的功能，就是用来洗牌的。 注意，它会将源数据洗牌重新排列，如果你想保留源数据的话，记得 np.copy(data) 备份一下"
   ]
  },
  {
   "cell_type": "code",
   "execution_count": 9,
   "id": "b22315fe",
   "metadata": {},
   "outputs": [
    {
     "name": "stdout",
     "output_type": "stream",
     "text": [
      "源数据： [2 1 3 4 6]\n",
      "shuffled: [1 4 6 2 3]\n"
     ]
    }
   ],
   "source": [
    "data_copy = np.copy(data)\n",
    "np.random.shuffle(data)\n",
    "print(\"源数据：\", data_copy)\n",
    "print(\"shuffled:\", data)"
   ]
  },
  {
   "cell_type": "markdown",
   "id": "4380ca15",
   "metadata": {},
   "source": [
    "还有一个功能，np.random.permutation(), 它实现的是 np.random.shuffle() 的一种特殊形式。可以说是一种简单处理特殊情况的功能。 它有两个方便之处，1. 直接生成乱序的序列号，2. 对数据乱序。\n",
    "\n",
    "而且相比 np.random.shuffle()，permutation 有一个好处，就是可以返回一个新数据，对原本的数据没有影响。而且还可以处理多维数据。"
   ]
  },
  {
   "cell_type": "code",
   "execution_count": 10,
   "id": "1fd747eb",
   "metadata": {},
   "outputs": [
    {
     "name": "stdout",
     "output_type": "stream",
     "text": [
      "直接出乱序序列： [3 8 1 2 6 9 0 5 7 4]\n",
      "多维数据在第一维度上乱序： [[ 2  3]\n",
      " [ 8  9]\n",
      " [ 0  1]\n",
      " [ 6  7]\n",
      " [10 11]\n",
      " [ 4  5]]\n"
     ]
    }
   ],
   "source": [
    "print(\"直接出乱序序列：\", np.random.permutation(10))\n",
    "data = np.arange(12).reshape([6,2])\n",
    "print(\"多维数据在第一维度上乱序：\", np.random.permutation(data))"
   ]
  },
  {
   "cell_type": "markdown",
   "id": "462681cc",
   "metadata": {},
   "source": [
    "### 随机分布\n",
    "对于统计学或者机器学习，我们在生成数据的时候，有时需要按照特定的统计学分布来生成，比如需要一个正态分布的抽样数据，或者均匀分布的数据抽样结果。 又或者是其他更高级的，比如泊松分布等等，都可以用 Numpy 来实现。这里我们只介绍一下在机器学习中比较常用的 正态分布 和 均匀分布。"
   ]
  },
  {
   "cell_type": "code",
   "execution_count": 11,
   "id": "3e4b1a7f",
   "metadata": {},
   "outputs": [
    {
     "name": "stdout",
     "output_type": "stream",
     "text": [
      "正态分布： [0.7926883  0.93792537 0.89441594 0.8025301  0.66036528 1.05862366\n",
      " 0.74121155 1.02156373 1.00769648 1.00445488]\n",
      "均匀分布： [-0.13676353  0.61554992  0.6593488   0.30483549  0.58549914 -0.87948672\n",
      " -0.60418379 -0.31349342 -0.70208544 -0.7775103 ]\n"
     ]
    }
   ],
   "source": [
    "# (均值，方差，size)\n",
    "print(\"正态分布：\", np.random.normal(1, 0.2, 10))\n",
    "\n",
    "# (最低，最高，size)\n",
    "print(\"均匀分布：\", np.random.uniform(-1, 1, 10))"
   ]
  },
  {
   "cell_type": "markdown",
   "id": "9eee026b",
   "metadata": {},
   "source": [
    "### 随机种子的重要性\n",
    "在机器学习中，我们要对比两种随机初始化模型的优劣，或者在强化学习中要固定随机环境的随机序列，用于复现当前配置的情况，我们通常要做的事情就是伪随机。 简单说，就是每次都是一组随机，但是我可以后续再完整运行一遍一模一样的随机效果。比如生成两遍一模一样的随机序列。\n",
    "\n",
    "为了达到这个目的，我们要了解 Numpy 中的 random seed 概念，随机种子。当我们把种子固定的时候（用一个数字），同一个种子（数字）产生的随机序列就会一样。"
   ]
  },
  {
   "cell_type": "code",
   "execution_count": 12,
   "id": "9457f666",
   "metadata": {},
   "outputs": [
    {
     "name": "stdout",
     "output_type": "stream",
     "text": [
      "[7 5 6]\n",
      "[2 9 3]\n"
     ]
    }
   ],
   "source": [
    "# seed(1) 代表的就是 1 号随机序列\n",
    "np.random.seed(1)\n",
    "print(np.random.randint(2, 10, size=3))\n",
    "print(np.random.randint(2, 10, size=3))"
   ]
  },
  {
   "cell_type": "markdown",
   "id": "0d7b6a0f",
   "metadata": {},
   "source": [
    "无论你运行多少次上门的代码，你看到的随机结果，都是同一种结果。当你想改变随机种子的时候，可以在 seed() 中传入不同的数字。\n",
    "\n",
    "有时候我还会这么用，在同一次执行代码时，重新设定种子，让随机在同一次执行中复现。"
   ]
  },
  {
   "cell_type": "code",
   "execution_count": 13,
   "id": "5d8e3dd2",
   "metadata": {},
   "outputs": [
    {
     "name": "stdout",
     "output_type": "stream",
     "text": [
      "[2 9 7]\n",
      "[2 9 7]\n"
     ]
    }
   ],
   "source": [
    "np.random.seed(2)\n",
    "print(np.random.randint(2, 10, size=3))\n",
    "np.random.seed(2)\n",
    "print(np.random.randint(2, 10, size=3))"
   ]
  },
  {
   "cell_type": "markdown",
   "id": "64ea2a5a",
   "metadata": {},
   "source": [
    "所以同一份代码，这两次运行，都会是一样的结果。\n",
    "### 总结\n",
    "随机很有趣吧，你不光可以利用 Numpy 来创建很多种不同的随机数，还能对数据做随机化处理，甚至还能当上帝，控制计算机的随机过程（seed），让电脑可以复现你的随机过程。"
   ]
  },
  {
   "cell_type": "code",
   "execution_count": null,
   "id": "017f1f97",
   "metadata": {},
   "outputs": [],
   "source": []
  }
 ],
 "metadata": {
  "kernelspec": {
   "display_name": "Python 3",
   "language": "python",
   "name": "python3"
  },
  "language_info": {
   "codemirror_mode": {
    "name": "ipython",
    "version": 3
   },
   "file_extension": ".py",
   "mimetype": "text/x-python",
   "name": "python",
   "nbconvert_exporter": "python",
   "pygments_lexer": "ipython3",
   "version": "3.6.13"
  }
 },
 "nbformat": 4,
 "nbformat_minor": 5
}
