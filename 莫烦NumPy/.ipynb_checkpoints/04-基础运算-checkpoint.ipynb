{
 "cells": [
  {
   "cell_type": "markdown",
   "id": "124adafd",
   "metadata": {},
   "source": [
    "既然 Numpy 是一个科学计算的模块，那么必定最牛逼的就是它的计算能力和多样的计算功能。 对于一个 Python 中数学运算的怪兽，Numpy 合理运用了 C 语言的能力，将 Python 的易用性和 C 的高效完美结合。"
   ]
  },
  {
   "cell_type": "markdown",
   "id": "f10ee134",
   "metadata": {},
   "source": [
    "### 加减乘除\n",
    "在 Numpy 中进行加减乘除可比 List 有效率多了，为什么这么说？Numpy 可以让在 Array 中的每一个元素都快速计算，甚至有时候还可以帮你自动并行运算。 比如你要为一个列表中的每个元素都加上一个值，比如收集了一批学生的身高，一年后，大家都长高了 3cm。"
   ]
  },
  {
   "cell_type": "code",
   "execution_count": 1,
   "id": "b09999ae",
   "metadata": {},
   "outputs": [
    {
     "name": "stdout",
     "output_type": "stream",
     "text": [
      "[153, 169, 186, 173]\n"
     ]
    }
   ],
   "source": [
    "l = [150, 166, 183, 170]\n",
    "for i in range(len(l)):\n",
    "    l[i] += 3\n",
    "print(l)"
   ]
  },
  {
   "cell_type": "markdown",
   "id": "0ed8ef58",
   "metadata": {},
   "source": [
    "用列表你需要使用到一个循环，或者是一个map函数来帮你实现这个功能。"
   ]
  },
  {
   "cell_type": "code",
   "execution_count": 2,
   "id": "2fe81488",
   "metadata": {},
   "outputs": [
    {
     "name": "stdout",
     "output_type": "stream",
     "text": [
      "[153, 169, 186, 173]\n"
     ]
    }
   ],
   "source": [
    "print(list(map(lambda x: x+3, [150, 166, 183, 170])))"
   ]
  },
  {
   "cell_type": "markdown",
   "id": "0af5dcbc",
   "metadata": {},
   "source": [
    "看似 map 也挺试用的，不过一般来说，这个写法还是比较复杂的。如果我们用 Numpy 的方式来实现，怎么搞？"
   ]
  },
  {
   "cell_type": "code",
   "execution_count": 3,
   "id": "99c74bf7",
   "metadata": {},
   "outputs": [
    {
     "name": "stdout",
     "output_type": "stream",
     "text": [
      "[153 169 186 173]\n"
     ]
    }
   ],
   "source": [
    "import numpy as np\n",
    "\n",
    "a = np.array([150, 166, 183, 170])\n",
    "print(a + 3)"
   ]
  },
  {
   "cell_type": "markdown",
   "id": "a670ad17",
   "metadata": {},
   "source": [
    "Numpy 是可以批量进行计算的，只需要简单的 +-*/，就能进行全元素的运算，也就是向量化运算。同理，我们也可以进行其他符号的批量运算。"
   ]
  },
  {
   "cell_type": "code",
   "execution_count": 4,
   "id": "d6a1047a",
   "metadata": {},
   "outputs": [
    {
     "name": "stdout",
     "output_type": "stream",
     "text": [
      "a + 3: [153 169 186 173]\n",
      "a - 3: [147 163 180 167]\n",
      "a * 3: [450 498 549 510]\n",
      "a / 3: [50.         55.33333333 61.         56.66666667]\n"
     ]
    }
   ],
   "source": [
    "print(\"a + 3:\", a + 3)\n",
    "print(\"a - 3:\", a - 3)\n",
    "print(\"a * 3:\", a * 3)\n",
    "print(\"a / 3:\", a / 3)"
   ]
  },
  {
   "attachments": {
    "image.png": {
     "image/png": "[encoded data removed]"
    }
   },
   "cell_type": "markdown",
   "id": "629bbf98",
   "metadata": {},
   "source": [
    "在科学运算，机器学习中。矩阵运算毋庸置疑十分重要， 我们在之后的小练习中也会着重体验到重要性。 下面我来介绍在机器学习中最常用的矩阵点积运算。\n",
    "![image.png](attachment:image.png)"
   ]
  },
  {
   "cell_type": "code",
   "execution_count": 5,
   "id": "02508c56",
   "metadata": {},
   "outputs": [
    {
     "name": "stdout",
     "output_type": "stream",
     "text": [
      "[[19 22]\n",
      " [43 50]]\n",
      "[[19 22]\n",
      " [43 50]]\n"
     ]
    }
   ],
   "source": [
    "a = np.array([\n",
    "[1, 2],\n",
    "[3, 4]\n",
    "])\n",
    "b = np.array([\n",
    "[5, 6],\n",
    "[7, 8]\n",
    "])\n",
    "\n",
    "print(a.dot(b))\n",
    "print(np.dot(a, b))"
   ]
  },
  {
   "cell_type": "markdown",
   "id": "282fcb5d",
   "metadata": {},
   "source": [
    "从上面可以看出，你有两种写法。1）直接用一个矩阵 dot 另一个；2）用 np.dot(a, b) 把两个矩阵包起来。 因为 莫烦Python 有很多 AI 的内容，所以我分享的时候，就偏向于往 AI 方向带啦，见谅啦。\n",
    "\n",
    "当然，矩阵还有很多其他的计算，比如 np.outer() 矩阵外积，np.inner() 矩阵内积 （和 np.dot() 的用法稍稍有些不同，你可以理解成 np.dot(a, b）= np.inner(a, b.T), 把 b 做一次转置）。\n",
    "\n",
    "### 数据统计分析"
   ]
  },
  {
   "cell_type": "markdown",
   "id": "ee40580b",
   "metadata": {},
   "source": [
    "用 Numpy 做数据分析理所应当，但是如果数据的种类多样的话，我还是比较推荐用 Pandas 来做分析的，后面我们也会进入交互式的 Pandas 教学. 不过，就我个人经验，在数据量比较大的时候，我更喜欢直接 Numpy 来搞，因为 Numpy 的速度还是要比 Pandas 快上不少。\n",
    "\n",
    "那么什么是数据分析呢？其实也就是在数据中找到你想要的一些变量，总结数据的规律。最简单的当属找到最大值最小值了。 比如上面的身高数据，你想找全班最高和最矮的。"
   ]
  },
  {
   "cell_type": "code",
   "execution_count": 2,
   "id": "7e54d70d",
   "metadata": {},
   "outputs": [
    {
     "name": "stdout",
     "output_type": "stream",
     "text": [
      "最大： 183\n",
      "最小： 150\n"
     ]
    }
   ],
   "source": [
    "import numpy as np\n",
    "a = np.array([150, 166, 183, 170])\n",
    "print(\"最大：\", np.max(a))\n",
    "print(\"最小：\", a.min())"
   ]
  },
  {
   "cell_type": "markdown",
   "id": "8fb4035d",
   "metadata": {},
   "source": [
    "这里也有两种方法可以获取到最大最小，只是不同的写法罢了，你习惯用哪个就用哪个好了。\n",
    "\n",
    "np.max(a), np.min(a)\n",
    "a.max(), a.min()\n",
    "当有一天，你有个躺尸的活动，要计算每个人躺下来头尾相连，有多长，我们怎么算？当然就是累加啦。"
   ]
  },
  {
   "cell_type": "code",
   "execution_count": 4,
   "id": "066d3c79",
   "metadata": {},
   "outputs": [
    {
     "name": "stdout",
     "output_type": "stream",
     "text": [
      "669\n"
     ]
    }
   ],
   "source": [
    "print(a.sum())"
   ]
  },
  {
   "cell_type": "markdown",
   "id": "3d4e6356",
   "metadata": {},
   "source": [
    "还有一个，累乘的计算，这个我不好做比喻，但是你肯定能在生活中找到一些需要累乘的例子的。 我还想一同介绍的是一个计数的函数，这个用来统计总共有多少人。"
   ]
  },
  {
   "cell_type": "code",
   "execution_count": 5,
   "id": "3ef5b8b8",
   "metadata": {},
   "outputs": [
    {
     "name": "stdout",
     "output_type": "stream",
     "text": [
      "累乘： 774639000\n",
      "总数： 4\n",
      "非零总数： 3\n"
     ]
    }
   ],
   "source": [
    "a = np.array([150, 166, 183, 170])\n",
    "print(\"累乘：\", a.prod())\n",
    "print(\"总数：\", a.size)   \n",
    "                 \n",
    "a = np.array([0, 1, 2, 3])\n",
    "print(\"非零总数：\", np.count_nonzero(a))"
   ]
  },
  {
   "cell_type": "markdown",
   "id": "b2e57701",
   "metadata": {},
   "source": [
    "在统计学中，我们常会有两个概念，均值，中位数。算算你公司的平均工资是多少？不算不知道，一算吓一跳， 我们公司，因为有一个工资很高的人，平均工资是 4.82w，哈哈哈，我也被平均了。 但是这时候，为了更准确看到普通民众的薪资水平，最好还是用中位数（1.2w）更可靠。"
   ]
  },
  {
   "cell_type": "code",
   "execution_count": 6,
   "id": "ce030f9e",
   "metadata": {},
   "outputs": [
    {
     "name": "stdout",
     "output_type": "stream",
     "text": [
      "平均工资： 4.82\n",
      "工资中位数： 1.2\n"
     ]
    }
   ],
   "source": [
    "month_salary = [1.2, 20, 0.5, 0.3, 2.1]\n",
    "print(\"平均工资：\", np.mean(month_salary))\n",
    "print(\"工资中位数：\", np.median(month_salary))"
   ]
  },
  {
   "cell_type": "markdown",
   "id": "89501de7",
   "metadata": {},
   "source": [
    "在统计数据分布的时候，还有一个值也比较重要，standard deviation 标准差，用来描述正态分布。 这个在机器学习中，特别是深度神经网络中也非常重要，特别用于权重的生成原则。"
   ]
  },
  {
   "cell_type": "code",
   "execution_count": 7,
   "id": "dc9fa254",
   "metadata": {},
   "outputs": [
    {
     "name": "stdout",
     "output_type": "stream",
     "text": [
      "标准差： 7.61614075500184\n"
     ]
    }
   ],
   "source": [
    "month_salary = [1.2, 20, 0.5, 0.3, 2.1]\n",
    "print(\"标准差：\", np.std(month_salary))"
   ]
  },
  {
   "cell_type": "markdown",
   "id": "8f10f76c",
   "metadata": {},
   "source": [
    "### 特殊运算符号\n",
    "还有一些有的没的，时不时会用上的功能，我在这里给大家介绍 4 个，但是除了这 4 个，当你需要更多能力的时候， 建议你直接搜索对应的功能。现在给你看太多，多一段时间，你也很难回忆的起来。\n",
    "\n",
    "有的时候，其实你不关心 np.max() 或者 np.min() 的数值是多少，而是关心这个数值的序号， 比如还是那个身高的例子，我找到了最高身高，其实我是想对应上人的。用 np.argmax() 和 np.argmin() 就能搞定。"
   ]
  },
  {
   "cell_type": "code",
   "execution_count": 8,
   "id": "5b09cb5c",
   "metadata": {},
   "outputs": [
    {
     "name": "stdout",
     "output_type": "stream",
     "text": [
      "Huawei 最高\n",
      "小米 最矮\n"
     ]
    }
   ],
   "source": [
    "a = np.array([150, 166, 183, 170])\n",
    "name = [\"小米\", \"OPPO\", \"Huawei\", \"诺基亚\"]\n",
    "high_idx = np.argmax(a)\n",
    "low_idx = np.argmin(a)\n",
    "print(\"{} 最高\".format(name[high_idx]))\n",
    "print(\"{} 最矮\".format(name[low_idx]))\n"
   ]
  },
  {
   "cell_type": "markdown",
   "id": "35e8f75c",
   "metadata": {},
   "source": [
    "另外一个时不时会用到的功能是，取天花板的值还是地板的值，这个在 AI 算法中也比较常见， 比如我要对其做取整处理，抹除小数部分。"
   ]
  },
  {
   "cell_type": "code",
   "execution_count": 9,
   "id": "e1fa7b1b",
   "metadata": {},
   "outputs": [
    {
     "name": "stdout",
     "output_type": "stream",
     "text": [
      "ceil: [151. 167. 184. 171.]\n",
      "floor: [150. 166. 183. 170.]\n"
     ]
    }
   ],
   "source": [
    "a = np.array([150.1, 166.4, 183.7, 170.8])\n",
    "print(\"ceil:\", np.ceil(a))\n",
    "print(\"floor:\", np.floor(a))"
   ]
  },
  {
   "cell_type": "markdown",
   "id": "6a2e1ed5",
   "metadata": {},
   "source": [
    "那我如果还有更自由的取值截取空间时咋办？我可以用 np.clip() 来做上下界限的值截取。"
   ]
  },
  {
   "cell_type": "code",
   "execution_count": 10,
   "id": "cbf7b0e1",
   "metadata": {},
   "outputs": [
    {
     "name": "stdout",
     "output_type": "stream",
     "text": [
      "clip: [160.  166.4 180.  170.8]\n"
     ]
    }
   ],
   "source": [
    "a = np.array([150.1, 166.4, 183.7, 170.8])\n",
    "print(\"clip:\", a.clip(160, 180))"
   ]
  },
  {
   "cell_type": "markdown",
   "id": "e054e0b6",
   "metadata": {},
   "source": [
    "### 总结\n",
    "其实 Numpy 中做数据运算的功能，比我这里列举的要多很多，我只是列举了一些我在数据分析和人工智能算法中，经常会使用到的一些功能。 还有更多的功能，可以在他的官方网站（https://numpy.org/devdocs/user/quickstart.html#basic-operations ）查找哦。"
   ]
  },
  {
   "cell_type": "code",
   "execution_count": null,
   "id": "91236c7a",
   "metadata": {},
   "outputs": [],
   "source": []
  }
 ],
 "metadata": {
  "kernelspec": {
   "display_name": "Python 3",
   "language": "python",
   "name": "python3"
  },
  "language_info": {
   "codemirror_mode": {
    "name": "ipython",
    "version": 3
   },
   "file_extension": ".py",
   "mimetype": "text/x-python",
   "name": "python",
   "nbconvert_exporter": "python",
   "pygments_lexer": "ipython3",
   "version": "3.6.13"
  }
 },
 "nbformat": 4,
 "nbformat_minor": 5
}
