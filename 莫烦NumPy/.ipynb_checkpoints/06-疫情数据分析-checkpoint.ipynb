{
 "cells": [
  {
   "cell_type": "markdown",
   "id": "1cfc4124",
   "metadata": {},
   "source": [
    "根据我们之前学习的内容，我们今天就来做些有趣的数据分析。 用小项目来带动真实的 Numpy 运用过程。\n",
    "\n",
    "20年开始的新冠肺炎席卷全球，我们能从肺炎数据中发现什么规律呢？我提前给你准备了从 2020 年 1 月 22 日到 2020 年 7 月 27 日的数据。"
   ]
  },
  {
   "cell_type": "markdown",
   "id": "ef1d081b",
   "metadata": {},
   "source": [
    "### 数据一览\n",
    "这份数据是 Kaggle 上的公开数据集( https://www.kaggle.com/imdevskp/corona-virus-report/version/166 )， 我已经提前给你准备好了，你在下面的代码编辑框中，可以通过 covid[\"data\"] 和 covid[\"header\"] 获取到这些数据的信息。"
   ]
  },
  {
   "cell_type": "code",
   "execution_count": null,
   "id": "169bf11d",
   "metadata": {},
   "outputs": [],
   "source": [
    "# 数据标题\n",
    "covid[\"header\"]\n",
    "# 数据\n",
    "print(covid[\"data\"][:5]) # 数据太多了，我先打 5 行\n",
    "# print(covid[\"data\"]) # 如果你实在想看全部，就执行这一行\n",
    "# 日期数据\n",
    "print(covid[\"date\"][:5]) # 数据太多了，我先打 5 行\n",
    "# print(covid[\"date\"]) # 如果你实在想看全部，就执行这一行"
   ]
  },
  {
   "cell_type": "markdown",
   "id": "a394631c",
   "metadata": {},
   "source": [
    "如果你不方便下载，我这里也有一份同样的，有兴趣你可以自己下载下来 ，用下面的代码在你本地加载数据。"
   ]
  },
  {
   "cell_type": "code",
   "execution_count": 1,
   "id": "41c0afb8",
   "metadata": {},
   "outputs": [],
   "source": [
    "with open(r\"C:\\工作任务\\AIUI\\培训\\莫烦NumPy\\archive\\day_wise.csv\", \"r\", encoding=\"utf-8\") as f:\n",
    "    data = f.readlines()\n",
    "\n",
    "covid = {\n",
    "    \"date\": [],\n",
    "    \"data\": [],\n",
    "    \"header\": [h for h in data[0].strip().split(\",\")[1:]]\n",
    "} # covid 有3个字段：date/data/header\n",
    "for row in data[1:]:\n",
    "    split_row = row.strip().split(\",\")\n",
    "    covid[\"date\"].append(split_row[0])\n",
    "    covid[\"data\"].append([float(n) for n in split_row[1:]]) #以float形式存储\n"
   ]
  },
  {
   "cell_type": "markdown",
   "id": "d9b9ccb3",
   "metadata": {},
   "source": [
    "了解了数据的大概样子，那么来使用你所学到的 Numpy 技能，我们来分析下面这几个问题。\n",
    "\n",
    "获取 2020 年 2 月 3 日的所有数据\n",
    "2020 年 1 月 24 日之前的累积确诊病例有多少个？\n",
    "2020 年 7 月 23 日的新增死亡数是多少？\n",
    "从 1 月 25 日到 7 月 22 日，一共增长了多少确诊病例？\n",
    "每天新增确诊数和新恢复数的比例？平均比例，标准差各是多少？\n",
    "画图展示新增确诊的变化曲线\n",
    "画图展示死亡率的变化曲线"
   ]
  },
  {
   "cell_type": "markdown",
   "id": "0c96ac36",
   "metadata": {},
   "source": [
    "### 某日所有数据\n",
    "#### 获取 2020 年 2 月 3 日的所有数据\n",
    "\n",
    "这个理解起来比较简单，但是在使用 Numpy 获取到特定数据的时候，我们得搞清楚数据的索引是什么。在 Numpy 中，我们用来索引的大概率是数字， 所以我们得搞清楚对应的数字标号是什么。因为我在为你准备的 covid 数据中，把日期和标题都用 Python 列表给你装起来了，你可以通过列表的 .index(\"xxx\") 功能来获取到它的索引。\n",
    "\n",
    "我们需要思考的是：找到这一天对应的索引。还好我已经把日期都用列表给存储起来了。我们看看日期的存储方式。 将日期转换成 date_idx 之后，我们就能用这个 index 来获取到那一天的全部数据了。"
   ]
  },
  {
   "cell_type": "code",
   "execution_count": 2,
   "id": "9cee69b4",
   "metadata": {},
   "outputs": [
    {
     "name": "stdout",
     "output_type": "stream",
     "text": [
      "日期列表摘取： ['2020-01-22', '2020-01-23', '2020-01-24', '2020-01-25']\n",
      "日期->索引转换： 12\n",
      "Confirmed : 19887.0\n",
      "Deaths : 426.0\n",
      "Recovered : 604.0\n",
      "Active : 18857.0\n",
      "New cases : 3100.0\n",
      "New deaths : 64.0\n",
      "New recovered : 145.0\n",
      "Deaths / 100 Cases : 2.14\n",
      "Recovered / 100 Cases : 3.04\n",
      "Deaths / 100 Recovered : 70.53\n",
      "No. of countries : 25.0\n"
     ]
    }
   ],
   "source": [
    "print(\"日期列表摘取：\", covid[\"date\"][:4])\n",
    "\n",
    "date_idx = covid[\"date\"].index(\"2020-02-03\")\n",
    "print(\"日期->索引转换：\", date_idx)\n",
    "\n",
    "import numpy as np\n",
    "data = np.array(covid[\"data\"])\n",
    "\n",
    "for header, number in zip(covid[\"header\"], data[date_idx]):\n",
    "    print(header, \":\", number)"
   ]
  },
  {
   "cell_type": "markdown",
   "id": "5d3f69c2",
   "metadata": {},
   "source": [
    "至于，这些人数为什么会是一个小数呢？因为 Numpy 在存储一批数据的时候，它会把数据都存成一个模式，在这套数据中，我们都是以小数（float64）的形式存储的， 所以你才会看到有小数点。"
   ]
  },
  {
   "cell_type": "markdown",
   "id": "91e16259",
   "metadata": {},
   "source": [
    "### 累积确诊\n",
    "#### 2020 年 1 月 24 日之前的累积确诊病例有多少个？\n",
    "\n",
    "有了上一个任务的基础，这个任务我们就更加细致地去获取某个具体的数值，我们确定完日期（row）的 index 之后，在确定标题 （column）的 index。 在这个案例中，我们要确定累积确诊数（Conformed）的索引。"
   ]
  },
  {
   "cell_type": "code",
   "execution_count": 3,
   "id": "c8a5f2ee",
   "metadata": {},
   "outputs": [
    {
     "name": "stdout",
     "output_type": "stream",
     "text": [
      "截止 1 月 24 日的累积确诊数： 941.0\n"
     ]
    }
   ],
   "source": [
    "row_idx = covid[\"date\"].index(\"2020-01-24\")     # 获取日期索引\n",
    "column_idx = covid[\"header\"].index(\"Confirmed\") # 获取标题的索引\n",
    "confirmed0124 = data[row_idx, column_idx]\n",
    "print(\"截止 1 月 24 日的累积确诊数：\", confirmed0124)"
   ]
  },
  {
   "cell_type": "markdown",
   "id": "76a8574e",
   "metadata": {},
   "source": [
    "### 新增死亡\n",
    "#### 2020 年 7 月 23 日的新增死亡数是多少？\n",
    "\n",
    "这还是一个在 Numpy Array 中选取数据的过程，我们要搞清楚具体的索引是什么。上面我们已经找到了确诊数的标题（Conformed），现在你来找一下哪个标题对应着新增死亡数？\n",
    "\n",
    "没错！就是New deaths, 我们再按上面的流程把这个数据给拿出来。"
   ]
  },
  {
   "cell_type": "code",
   "execution_count": 4,
   "id": "97c04169",
   "metadata": {},
   "outputs": [
    {
     "name": "stdout",
     "output_type": "stream",
     "text": [
      "截止 7 月 23 日的新增死亡数： 9966.0\n"
     ]
    }
   ],
   "source": [
    "row_idx = covid[\"date\"].index(\"2020-07-23\")     # 获取日期索引\n",
    "column_idx = covid[\"header\"].index(\"New deaths\") # 获取标题的索引\n",
    "result = data[row_idx, column_idx]\n",
    "print(\"截止 7 月 23 日的新增死亡数：\", result)"
   ]
  },
  {
   "cell_type": "markdown",
   "id": "dbf243db",
   "metadata": {},
   "source": [
    "### 总增长数\n",
    "#### 从 1 月 25 日到 7 月 22 日，一共增长了多少确诊病例？\n",
    "\n",
    "获取数据都是小儿科，我们来点真正的数据分析。要基于原有的数据，进行多次加工，来获取新的结论和结果。在这个任务中，我们要进行一次累和的计算。"
   ]
  },
  {
   "cell_type": "code",
   "execution_count": 5,
   "id": "fc218871",
   "metadata": {},
   "outputs": [
    {
     "name": "stdout",
     "output_type": "stream",
     "text": [
      "共新增： 15247309.0\n"
     ]
    }
   ],
   "source": [
    "row1_idx = covid[\"date\"].index(\"2020-01-25\")\n",
    "row2_idx = covid[\"date\"].index(\"2020-07-22\")\n",
    "new_cases_idx = covid[\"header\"].index(\"New cases\")\n",
    "\n",
    "# 注意要 row1_idx+1 得到从 01-25 这一天的新增\n",
    "# row2_idx+1 来包含 7 月 22 的结果\n",
    "new_cases = data[row1_idx+1: row2_idx+1, new_cases_idx]\n",
    "overall = new_cases.sum()\n",
    "print(\"共新增：\", overall)"
   ]
  },
  {
   "cell_type": "markdown",
   "id": "27318553",
   "metadata": {},
   "source": [
    "有的同学肯定会问了，我们不是有累积确诊的个数嘛，我也能用累计确诊的那一 column 来计算出这段时间内的确诊病例数呀。 好的，我们就来按这种方法计算一下。"
   ]
  },
  {
   "cell_type": "code",
   "execution_count": 6,
   "id": "a87707ef",
   "metadata": {},
   "outputs": [
    {
     "name": "stdout",
     "output_type": "stream",
     "text": [
      "共新增： 15226291.0\n"
     ]
    }
   ],
   "source": [
    "confirm_idx = covid[\"header\"].index(\"Confirmed\")\n",
    "confirmed = data[:, confirm_idx]\n",
    "overall2 = confirmed[row2_idx] - confirmed[row1_idx]\n",
    "print(\"共新增：\", overall2)"
   ]
  },
  {
   "cell_type": "markdown",
   "id": "886a5659",
   "metadata": {},
   "source": [
    "奇怪了，为什么两种计算结果对应不上呢？我大胆猜想一下，可能是因为有人感染了两次或多次，导致新增的数据中重复计算了。 所以用新增数据来算的话，比累积确诊的方式来计算的要多。\n",
    "\n",
    "我们还能具体分析看看，具体是哪天的数据对不上，详细输出一下。"
   ]
  },
  {
   "cell_type": "code",
   "execution_count": 7,
   "id": "4fe95107",
   "metadata": {},
   "outputs": [
    {
     "name": "stdout",
     "output_type": "stream",
     "text": [
      "date index: 62 ;差异： 15.0\n",
      "date index: 81 ;差异： 21.0\n",
      "date index: 87 ;差异： 1.0\n",
      "date index: 91 ;差异： 2188.0\n",
      "date index: 93 ;差异： 10034.0\n",
      "date index: 95 ;差异： 1.0\n",
      "date index: 97 ;差异： 105.0\n",
      "date index: 98 ;差异： 2512.0\n",
      "date index: 101 ;差异： 167.0\n",
      "date index: 103 ;差异： 1.0\n",
      "date index: 106 ;差异： 1583.0\n",
      "date index: 107 ;差异： 1480.0\n",
      "date index: 109 ;差异： 9.0\n",
      "date index: 110 ;差异： 57.0\n",
      "date index: 111 ;差异： 20.0\n",
      "date index: 112 ;差异： 165.0\n",
      "date index: 113 ;差异： 1.0\n",
      "date index: 118 ;差异： 209.0\n",
      "date index: 120 ;差异： 104.0\n",
      "date index: 124 ;差异： 372.0\n",
      "date index: 125 ;差异： 220.0\n",
      "date index: 132 ;差异： 766.0\n",
      "date index: 133 ;差异： 1.0\n",
      "date index: 149 ;差异： 148.0\n",
      "date index: 158 ;差异： 719.0\n",
      "date index: 163 ;差异： 1.0\n",
      "date index: 175 ;差异： 5.0\n",
      "date index: 176 ;差异： 3.0\n",
      "date index: 181 ;差异： 110.0\n"
     ]
    }
   ],
   "source": [
    "confirmed = data[:, confirm_idx]\n",
    "new_cases = data[:, new_cases_idx]\n",
    "\n",
    "for i in range(row1_idx, row2_idx+1):\n",
    "    diff = new_cases[i] - (confirmed[i] - confirmed[i-1]) \n",
    "    if diff != 0:\n",
    "        print(\"date index:\", i, \";差异：\", diff)"
   ]
  },
  {
   "cell_type": "markdown",
   "id": "90e4941c",
   "metadata": {},
   "source": [
    "### 确诊恢复比例\n",
    "#### 每天新增确诊数和新恢复数的比例？平均比例，标准差各是多少？\n",
    "\n",
    "这一个任务，我们需要再计算计算，会要使用到 Numpy 的批量计算功能，首先确定要拿取到的数据是什么，然后再对这些数据进行计算。 按要求，我们要拿到新增确诊数（New cases），和新的恢复数（New recovered）,然后再相除，最后再计算平均值和标准差。"
   ]
  },
  {
   "cell_type": "code",
   "execution_count": 8,
   "id": "b37a46cd",
   "metadata": {},
   "outputs": [
    {
     "name": "stdout",
     "output_type": "stream",
     "text": [
      "比例样本： [         nan  49.5         47.83333333 164.33333333  52.61538462]\n"
     ]
    },
    {
     "name": "stderr",
     "output_type": "stream",
     "text": [
      "C:\\Users\\OS\\Anaconda3\\envs\\rl_env\\lib\\site-packages\\ipykernel_launcher.py:5: RuntimeWarning: invalid value encountered in true_divide\n",
      "  \"\"\"\n"
     ]
    }
   ],
   "source": [
    "new_cases_idx = covid[\"header\"].index(\"New cases\")\n",
    "new_recovered_idx = covid[\"header\"].index(\"New recovered\")\n",
    "\n",
    "# 比例\n",
    "ratio = data[:, new_cases_idx] / data[:, new_recovered_idx]\n",
    "print(\"比例样本：\", ratio[:5])"
   ]
  },
  {
   "cell_type": "markdown",
   "id": "3b8f59f8",
   "metadata": {},
   "source": [
    "咦奇怪了，我什么第一个是 nan 呢？nan 在 numpy 中表示的是 Not a Number， 说明计算有问题。我们单独打印一下，看看为什么出现 nan。"
   ]
  },
  {
   "cell_type": "code",
   "execution_count": 9,
   "id": "623a0fe8",
   "metadata": {},
   "outputs": [
    {
     "name": "stdout",
     "output_type": "stream",
     "text": [
      "0.0\n",
      "0.0\n"
     ]
    }
   ],
   "source": [
    "print(data[0, new_cases_idx])\n",
    "print(data[0, new_recovered_idx])"
   ]
  },
  {
   "cell_type": "markdown",
   "id": "c05acd79",
   "metadata": {},
   "source": [
    "原来是因为 new_recovered_idx 的第一个位置数据为 0，任何数除以 0 是不成立的，所以才会把这个计算给出一个 nan 的结果。 你看做数据分析还是挺有意思吧，会出现各种意想不到的状况。然后我们把 new_recovered 为零的数都剔除掉。"
   ]
  },
  {
   "cell_type": "code",
   "execution_count": 10,
   "id": "768ad577",
   "metadata": {},
   "outputs": [
    {
     "name": "stdout",
     "output_type": "stream",
     "text": [
      "平均比例： 7.049556348053241 ；标准差： 19.094025710450307\n"
     ]
    }
   ],
   "source": [
    "not_zero_mask = data[:, new_recovered_idx] != 0 #mask的使用\n",
    "ratio = data[not_zero_mask, new_cases_idx] / data[not_zero_mask, new_recovered_idx]\n",
    "\n",
    "# 平均比例, 标准差\n",
    "ratio_mean = ratio.mean()\n",
    "ratio_std = ratio.std()\n",
    "print(\"平均比例：\", ratio_mean, \"；标准差：\", ratio_std)"
   ]
  },
  {
   "cell_type": "markdown",
   "id": "d42d0f94",
   "metadata": {},
   "source": [
    "得到计算结果后，我们还是能明显发现，被治好的人的确比新增的要多，这就说明，我们自己的存活率还是挺高的。"
   ]
  },
  {
   "cell_type": "markdown",
   "id": "a3cf064a",
   "metadata": {},
   "source": [
    "### 可视化数据\n",
    "#### 画图展示新增确诊的变化曲线\n",
    "\n",
    "有时候，光秃秃的数字并不能生动表现这些数字背后的规律。我们还可以把它画出来。至于如何画，我给你做了一个 draw_line() 的函数，这个函数的背后是 Python 的画图工具 Matplotlib. 不过在这个教程中，并不是重点，我会在之后的画图教程中详细介绍。\n",
    "\n",
    "现在，我们就来做新增确诊的可视化数据吧。"
   ]
  },
  {
   "cell_type": "code",
   "execution_count": 11,
   "id": "94392cd9",
   "metadata": {},
   "outputs": [
    {
     "ename": "NameError",
     "evalue": "name 'draw_line' is not defined",
     "output_type": "error",
     "traceback": [
      "\u001b[1;31m---------------------------------------------------------------------------\u001b[0m",
      "\u001b[1;31mNameError\u001b[0m                                 Traceback (most recent call last)",
      "\u001b[1;32m<ipython-input-11-d4d57ff4ae5f>\u001b[0m in \u001b[0;36m<module>\u001b[1;34m\u001b[0m\n\u001b[0;32m      1\u001b[0m \u001b[0mnew_cases_idx\u001b[0m \u001b[1;33m=\u001b[0m \u001b[0mcovid\u001b[0m\u001b[1;33m[\u001b[0m\u001b[1;34m\"header\"\u001b[0m\u001b[1;33m]\u001b[0m\u001b[1;33m.\u001b[0m\u001b[0mindex\u001b[0m\u001b[1;33m(\u001b[0m\u001b[1;34m\"New cases\"\u001b[0m\u001b[1;33m)\u001b[0m\u001b[1;33m\u001b[0m\u001b[1;33m\u001b[0m\u001b[0m\n\u001b[1;32m----> 2\u001b[1;33m \u001b[0mdraw_line\u001b[0m\u001b[1;33m(\u001b[0m\u001b[0mdata\u001b[0m\u001b[1;33m[\u001b[0m\u001b[1;33m:\u001b[0m\u001b[1;33m,\u001b[0m \u001b[0mnew_cases_idx\u001b[0m\u001b[1;33m]\u001b[0m\u001b[1;33m)\u001b[0m\u001b[1;33m\u001b[0m\u001b[1;33m\u001b[0m\u001b[0m\n\u001b[0m",
      "\u001b[1;31mNameError\u001b[0m: name 'draw_line' is not defined"
     ]
    }
   ],
   "source": [
    "new_cases_idx = covid[\"header\"].index(\"New cases\")\n",
    "draw_line(data[:, new_cases_idx])"
   ]
  },
  {
   "cell_type": "markdown",
   "id": "e18f833e",
   "metadata": {},
   "source": [
    "不画不知道，一画出来就吓一跳，在前半部分的时候，确诊数还在缓慢增长，但是在 50 天左右的时候，发现新增确诊数陡增。我们看看第 50 天是哪个日期。 新冠在前期还是传播得十分迅速的。"
   ]
  },
  {
   "cell_type": "code",
   "execution_count": 12,
   "id": "cbb5de16",
   "metadata": {},
   "outputs": [
    {
     "name": "stdout",
     "output_type": "stream",
     "text": [
      "2020-03-12\n"
     ]
    }
   ],
   "source": [
    "print(covid[\"date\"][50])"
   ]
  },
  {
   "cell_type": "markdown",
   "id": "46019d12",
   "metadata": {},
   "source": [
    "### 画图展示死亡率的变化曲线\n",
    "\n",
    "画这个图也非常简单，我们只要找到对应的 column 就行。我只是觉得这个数据比较有趣，想看看人类对于一个陌生疾病的斗争历史。 因为在前期，我们对新冠还不了解的时候，可能死亡率还是比价高的，但是随着了解的加深，政策的颁布，疫苗的发布，死亡率应该都会有变化。"
   ]
  },
  {
   "cell_type": "code",
   "execution_count": 13,
   "id": "4f4984f6",
   "metadata": {},
   "outputs": [
    {
     "ename": "NameError",
     "evalue": "name 'draw_line' is not defined",
     "output_type": "error",
     "traceback": [
      "\u001b[1;31m---------------------------------------------------------------------------\u001b[0m",
      "\u001b[1;31mNameError\u001b[0m                                 Traceback (most recent call last)",
      "\u001b[1;32m<ipython-input-13-469b1eec86cb>\u001b[0m in \u001b[0;36m<module>\u001b[1;34m\u001b[0m\n\u001b[0;32m      1\u001b[0m \u001b[0mdeath_ratio_idx\u001b[0m \u001b[1;33m=\u001b[0m \u001b[0mcovid\u001b[0m\u001b[1;33m[\u001b[0m\u001b[1;34m\"header\"\u001b[0m\u001b[1;33m]\u001b[0m\u001b[1;33m.\u001b[0m\u001b[0mindex\u001b[0m\u001b[1;33m(\u001b[0m\u001b[1;34m\"Deaths / 100 Cases\"\u001b[0m\u001b[1;33m)\u001b[0m\u001b[1;33m\u001b[0m\u001b[1;33m\u001b[0m\u001b[0m\n\u001b[1;32m----> 2\u001b[1;33m \u001b[0mdraw_line\u001b[0m\u001b[1;33m(\u001b[0m\u001b[0mdata\u001b[0m\u001b[1;33m[\u001b[0m\u001b[1;33m:\u001b[0m\u001b[1;33m,\u001b[0m \u001b[0mdeath_ratio_idx\u001b[0m\u001b[1;33m]\u001b[0m\u001b[1;33m)\u001b[0m\u001b[1;33m\u001b[0m\u001b[1;33m\u001b[0m\u001b[0m\n\u001b[0m",
      "\u001b[1;31mNameError\u001b[0m: name 'draw_line' is not defined"
     ]
    }
   ],
   "source": [
    "death_ratio_idx = covid[\"header\"].index(\"Deaths / 100 Cases\")\n",
    "draw_line(data[:, death_ratio_idx])"
   ]
  },
  {
   "cell_type": "markdown",
   "id": "172329e5",
   "metadata": {},
   "source": [
    "你看，结果也是能在图上看到的，大概在 100 天左右的时候，死亡率开始下降了，100 个人中死 7 个，逐渐变成死 4 个。可见当时各种政策的颁布还是有效果的。"
   ]
  },
  {
   "cell_type": "markdown",
   "id": "b3360996",
   "metadata": {},
   "source": [
    "### 总结\n",
    "数据分析是一件非常有趣的事情。我之前租房子，还用爬虫做过悉尼各地区的房价分析，为我的租房开销节省了不少钱。其中我就用到了 numpy 来管理我爬取到的数据。"
   ]
  },
  {
   "cell_type": "code",
   "execution_count": null,
   "id": "44f1dd87",
   "metadata": {},
   "outputs": [],
   "source": []
  }
 ],
 "metadata": {
  "kernelspec": {
   "display_name": "Python 3",
   "language": "python",
   "name": "python3"
  },
  "language_info": {
   "codemirror_mode": {
    "name": "ipython",
    "version": 3
   },
   "file_extension": ".py",
   "mimetype": "text/x-python",
   "name": "python",
   "nbconvert_exporter": "python",
   "pygments_lexer": "ipython3",
   "version": "3.6.13"
  }
 },
 "nbformat": 4,
 "nbformat_minor": 5
}
