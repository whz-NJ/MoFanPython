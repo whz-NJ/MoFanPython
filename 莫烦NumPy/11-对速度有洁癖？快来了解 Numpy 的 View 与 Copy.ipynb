{
 "cells": [
  {
   "cell_type": "markdown",
   "id": "d054c474",
   "metadata": {},
   "source": [
    "Numpy 之所以运算快，是有道理的，我们就在这节内容中尝试去理解 Numpy 底层的运行逻辑。其中，有一个非常重要的概念， 那就是 View 和 Copy，你会发现，有可能前几天要花 10 天处理完的数据，学完这个之后，一优化，只需要 1 小时就搞定了。\n",
    "\n",
    "我在读博的时候，博一写的代码被博二的我嫌弃，其中的一个原因是不太清楚框架内部属性， 效率太慢了。研究 Numpy 的加速问题，也是因为我要常用 Numpy 做深度学习，强化学习的程序模拟， 一做就可能是 2 小时甚至是 1 天，而弄懂 Numpy 底层原理后，我的代码速度可以上升好几倍。\n",
    "\n",
    "我之前在知乎上写过一篇文章关于 Numpy 加速的文章( https://zhuanlan.zhihu.com/p/28626431 ), 我认为其中有些环节很重要，也很有必要放在这个教程中。"
   ]
  },
  {
   "cell_type": "code",
   "execution_count": null,
   "id": "a70033f0",
   "metadata": {},
   "outputs": [],
   "source": []
  }
 ],
 "metadata": {
  "kernelspec": {
   "display_name": "Python 3",
   "language": "python",
   "name": "python3"
  },
  "language_info": {
   "codemirror_mode": {
    "name": "ipython",
    "version": 3
   },
   "file_extension": ".py",
   "mimetype": "text/x-python",
   "name": "python",
   "nbconvert_exporter": "python",
   "pygments_lexer": "ipython3",
   "version": "3.6.13"
  }
 },
 "nbformat": 4,
 "nbformat_minor": 5
}
