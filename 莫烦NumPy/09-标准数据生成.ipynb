{
 "cells": [
  {
   "cell_type": "markdown",
   "id": "f605e890",
   "metadata": {},
   "source": [
    "数据是多变的，不光是数据的形态多变，里面的数值也是多变的。通常，我们在创建一个 Numpy Array 的时候， 是想带着一些数值来初始化的，比如我想先要一个全零的 Array。\n",
    "\n",
    "所以这节内容，我想来说说怎么带着数值初始化，可以带着怎样的数值初始化。"
   ]
  },
  {
   "attachments": {
    "image.png": {
     "image/png": "[encoded data removed]"
    }
   },
   "cell_type": "markdown",
   "id": "afcf9950",
   "metadata": {},
   "source": [
    "### 创建统一数据\n",
    "首先来点简单的，初始化 Array 的时候，让他们全部都为某数。最简单的就是全 0 或者全 1 的数据。\n",
    "![image.png](attachment:image.png)"
   ]
  },
  {
   "cell_type": "code",
   "execution_count": 1,
   "id": "914d6b45",
   "metadata": {},
   "outputs": [
    {
     "name": "stdout",
     "output_type": "stream",
     "text": [
      "zeros:\n",
      " [[0. 0. 0.]\n",
      " [0. 0. 0.]]\n",
      "\n",
      "ones:\n",
      " [[1. 1.]\n",
      " [1. 1.]\n",
      " [1. 1.]]\n"
     ]
    }
   ],
   "source": [
    "import numpy as np\n",
    "\n",
    "zeros = np.zeros([2, 3])\n",
    "print(\"zeros:\\n\", zeros)\n",
    "\n",
    "ones = np.ones([3, 2])\n",
    "print(\"\\nones:\\n\", ones)"
   ]
  },
  {
   "cell_type": "markdown",
   "id": "fb74cf81",
   "metadata": {},
   "source": [
    "你会发现，创建这些数据时，我们不光光可以给定要创建的具体数值是 0 还是 1，而且还能指定这个数据的 shape 是什么。 创建出来后，你就可以把它当成普通的 Array 数据使用就好了，要 reshape, transpose, 还是 sum 等操作，都是可以进行的。不信你就在上面的代码框试试。\n",
    "\n",
    "我们可以创建 0 或 1 的数据，那我们能不能创建其它数值的数据的？答案是肯定的，用 np.full() 功能就好了。 同样，我们先输入这份数据的 shape，然后指定这份数据要全是什么数值。"
   ]
  },
  {
   "cell_type": "code",
   "execution_count": 2,
   "id": "31cdcb8d",
   "metadata": {},
   "outputs": [
    {
     "name": "stdout",
     "output_type": "stream",
     "text": [
      "[[9 9 9]\n",
      " [9 9 9]]\n"
     ]
    }
   ],
   "source": [
    "nines = np.full([2,3], 9)\n",
    "print(nines)"
   ]
  },
  {
   "cell_type": "markdown",
   "id": "3186fe23",
   "metadata": {},
   "source": [
    "在处理 shape 的时候，有件有趣的事。如果我们手头已经有一份数据，我们想创建一个和它类型一样，大小一样的另一份数据， 我们可以调用 np.xxx_like 这种形式的功能。看看下面这个例子，你就明白我的意思了。"
   ]
  },
  {
   "cell_type": "code",
   "execution_count": 3,
   "id": "a9342594",
   "metadata": {},
   "outputs": [
    {
     "name": "stdout",
     "output_type": "stream",
     "text": [
      "ones: (2, 3) int64\n",
      "ones_like: (2, 3) int64\n",
      "ones_like value:\n",
      " [[1 1 1]\n",
      " [1 1 1]]\n"
     ]
    }
   ],
   "source": [
    "data = np.array([\n",
    "[1,2,3],\n",
    "[4,5,6]\n",
    "], dtype=np.int64)\n",
    "\n",
    "ones = np.ones(data.shape, dtype=data.dtype)\n",
    "ones_like = np.ones_like(data)\n",
    "\n",
    "print(\"ones:\", ones.shape, ones.dtype)\n",
    "print(\"ones_like:\", ones_like.shape, ones_like.dtype)\n",
    "print(\"ones_like value:\\n\", ones_like)"
   ]
  },
  {
   "cell_type": "markdown",
   "id": "fbb544cb",
   "metadata": {},
   "source": [
    "因为 dtype 和 shape 都和源数据一样，那么它们俩之间做加减乘除运算就很契合了。 从上面的案例看出，其实 ones_like 其实算是一种偷懒功能，少写一些字而已。\n",
    "\n",
    "同理，我们还有 np.zeros_like() 和 np.full_like() 这两种。"
   ]
  },
  {
   "cell_type": "code",
   "execution_count": 4,
   "id": "754ba128",
   "metadata": {},
   "outputs": [
    {
     "name": "stdout",
     "output_type": "stream",
     "text": [
      "[[0 0 0]\n",
      " [0 0 0]]\n",
      "[[6 6 6]\n",
      " [6 6 6]]\n"
     ]
    }
   ],
   "source": [
    "print(np.zeros_like(data))\n",
    "print(np.full_like(data, 6))"
   ]
  },
  {
   "cell_type": "markdown",
   "id": "3252022a",
   "metadata": {},
   "source": [
    "创建统一数值的数据就是这么简单。"
   ]
  },
  {
   "cell_type": "markdown",
   "id": "7d9349e2",
   "metadata": {},
   "source": [
    "### 创建规则数据\n",
    "而创建有些规律的数据也是 Numpy 的拿手好戏。首先我要说一个最常见的，arange 功能，这就有点像 Python 里的 range 功能，用来得到一个序列，我举个例子。"
   ]
  },
  {
   "cell_type": "code",
   "execution_count": 5,
   "id": "df0bf782",
   "metadata": {},
   "outputs": [
    {
     "name": "stdout",
     "output_type": "stream",
     "text": [
      "python range: [0, 1, 2, 3, 4]\n",
      "numpy arange: [0 1 2 3 4]\n"
     ]
    }
   ],
   "source": [
    "print(\"python range:\", list(range(5)))\n",
    "print(\"numpy arange:\", np.arange(5))"
   ]
  },
  {
   "cell_type": "markdown",
   "id": "4e8a2737",
   "metadata": {},
   "source": [
    "同样，np.arange() 也可以像 range() 一样，对范围做自定义更变或跳跃取值。"
   ]
  },
  {
   "cell_type": "code",
   "execution_count": 6,
   "id": "c72e63f8",
   "metadata": {},
   "outputs": [
    {
     "name": "stdout",
     "output_type": "stream",
     "text": [
      "python range: [3, 5, 7, 9]\n",
      "numpy arange: [3 5 7 9]\n"
     ]
    }
   ],
   "source": [
    "# (start, end, step) \n",
    "print(\"python range:\", list(range(3, 10, 2)))\n",
    "print(\"numpy arange:\", np.arange(3, 10, 2))"
   ]
  },
  {
   "cell_type": "markdown",
   "id": "0434ef37",
   "metadata": {},
   "source": [
    "还有一个也是用来取一段数字中的值，这个我也比较常用，特别是在画折线图的时候，我想要连续在一个区间内取间隔一致的数据点。 里面的参数分别代表从 start 的值到 end 的值，一共返回这中间 num 个数据点。"
   ]
  },
  {
   "cell_type": "code",
   "execution_count": 7,
   "id": "2b49d459",
   "metadata": {},
   "outputs": [
    {
     "name": "stdout",
     "output_type": "stream",
     "text": [
      "linspace: [-1.  -0.5  0.   0.5  1. ]\n"
     ]
    }
   ],
   "source": [
    "# (start, end, num)\n",
    "print(\"linspace:\", np.linspace(-1, 1, 5))"
   ]
  },
  {
   "cell_type": "markdown",
   "id": "197c6a9e",
   "metadata": {},
   "source": [
    "更厉害的是，有时候我们会很纠结，上面是在-1 至 1 之间分了 4 个区域。 而我们想在-1 至 1 之间分 5 个区域，怎么搞？加一个 endpoint=False 就可以返回这 5 个区域的结节点了。"
   ]
  },
  {
   "cell_type": "code",
   "execution_count": 8,
   "id": "13909355",
   "metadata": {},
   "outputs": [
    {
     "name": "stdout",
     "output_type": "stream",
     "text": [
      "5 segments: [-1.  -0.6 -0.2  0.2  0.6]\n"
     ]
    }
   ],
   "source": [
    "print(\"5 segments:\", np.linspace(-1, 1, 5, endpoint=False))"
   ]
  },
  {
   "cell_type": "markdown",
   "id": "c6adf329",
   "metadata": {},
   "source": [
    "还有很多做特殊规则的数据的方式，比如 np.identity(), np.eye(), np.logspace() 等等， 这个教学我先介绍一些常用的，当你有需要的时候，你再单个搜索就行了。"
   ]
  },
  {
   "cell_type": "markdown",
   "id": "6232cbf0",
   "metadata": {},
   "source": [
    "### 快速创建再添加值\n",
    "和 np.ones() 这种很相似的，有一个叫 np.empty() 功能，我想单独拎出来介绍一下。 如果你对运算速度有要求，你就得仔细听一下。\n",
    "\n",
    "np.empty() 功能，不会初始化新建 array 里面的数值，所以你会看到这里面的数值都是乱乱的。 注意，虽然乱乱的，但是它不是随机数哦，你不能把它当随机数使用。 想用随机数的话，我后面有单独一个教学讲随机数。"
   ]
  },
  {
   "cell_type": "code",
   "execution_count": 9,
   "id": "2c24ea32",
   "metadata": {},
   "outputs": [
    {
     "name": "stdout",
     "output_type": "stream",
     "text": [
      "[[2.12290241e-314 2.12264338e-314 1.28822975e-231]\n",
      " [2.02369289e-320 0.00000000e+000 0.00000000e+000]\n",
      " [0.00000000e+000 0.00000000e+000 0.00000000e+000]\n",
      " [0.00000000e+000 0.00000000e+000 0.00000000e+000]]\n"
     ]
    }
   ],
   "source": [
    "print(np.empty([4,3]))"
   ]
  },
  {
   "cell_type": "markdown",
   "id": "64a0d565",
   "metadata": {},
   "source": [
    "那又不能当随机数，又没有具体数值，这个 empty 到底为什么存在呢？\n",
    "\n",
    "首先，可以当成一个 placeholder，一个容器先放着，之后慢慢放数据\n",
    "创建起来比 ones, zeros, full 都快一点点\n",
    "所以在这种情况下，我们才想使用 np.empty()。我们来对比一下创建速度。"
   ]
  },
  {
   "cell_type": "code",
   "execution_count": 10,
   "id": "fcd80fff",
   "metadata": {},
   "outputs": [
    {
     "name": "stdout",
     "output_type": "stream",
     "text": [
      "ones time: 0.011967182159423828\n",
      "empty time: 0.0009980201721191406\n"
     ]
    }
   ],
   "source": [
    "import time\n",
    "t0 = time.time()\n",
    "\n",
    "for _ in range(1000):\n",
    "    _ = np.ones([100, 100])\n",
    "\n",
    "t1 = time.time()\n",
    "for _ in range(1000):\n",
    "    _ = np.empty([100, 100])\n",
    "\n",
    "t2 = time.time()\n",
    "print(\"ones time:\", t1 - t0)\n",
    "print(\"empty time:\", t2 - t1)"
   ]
  },
  {
   "cell_type": "markdown",
   "id": "c8a91e28",
   "metadata": {},
   "source": [
    "我这里的结果是：还是可以快了几倍的速度。看完速度，我给你看看我一般是怎么使用的吧："
   ]
  },
  {
   "cell_type": "code",
   "execution_count": 11,
   "id": "e2e44009",
   "metadata": {},
   "outputs": [
    {
     "name": "stdout",
     "output_type": "stream",
     "text": [
      "empty before:\n",
      " [[3.e-323 3.e-323 3.e-323]\n",
      " [3.e-323 3.e-323 3.e-323]]\n",
      "empty after:\n",
      " [[0.         0.18591887 1.63698944]\n",
      " [1.58696337 3.71094849 2.11331455]]\n"
     ]
    }
   ],
   "source": [
    "import random\n",
    "\n",
    "empty = np.empty([2,3])\n",
    "print(\"empty before:\\n\", empty)\n",
    "data = np.arange(6).reshape([2, 3])\n",
    "for i in range(data.shape[0]):\n",
    "    for j in range(data.shape[1]):\n",
    "        empty[i, j] = data[i, j] * random.random()\n",
    "print(\"empty after:\\n\", empty)"
   ]
  },
  {
   "cell_type": "markdown",
   "id": "4b3ec7c9",
   "metadata": {},
   "source": [
    "所以一般当我有一个数据要根据另一份数据生成的时候，无论我初始化是什么值，到最终都要全部被替换的时候，我就喜欢用 np.empty()。 ok，最后说一句，有 np.empty()，我们也有 np.empty_like() 用法和 np.zeros_like() 这种类似，很方便用的。"
   ]
  },
  {
   "cell_type": "markdown",
   "id": "21c11dd1",
   "metadata": {},
   "source": [
    "### 总结\n",
    "不容易，你有多了解了一点 Numpy 作为数据怪兽的新功能。能够按自己的想法初始化最符合你需要的数据啦。"
   ]
  },
  {
   "cell_type": "code",
   "execution_count": null,
   "id": "b45e87ec",
   "metadata": {},
   "outputs": [],
   "source": []
  }
 ],
 "metadata": {
  "kernelspec": {
   "display_name": "Python 3",
   "language": "python",
   "name": "python3"
  },
  "language_info": {
   "codemirror_mode": {
    "name": "ipython",
    "version": 3
   },
   "file_extension": ".py",
   "mimetype": "text/x-python",
   "name": "python",
   "nbconvert_exporter": "python",
   "pygments_lexer": "ipython3",
   "version": "3.6.13"
  }
 },
 "nbformat": 4,
 "nbformat_minor": 5
}
